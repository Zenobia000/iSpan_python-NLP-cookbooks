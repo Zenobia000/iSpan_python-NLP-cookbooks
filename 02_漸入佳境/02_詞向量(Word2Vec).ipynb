{
 "cells": [
  {
   "cell_type": "code",
   "execution_count": 1,
   "id": "1bbe0e5c",
   "metadata": {},
   "outputs": [
    {
     "name": "stdout",
     "output_type": "stream",
     "text": [
      "Defaulting to user installation because normal site-packages is not writeable\n",
      "Requirement already satisfied: gensim in c:\\program files\\python310\\lib\\site-packages (4.2.0)\n",
      "Requirement already satisfied: numpy>=1.17.0 in c:\\users\\xdxd2\\appdata\\roaming\\python\\python310\\site-packages (from gensim) (1.23.5)\n",
      "Requirement already satisfied: scipy>=0.18.1 in c:\\users\\xdxd2\\appdata\\roaming\\python\\python310\\site-packages (from gensim) (1.9.2)\n",
      "Requirement already satisfied: smart-open>=1.8.1 in c:\\program files\\python310\\lib\\site-packages (from gensim) (6.2.0)\n",
      "Requirement already satisfied: Cython==0.29.28 in c:\\program files\\python310\\lib\\site-packages (from gensim) (0.29.28)\n"
     ]
    }
   ],
   "source": [
    "# 安裝 gensim\n",
    "!pip install gensim"
   ]
  },
  {
   "cell_type": "code",
   "execution_count": 3,
   "id": "cd6242a3",
   "metadata": {},
   "outputs": [],
   "source": [
    "# 匯入套件\n",
    "from gensim.models import Word2Vec\n",
    "import jieba"
   ]
  },
  {
   "cell_type": "code",
   "execution_count": 5,
   "id": "a2d7c0e8",
   "metadata": {},
   "outputs": [
    {
     "data": {
      "text/plain": [
       "[['我', '喜歡', '閱讀', '書籍'],\n",
       " ['我', '也', '喜歡', '使用', '電腦來', '學習', '新', '的', '知識'],\n",
       " ['閱讀', '可以', '開闊', '我們', '的', '視野'],\n",
       " ['電腦', '是', '現代學習', '的', '重要', '工具']]"
      ]
     },
     "execution_count": 5,
     "metadata": {},
     "output_type": "execute_result"
    }
   ],
   "source": [
    "# 句子 (也可以是一篇文章)\n",
    "sentences = [\n",
    "    \"我喜歡閱讀書籍\",\n",
    "    \"我也喜歡使用電腦來學習新的知識\",\n",
    "    \"閱讀可以開闊我們的視野\",\n",
    "    \"電腦是現代學習的重要工具\"\n",
    "]\n",
    "\n",
    "# 使用 jieba 進行斷詞\n",
    "sentences = [jieba.lcut(sentence) for sentence in sentences]; sentences"
   ]
  },
  {
   "cell_type": "code",
   "execution_count": 6,
   "id": "ad2b1fbf",
   "metadata": {},
   "outputs": [],
   "source": [
    "# 句子 (也可以是一篇文章)\n",
    "sentences = [\n",
    "    \"我喜歡閱讀書籍\",\n",
    "    \"我也喜歡使用電腦來學習新的知識\",\n",
    "    \"閱讀可以開闊我們的視野\",\n",
    "    \"電腦是現代學習的重要工具\"\n",
    "]\n",
    "\n",
    "# 使用 jieba 進行斷詞\n",
    "sentences = [jieba.lcut(sentence) for sentence in sentences]\n",
    "\n",
    "# 設定參數\n",
    "sg = 0 # sg=1 -> skip-gram, sg=0 -> cbow\n",
    "\n",
    "# 向前看幾個字或向後看幾個字\n",
    "window_size = 2\n",
    "\n",
    "# 向量維度\n",
    "vector_size = 100\n",
    "\n",
    "# 訓練幾回\n",
    "epochs = 20\n",
    "\n",
    "# 最少多少個字才會被使用\n",
    "min_count = 1\n",
    "\n",
    "# seed\n",
    "seed = 42\n",
    "\n",
    "# 建立 Word2Vec 模型\n",
    "model = Word2Vec(\n",
    "    sentences, \n",
    "    vector_size=vector_size,  \n",
    "    window=window_size, \n",
    "    sg=sg, \n",
    "    min_count=1,\n",
    "    seed=seed,\n",
    "    epochs=epochs)"
   ]
  },
  {
   "cell_type": "code",
   "execution_count": 10,
   "id": "0285c5d2",
   "metadata": {},
   "outputs": [
    {
     "name": "stdout",
     "output_type": "stream",
     "text": [
      "[ 6.6547347e-03 -6.0018362e-03  6.0979817e-03 -9.8527549e-03\n",
      "  5.9368517e-03  5.7384875e-03  5.6072855e-03  3.2970167e-03\n",
      " -5.6865811e-04  4.1033067e-03 -4.4575678e-03  5.6145801e-03\n",
      "  1.1129391e-03 -8.2168460e-04  1.1212468e-04  1.3748228e-03\n",
      " -9.2547545e-03 -7.2040604e-03 -5.0903773e-03 -7.7093993e-03\n",
      " -1.2077296e-03  3.3680582e-03  3.0885767e-03 -5.7807681e-04\n",
      "  7.1015991e-03  1.3047218e-03 -8.4160529e-03  5.2999770e-03\n",
      "  1.4920116e-03  2.6943660e-03  1.3074661e-03  1.0715878e-03\n",
      " -8.1886724e-03  1.1841428e-03  5.8982517e-03 -3.9209984e-03\n",
      "  2.0567644e-03 -9.3836440e-03 -3.0500162e-03 -1.2656534e-03\n",
      "  9.6547678e-03 -5.7083070e-03 -4.4690333e-03 -1.8294274e-03\n",
      "  9.8533118e-03  7.0680608e-03 -9.3061412e-03 -5.3212107e-03\n",
      "  6.4334883e-03 -8.8339457e-03  7.1134162e-03 -4.3723225e-03\n",
      "  8.3530424e-03 -4.1281260e-03 -1.3136650e-03  3.2383299e-03\n",
      " -7.4743857e-03  1.1406422e-03  1.0030985e-04  5.6779636e-03\n",
      "  9.9221375e-03  3.2862700e-03 -1.8162716e-03 -1.8722629e-03\n",
      " -1.6408253e-03  6.2804068e-03 -3.5756861e-03 -6.6605425e-03\n",
      " -3.3141719e-03 -9.5457593e-03 -7.8771487e-03 -8.1990436e-03\n",
      "  5.4310476e-03  4.4471859e-03  3.9354158e-03 -7.6245546e-04\n",
      "  4.3411697e-03 -6.7745652e-03  8.0124326e-03  2.0895004e-05\n",
      "  8.7610269e-03 -6.9537582e-03 -5.3398609e-05  3.9264071e-03\n",
      " -8.7482927e-05 -1.0768748e-03 -6.6757188e-03 -2.3795760e-03\n",
      " -5.2246749e-03 -3.9697587e-03  3.6740124e-03  2.6056515e-03\n",
      "  2.1439278e-03 -2.7637482e-03  9.1938507e-03 -8.2470020e-03\n",
      " -3.1481851e-03 -7.6398826e-03 -3.2211244e-03  9.2379525e-03]\n"
     ]
    }
   ],
   "source": [
    "# 取得 \"閱讀\" 這個詞的詞向量\n",
    "vector = model.wv['閱讀']\n",
    "\n",
    "# 輸出 \"閱讀\" 的詞向量\n",
    "print(vector)"
   ]
  },
  {
   "cell_type": "code",
   "execution_count": 11,
   "id": "6b4ce971",
   "metadata": {},
   "outputs": [],
   "source": [
    "# 儲存模型\n",
    "model.save('word2vec.model')"
   ]
  },
  {
   "cell_type": "code",
   "execution_count": 12,
   "id": "8f92f7f3",
   "metadata": {},
   "outputs": [],
   "source": [
    "# 讀取模型\n",
    "loaded_model = Word2Vec.load(\"word2vec.model\")"
   ]
  },
  {
   "cell_type": "code",
   "execution_count": 13,
   "id": "bf4c3a3d",
   "metadata": {},
   "outputs": [
    {
     "data": {
      "text/plain": [
       "[('是', 0.20484842360019684),\n",
       " ('重要', 0.17066122591495514),\n",
       " ('可以', 0.15242119133472443),\n",
       " ('現代學習', 0.13797110319137573),\n",
       " ('的', 0.09096545726060867),\n",
       " ('學習', 0.07103629410266876),\n",
       " ('我們', 0.025877678766846657),\n",
       " ('電腦', 0.005402938928455114),\n",
       " ('喜歡', -0.002975007751956582),\n",
       " ('也', -0.015427679754793644)]"
      ]
     },
     "execution_count": 13,
     "metadata": {},
     "output_type": "execute_result"
    }
   ],
   "source": [
    "# 尋找相近的字詞\n",
    "loaded_model.wv.most_similar('閱讀', topn=10)"
   ]
  },
  {
   "cell_type": "code",
   "execution_count": 14,
   "id": "22bd0497",
   "metadata": {},
   "outputs": [
    {
     "data": {
      "text/plain": [
       "0.10265139"
      ]
     },
     "execution_count": 14,
     "metadata": {},
     "output_type": "execute_result"
    }
   ],
   "source": [
    "# 計算相近度\n",
    "loaded_model.wv.similarity('書籍', '知識')"
   ]
  },
  {
   "cell_type": "code",
   "execution_count": null,
   "id": "a5dd1738",
   "metadata": {},
   "outputs": [],
   "source": []
  }
 ],
 "metadata": {
  "kernelspec": {
   "display_name": "Python 3",
   "language": "python",
   "name": "python3"
  },
  "language_info": {
   "codemirror_mode": {
    "name": "ipython",
    "version": 3
   },
   "file_extension": ".py",
   "mimetype": "text/x-python",
   "name": "python",
   "nbconvert_exporter": "python",
   "pygments_lexer": "ipython3",
   "version": "3.10.7"
  }
 },
 "nbformat": 4,
 "nbformat_minor": 5
}
