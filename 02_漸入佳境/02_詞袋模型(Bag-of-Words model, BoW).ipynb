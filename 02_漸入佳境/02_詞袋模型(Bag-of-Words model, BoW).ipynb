{
 "cells": [
  {
   "cell_type": "markdown",
   "id": "808010a9",
   "metadata": {},
   "source": [
    "# 英文部分"
   ]
  },
  {
   "cell_type": "code",
   "execution_count": null,
   "id": "cd57a9b6",
   "metadata": {},
   "outputs": [],
   "source": [
    "# 安裝套件\n",
    "!pip install scikit-learn pandas"
   ]
  },
  {
   "cell_type": "code",
   "execution_count": 1,
   "id": "c9d6a0cc",
   "metadata": {},
   "outputs": [],
   "source": [
    "# 匯入套件\n",
    "import pandas as pd\n",
    "from sklearn.feature_extraction.text import CountVectorizer"
   ]
  },
  {
   "cell_type": "code",
   "execution_count": 2,
   "id": "05c39f84",
   "metadata": {},
   "outputs": [
    {
     "name": "stdout",
     "output_type": "stream",
     "text": [
      "['afraid' 'and' 'bad' 'be' 'begin' 'better' 'can' 'don' 'get' 'go' 'heart'\n",
      " 'her' 'hey' 'into' 'it' 'jude' 'let' 'made' 'make' 'minute' 'out'\n",
      " 'remember' 'sad' 'skin' 'song' 'start' 'take' 'the' 'then' 'to' 'under'\n",
      " 'were' 'you' 'your']\n",
      "[[0 1 1 0 0 2 1 1 0 0 1 1 1 1 3 1 1 0 3 0 0 1 1 0 1 1 1 0 1 2 0 0 1 1]\n",
      " [1 1 0 1 1 1 0 1 1 1 0 2 1 0 1 1 1 1 1 1 1 0 0 1 0 0 0 1 1 2 1 1 3 1]]\n"
     ]
    }
   ],
   "source": [
    "# 為了預覽 array 結果，匯入必要的套件，以及設定環境\n",
    "import sys\n",
    "import numpy\n",
    "numpy.set_printoptions(threshold=sys.maxsize)\n",
    "\n",
    "# 詞袋模型\n",
    "docs = [\n",
    "    \"Hey Jude, don't make it bad. Take a sad song and make it better. Remember to let her into your heart. Then you can start to make it better.\",\n",
    "    \"Hey Jude, don't be afraid. You were made to go out and get her. The minute you let her under your skin. Then you begin to make it better.\"\n",
    "]\n",
    "vectorizer = CountVectorizer()\n",
    "X = vectorizer.fit_transform(docs)\n",
    "print(vectorizer.get_feature_names_out())\n",
    "print(X.toarray())"
   ]
  },
  {
   "cell_type": "code",
   "execution_count": 3,
   "id": "9d4db308",
   "metadata": {},
   "outputs": [
    {
     "data": {
      "text/html": [
       "<div>\n",
       "<style scoped>\n",
       "    .dataframe tbody tr th:only-of-type {\n",
       "        vertical-align: middle;\n",
       "    }\n",
       "\n",
       "    .dataframe tbody tr th {\n",
       "        vertical-align: top;\n",
       "    }\n",
       "\n",
       "    .dataframe thead th {\n",
       "        text-align: right;\n",
       "    }\n",
       "</style>\n",
       "<table border=\"1\" class=\"dataframe\">\n",
       "  <thead>\n",
       "    <tr style=\"text-align: right;\">\n",
       "      <th></th>\n",
       "      <th>afraid</th>\n",
       "      <th>and</th>\n",
       "      <th>bad</th>\n",
       "      <th>be</th>\n",
       "      <th>begin</th>\n",
       "      <th>better</th>\n",
       "      <th>can</th>\n",
       "      <th>don</th>\n",
       "      <th>get</th>\n",
       "      <th>go</th>\n",
       "      <th>...</th>\n",
       "      <th>song</th>\n",
       "      <th>start</th>\n",
       "      <th>take</th>\n",
       "      <th>the</th>\n",
       "      <th>then</th>\n",
       "      <th>to</th>\n",
       "      <th>under</th>\n",
       "      <th>were</th>\n",
       "      <th>you</th>\n",
       "      <th>your</th>\n",
       "    </tr>\n",
       "  </thead>\n",
       "  <tbody>\n",
       "    <tr>\n",
       "      <th>0</th>\n",
       "      <td>0</td>\n",
       "      <td>1</td>\n",
       "      <td>1</td>\n",
       "      <td>0</td>\n",
       "      <td>0</td>\n",
       "      <td>2</td>\n",
       "      <td>1</td>\n",
       "      <td>1</td>\n",
       "      <td>0</td>\n",
       "      <td>0</td>\n",
       "      <td>...</td>\n",
       "      <td>1</td>\n",
       "      <td>1</td>\n",
       "      <td>1</td>\n",
       "      <td>0</td>\n",
       "      <td>1</td>\n",
       "      <td>2</td>\n",
       "      <td>0</td>\n",
       "      <td>0</td>\n",
       "      <td>1</td>\n",
       "      <td>1</td>\n",
       "    </tr>\n",
       "    <tr>\n",
       "      <th>1</th>\n",
       "      <td>1</td>\n",
       "      <td>1</td>\n",
       "      <td>0</td>\n",
       "      <td>1</td>\n",
       "      <td>1</td>\n",
       "      <td>1</td>\n",
       "      <td>0</td>\n",
       "      <td>1</td>\n",
       "      <td>1</td>\n",
       "      <td>1</td>\n",
       "      <td>...</td>\n",
       "      <td>0</td>\n",
       "      <td>0</td>\n",
       "      <td>0</td>\n",
       "      <td>1</td>\n",
       "      <td>1</td>\n",
       "      <td>2</td>\n",
       "      <td>1</td>\n",
       "      <td>1</td>\n",
       "      <td>3</td>\n",
       "      <td>1</td>\n",
       "    </tr>\n",
       "  </tbody>\n",
       "</table>\n",
       "<p>2 rows × 34 columns</p>\n",
       "</div>"
      ],
      "text/plain": [
       "   afraid  and  bad  be  begin  better  can  don  get  go  ...  song  start  \\\n",
       "0       0    1    1   0      0       2    1    1    0   0  ...     1      1   \n",
       "1       1    1    0   1      1       1    0    1    1   1  ...     0      0   \n",
       "\n",
       "   take  the  then  to  under  were  you  your  \n",
       "0     1    0     1   2      0     0    1     1  \n",
       "1     0    1     1   2      1     1    3     1  \n",
       "\n",
       "[2 rows x 34 columns]"
      ]
     },
     "execution_count": 3,
     "metadata": {},
     "output_type": "execute_result"
    }
   ],
   "source": [
    "# 透過 pandas 來預覽結果\n",
    "df = pd.DataFrame(X.toarray(), columns=vectorizer.get_feature_names_out()); df"
   ]
  },
  {
   "cell_type": "markdown",
   "id": "021b6abd",
   "metadata": {},
   "source": [
    "# 中文部分"
   ]
  },
  {
   "cell_type": "code",
   "execution_count": null,
   "id": "2feaea2e",
   "metadata": {},
   "outputs": [],
   "source": [
    "# 安裝套件\n",
    "!pip install jieba"
   ]
  },
  {
   "cell_type": "code",
   "execution_count": 4,
   "id": "d7731b2f",
   "metadata": {},
   "outputs": [],
   "source": [
    "# 匯入套件\n",
    "import jieba"
   ]
  },
  {
   "cell_type": "code",
   "execution_count": 5,
   "id": "e0ee58bc",
   "metadata": {},
   "outputs": [
    {
     "name": "stderr",
     "output_type": "stream",
     "text": [
      "Building prefix dict from the default dictionary ...\n",
      "Loading model from cache C:\\Users\\darren\\AppData\\Local\\Temp\\jieba.cache\n",
      "Loading model cost 0.642 seconds.\n",
      "Prefix dict has been built successfully.\n"
     ]
    },
    {
     "data": {
      "text/plain": [
       "['羅',\n",
       " '傑費',\n",
       " '德勒',\n",
       " '，',\n",
       " '已',\n",
       " '退役',\n",
       " '瑞士',\n",
       " '男子',\n",
       " '職業',\n",
       " '網球運動員',\n",
       " '，',\n",
       " '費',\n",
       " '德勒',\n",
       " '總共贏',\n",
       " '得',\n",
       " '20',\n",
       " '座',\n",
       " '大滿貫',\n",
       " '冠軍',\n",
       " '，',\n",
       " '單打',\n",
       " '世界排名',\n",
       " '第一',\n",
       " '累計',\n",
       " '310',\n",
       " '周',\n",
       " '，',\n",
       " '其中',\n",
       " '包括',\n",
       " '連續',\n",
       " '237',\n",
       " '周',\n",
       " '世界排名',\n",
       " '第一',\n",
       " '男子',\n",
       " '網壇',\n",
       " '紀錄',\n",
       " '，',\n",
       " '為',\n",
       " '網球史上',\n",
       " '最佳',\n",
       " '男子',\n",
       " '選手',\n",
       " '之一',\n",
       " '。',\n",
       " '費',\n",
       " '德勒',\n",
       " '生涯',\n",
       " '贏得',\n",
       " '103',\n",
       " '個',\n",
       " 'ATP',\n",
       " '單打冠軍',\n",
       " '，',\n",
       " '含',\n",
       " '20',\n",
       " '座',\n",
       " '大滿貫',\n",
       " '冠軍',\n",
       " '6',\n",
       " '座',\n",
       " 'ATP',\n",
       " '年終',\n",
       " '總決賽',\n",
       " '冠軍',\n",
       " '，',\n",
       " '以及',\n",
       " '28',\n",
       " '座',\n",
       " '大師賽',\n",
       " '冠軍',\n",
       " '。']"
      ]
     },
     "execution_count": 5,
     "metadata": {},
     "output_type": "execute_result"
    }
   ],
   "source": [
    "# 自定義字詞\n",
    "jieba.add_word('網球史上')\n",
    "jieba.add_word('網球運動員')\n",
    "jieba.add_word('單打冠軍')\n",
    "jieba.add_word('冠軍')\n",
    "jieba.add_word('大滿貫')\n",
    "jieba.add_word('總決賽')\n",
    "jieba.add_word('大師賽')\n",
    "\n",
    "# 輸入文本\n",
    "text = '''羅傑費德勒，已退役的瑞士男子職業網球運動員，費德勒總共贏得20座大滿貫冠軍，單打世界排名第一累計310周，其中包括連續237周世界排名第一的男子網壇紀錄，為網球史上最佳的男子選手之一。費德勒生涯贏得103個ATP單打冠軍，含20座大滿貫冠軍和6座ATP年終總決賽冠軍，以及28座大師賽冠軍。'''\n",
    "\n",
    "# 分詞 (cut 是用於回傳 generator 的斷詞函式，lcut 是將斷詞以 list 格式回傳)\n",
    "tokens = jieba.lcut(text)\n",
    "\n",
    "# 去除停用詞，這邊為了簡化，我們預先定義一個停用詞列表\n",
    "stop_words = ['和', '的', '是', '這']\n",
    "tokens = [word for word in tokens if word not in stop_words]; tokens"
   ]
  },
  {
   "cell_type": "code",
   "execution_count": 6,
   "id": "c76c6235",
   "metadata": {},
   "outputs": [
    {
     "name": "stdout",
     "output_type": "stream",
     "text": [
      "['103' '20' '237' '28' '310' 'atp' '世界排名' '之一' '以及' '傑費' '其中' '冠軍' '包括'\n",
      " '單打' '單打冠軍' '大師賽' '大滿貫' '年終' '德勒' '最佳' '瑞士' '生涯' '男子' '第一' '紀錄' '累計' '網壇'\n",
      " '網球史上' '網球運動員' '總共贏' '總決賽' '職業' '贏得' '退役' '連續' '選手']\n",
      "[[1 2 1 1 1 2 2 1 1 1 1 4 1 1 1 1 2 1 3 1 1 1 3 2 1 1 1 1 1 1 1 1 1 1 1 1]]\n"
     ]
    }
   ],
   "source": [
    "# 轉換為詞向量，這裡使用詞袋模型\n",
    "vectorizer = CountVectorizer()\n",
    "X = vectorizer.fit_transform([' '.join(tokens)])\n",
    "print(vectorizer.get_feature_names_out())\n",
    "print(X.toarray())"
   ]
  },
  {
   "cell_type": "code",
   "execution_count": 7,
   "id": "b417f76c",
   "metadata": {},
   "outputs": [
    {
     "data": {
      "text/html": [
       "<div>\n",
       "<style scoped>\n",
       "    .dataframe tbody tr th:only-of-type {\n",
       "        vertical-align: middle;\n",
       "    }\n",
       "\n",
       "    .dataframe tbody tr th {\n",
       "        vertical-align: top;\n",
       "    }\n",
       "\n",
       "    .dataframe thead th {\n",
       "        text-align: right;\n",
       "    }\n",
       "</style>\n",
       "<table border=\"1\" class=\"dataframe\">\n",
       "  <thead>\n",
       "    <tr style=\"text-align: right;\">\n",
       "      <th></th>\n",
       "      <th>103</th>\n",
       "      <th>20</th>\n",
       "      <th>237</th>\n",
       "      <th>28</th>\n",
       "      <th>310</th>\n",
       "      <th>atp</th>\n",
       "      <th>世界排名</th>\n",
       "      <th>之一</th>\n",
       "      <th>以及</th>\n",
       "      <th>傑費</th>\n",
       "      <th>...</th>\n",
       "      <th>網壇</th>\n",
       "      <th>網球史上</th>\n",
       "      <th>網球運動員</th>\n",
       "      <th>總共贏</th>\n",
       "      <th>總決賽</th>\n",
       "      <th>職業</th>\n",
       "      <th>贏得</th>\n",
       "      <th>退役</th>\n",
       "      <th>連續</th>\n",
       "      <th>選手</th>\n",
       "    </tr>\n",
       "  </thead>\n",
       "  <tbody>\n",
       "    <tr>\n",
       "      <th>0</th>\n",
       "      <td>1</td>\n",
       "      <td>2</td>\n",
       "      <td>1</td>\n",
       "      <td>1</td>\n",
       "      <td>1</td>\n",
       "      <td>2</td>\n",
       "      <td>2</td>\n",
       "      <td>1</td>\n",
       "      <td>1</td>\n",
       "      <td>1</td>\n",
       "      <td>...</td>\n",
       "      <td>1</td>\n",
       "      <td>1</td>\n",
       "      <td>1</td>\n",
       "      <td>1</td>\n",
       "      <td>1</td>\n",
       "      <td>1</td>\n",
       "      <td>1</td>\n",
       "      <td>1</td>\n",
       "      <td>1</td>\n",
       "      <td>1</td>\n",
       "    </tr>\n",
       "  </tbody>\n",
       "</table>\n",
       "<p>1 rows × 36 columns</p>\n",
       "</div>"
      ],
      "text/plain": [
       "   103  20  237  28  310  atp  世界排名  之一  以及  傑費  ...  網壇  網球史上  網球運動員  總共贏  \\\n",
       "0    1   2    1   1    1    2     2   1   1   1  ...   1     1      1    1   \n",
       "\n",
       "   總決賽  職業  贏得  退役  連續  選手  \n",
       "0    1   1   1   1   1   1  \n",
       "\n",
       "[1 rows x 36 columns]"
      ]
     },
     "execution_count": 7,
     "metadata": {},
     "output_type": "execute_result"
    }
   ],
   "source": [
    "# 透過 pandas 來預覽結果\n",
    "df = pd.DataFrame(X.toarray(), columns=vectorizer.get_feature_names_out()); df"
   ]
  }
 ],
 "metadata": {
  "kernelspec": {
   "display_name": "python3@nlp",
   "language": "python",
   "name": "k_nlp"
  },
  "language_info": {
   "codemirror_mode": {
    "name": "ipython",
    "version": 3
   },
   "file_extension": ".py",
   "mimetype": "text/x-python",
   "name": "python",
   "nbconvert_exporter": "python",
   "pygments_lexer": "ipython3",
   "version": "3.10.11"
  }
 },
 "nbformat": 4,
 "nbformat_minor": 5
}
