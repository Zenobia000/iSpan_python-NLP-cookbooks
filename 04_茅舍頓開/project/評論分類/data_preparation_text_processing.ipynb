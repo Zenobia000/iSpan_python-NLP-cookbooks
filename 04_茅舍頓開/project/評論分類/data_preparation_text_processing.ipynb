{
 "cells": [
  {
   "cell_type": "markdown",
   "metadata": {},
   "source": [
    "While going through our script we will gradually understand the use of this packages"
   ]
  },
  {
   "cell_type": "markdown",
   "metadata": {},
   "source": [
    "# 紐約時報評論分析\n",
    "\n",
    "### 預期分析方向\n",
    "\n",
    "1. 預測評論點贊數: commentBody, recommendations, sectionName, newDesk, userLocation。\n",
    "2. 預測編輯選擇的評論: commentBody, editorsSelection, sectionName, newDesk。\n",
    "3. 根據評論猜測文章主題: commentBody, sectionName, newDesk。\n",
    "4. 預測評論獲得回覆的可能性: commentBody, replyCount, sectionName, userLocation。\n",
    "5. 預測文章引發討論的可能性: articleID, articleWordCount, sectionName, newDesk, commentBody, replyCount, recommendations。\n",
    "6. 對評論文本進行情感分析: commentBody。"
   ]
  },
  {
   "cell_type": "code",
   "execution_count": 1,
   "metadata": {},
   "outputs": [
    {
     "name": "stderr",
     "output_type": "stream",
     "text": [
      "[nltk_data] Downloading package punkt to\n",
      "[nltk_data]     C:\\Users\\xdxd2\\AppData\\Roaming\\nltk_data...\n",
      "[nltk_data]   Package punkt is already up-to-date!\n",
      "[nltk_data] Downloading package stopwords to\n",
      "[nltk_data]     C:\\Users\\xdxd2\\AppData\\Roaming\\nltk_data...\n",
      "[nltk_data]   Package stopwords is already up-to-date!\n",
      "[nltk_data] Downloading package wordnet to\n",
      "[nltk_data]     C:\\Users\\xdxd2\\AppData\\Roaming\\nltk_data...\n",
      "[nltk_data]   Package wordnet is already up-to-date!\n"
     ]
    }
   ],
   "source": [
    "# data preprocess tool \n",
    "import tensorflow as tf #no need to describe ;)\n",
    "import numpy as np #allows array operation\n",
    "import pandas as pd #we will use it to read and manipulate files and columns content\n",
    "import re\n",
    "\n",
    "# NLP \n",
    "import nltk\n",
    "from nltk.corpus import stopwords #provides list of english stopwords\n",
    "from nltk.stem import WordNetLemmatizer\n",
    "from nltk.tokenize import word_tokenize\n",
    "\n",
    "stop = stopwords.words('english')\n",
    "\n",
    "# 下載NLTK資源（如果尚未下載）\n",
    "nltk.download('punkt')\n",
    "nltk.download('stopwords')\n",
    "nltk.download('wordnet')\n",
    "\n",
    "## utils\n",
    "from collections import Counter\n",
    "import opencc\n",
    "import warnings\n",
    "\n",
    "# 忽略所有警告\n",
    "warnings.filterwarnings('ignore')\n",
    "\n"
   ]
  },
  {
   "cell_type": "code",
   "execution_count": 2,
   "metadata": {},
   "outputs": [
    {
     "data": {
      "text/plain": [
       "'2.14.0'"
      ]
     },
     "execution_count": 2,
     "metadata": {},
     "output_type": "execute_result"
    }
   ],
   "source": [
    "#PRINT VERSION!!\n",
    "tf.__version__"
   ]
  },
  {
   "cell_type": "markdown",
   "metadata": {},
   "source": [
    "To do this notebook we will use New York Times user comments (from Kaggle Datasets).\n",
    "When we will create the language classifier we will use other data but now let's rely on an english natural language source, so now we read the data.\n",
    "\n",
    "\n",
    "[資料連結](https://www.kaggle.com/datasets/aashita/nyt-comments/data)\n",
    "\n",
    "\n"
   ]
  },
  {
   "cell_type": "markdown",
   "metadata": {},
   "source": [
    "## 資料準備"
   ]
  },
  {
   "cell_type": "code",
   "execution_count": 3,
   "metadata": {},
   "outputs": [],
   "source": [
    "#PLEASE DOWNLOAD THE FILE HERE: https://www.kaggle.com/aashita/nyt-comments\n",
    "train = pd.read_csv('./CommentsApril2017/CommentsApril2017.csv')\n"
   ]
  },
  {
   "cell_type": "markdown",
   "metadata": {},
   "source": [
    "Let's have a quick look at the data trying to find what is the column that we need.\n",
    "Looks like commentBody is the right candidate."
   ]
  },
  {
   "cell_type": "code",
   "execution_count": 4,
   "metadata": {},
   "outputs": [
    {
     "data": {
      "text/html": [
       "<div>\n",
       "<style scoped>\n",
       "    .dataframe tbody tr th:only-of-type {\n",
       "        vertical-align: middle;\n",
       "    }\n",
       "\n",
       "    .dataframe tbody tr th {\n",
       "        vertical-align: top;\n",
       "    }\n",
       "\n",
       "    .dataframe thead th {\n",
       "        text-align: right;\n",
       "    }\n",
       "</style>\n",
       "<table border=\"1\" class=\"dataframe\">\n",
       "  <thead>\n",
       "    <tr style=\"text-align: right;\">\n",
       "      <th></th>\n",
       "      <th>approveDate</th>\n",
       "      <th>commentBody</th>\n",
       "      <th>commentID</th>\n",
       "      <th>commentSequence</th>\n",
       "      <th>commentTitle</th>\n",
       "      <th>commentType</th>\n",
       "      <th>createDate</th>\n",
       "      <th>depth</th>\n",
       "      <th>editorsSelection</th>\n",
       "      <th>parentID</th>\n",
       "      <th>...</th>\n",
       "      <th>userLocation</th>\n",
       "      <th>userTitle</th>\n",
       "      <th>userURL</th>\n",
       "      <th>inReplyTo</th>\n",
       "      <th>articleID</th>\n",
       "      <th>sectionName</th>\n",
       "      <th>newDesk</th>\n",
       "      <th>articleWordCount</th>\n",
       "      <th>printPage</th>\n",
       "      <th>typeOfMaterial</th>\n",
       "    </tr>\n",
       "  </thead>\n",
       "  <tbody>\n",
       "    <tr>\n",
       "      <th>0</th>\n",
       "      <td>1491245186</td>\n",
       "      <td>This project makes me happy to be a 30+ year T...</td>\n",
       "      <td>22022598.0</td>\n",
       "      <td>22022598</td>\n",
       "      <td>&lt;br/&gt;</td>\n",
       "      <td>comment</td>\n",
       "      <td>1.491237e+09</td>\n",
       "      <td>1</td>\n",
       "      <td>False</td>\n",
       "      <td>0.0</td>\n",
       "      <td>...</td>\n",
       "      <td>Riverside, CA</td>\n",
       "      <td>NaN</td>\n",
       "      <td>NaN</td>\n",
       "      <td>0</td>\n",
       "      <td>58def1347c459f24986d7c80</td>\n",
       "      <td>Unknown</td>\n",
       "      <td>Insider</td>\n",
       "      <td>716.0</td>\n",
       "      <td>2</td>\n",
       "      <td>News</td>\n",
       "    </tr>\n",
       "    <tr>\n",
       "      <th>1</th>\n",
       "      <td>1491188619</td>\n",
       "      <td>Stunning photos and reportage. Infuriating tha...</td>\n",
       "      <td>22017350.0</td>\n",
       "      <td>22017350</td>\n",
       "      <td>NaN</td>\n",
       "      <td>comment</td>\n",
       "      <td>1.491180e+09</td>\n",
       "      <td>1</td>\n",
       "      <td>False</td>\n",
       "      <td>0.0</td>\n",
       "      <td>...</td>\n",
       "      <td>&lt;br/&gt;</td>\n",
       "      <td>NaN</td>\n",
       "      <td>NaN</td>\n",
       "      <td>0</td>\n",
       "      <td>58def1347c459f24986d7c80</td>\n",
       "      <td>Unknown</td>\n",
       "      <td>Insider</td>\n",
       "      <td>716.0</td>\n",
       "      <td>2</td>\n",
       "      <td>News</td>\n",
       "    </tr>\n",
       "    <tr>\n",
       "      <th>2</th>\n",
       "      <td>1491188617</td>\n",
       "      <td>Brilliant work from conception to execution. I...</td>\n",
       "      <td>22017334.0</td>\n",
       "      <td>22017334</td>\n",
       "      <td>&lt;br/&gt;</td>\n",
       "      <td>comment</td>\n",
       "      <td>1.491179e+09</td>\n",
       "      <td>1</td>\n",
       "      <td>False</td>\n",
       "      <td>0.0</td>\n",
       "      <td>...</td>\n",
       "      <td>Raleigh NC</td>\n",
       "      <td>NaN</td>\n",
       "      <td>NaN</td>\n",
       "      <td>0</td>\n",
       "      <td>58def1347c459f24986d7c80</td>\n",
       "      <td>Unknown</td>\n",
       "      <td>Insider</td>\n",
       "      <td>716.0</td>\n",
       "      <td>2</td>\n",
       "      <td>News</td>\n",
       "    </tr>\n",
       "    <tr>\n",
       "      <th>3</th>\n",
       "      <td>1491167820</td>\n",
       "      <td>NYT reporters should provide a contributor's l...</td>\n",
       "      <td>22015913.0</td>\n",
       "      <td>22015913</td>\n",
       "      <td>&lt;br/&gt;</td>\n",
       "      <td>comment</td>\n",
       "      <td>1.491150e+09</td>\n",
       "      <td>1</td>\n",
       "      <td>False</td>\n",
       "      <td>0.0</td>\n",
       "      <td>...</td>\n",
       "      <td>Missouri, USA</td>\n",
       "      <td>NaN</td>\n",
       "      <td>NaN</td>\n",
       "      <td>0</td>\n",
       "      <td>58def1347c459f24986d7c80</td>\n",
       "      <td>Unknown</td>\n",
       "      <td>Insider</td>\n",
       "      <td>716.0</td>\n",
       "      <td>2</td>\n",
       "      <td>News</td>\n",
       "    </tr>\n",
       "    <tr>\n",
       "      <th>4</th>\n",
       "      <td>1491167815</td>\n",
       "      <td>Could only have been done in print. Stunning.</td>\n",
       "      <td>22015466.0</td>\n",
       "      <td>22015466</td>\n",
       "      <td>&lt;br/&gt;</td>\n",
       "      <td>comment</td>\n",
       "      <td>1.491147e+09</td>\n",
       "      <td>1</td>\n",
       "      <td>False</td>\n",
       "      <td>0.0</td>\n",
       "      <td>...</td>\n",
       "      <td>Tucson, Arizona</td>\n",
       "      <td>NaN</td>\n",
       "      <td>NaN</td>\n",
       "      <td>0</td>\n",
       "      <td>58def1347c459f24986d7c80</td>\n",
       "      <td>Unknown</td>\n",
       "      <td>Insider</td>\n",
       "      <td>716.0</td>\n",
       "      <td>2</td>\n",
       "      <td>News</td>\n",
       "    </tr>\n",
       "  </tbody>\n",
       "</table>\n",
       "<p>5 rows × 34 columns</p>\n",
       "</div>"
      ],
      "text/plain": [
       "   approveDate                                        commentBody   commentID  \\\n",
       "0   1491245186  This project makes me happy to be a 30+ year T...  22022598.0   \n",
       "1   1491188619  Stunning photos and reportage. Infuriating tha...  22017350.0   \n",
       "2   1491188617  Brilliant work from conception to execution. I...  22017334.0   \n",
       "3   1491167820  NYT reporters should provide a contributor's l...  22015913.0   \n",
       "4   1491167815     Could only have been done in print. Stunning.   22015466.0   \n",
       "\n",
       "   commentSequence commentTitle commentType    createDate  depth  \\\n",
       "0         22022598        <br/>     comment  1.491237e+09      1   \n",
       "1         22017350          NaN     comment  1.491180e+09      1   \n",
       "2         22017334        <br/>     comment  1.491179e+09      1   \n",
       "3         22015913        <br/>     comment  1.491150e+09      1   \n",
       "4         22015466        <br/>     comment  1.491147e+09      1   \n",
       "\n",
       "   editorsSelection  parentID  ...     userLocation userTitle userURL  \\\n",
       "0             False       0.0  ...    Riverside, CA       NaN     NaN   \n",
       "1             False       0.0  ...            <br/>       NaN     NaN   \n",
       "2             False       0.0  ...       Raleigh NC       NaN     NaN   \n",
       "3             False       0.0  ...    Missouri, USA       NaN     NaN   \n",
       "4             False       0.0  ...  Tucson, Arizona       NaN     NaN   \n",
       "\n",
       "   inReplyTo                 articleID  sectionName  newDesk  \\\n",
       "0          0  58def1347c459f24986d7c80      Unknown  Insider   \n",
       "1          0  58def1347c459f24986d7c80      Unknown  Insider   \n",
       "2          0  58def1347c459f24986d7c80      Unknown  Insider   \n",
       "3          0  58def1347c459f24986d7c80      Unknown  Insider   \n",
       "4          0  58def1347c459f24986d7c80      Unknown  Insider   \n",
       "\n",
       "   articleWordCount printPage  typeOfMaterial  \n",
       "0             716.0         2            News  \n",
       "1             716.0         2            News  \n",
       "2             716.0         2            News  \n",
       "3             716.0         2            News  \n",
       "4             716.0         2            News  \n",
       "\n",
       "[5 rows x 34 columns]"
      ]
     },
     "execution_count": 4,
     "metadata": {},
     "output_type": "execute_result"
    }
   ],
   "source": [
    "train.head()\n"
   ]
  },
  {
   "cell_type": "markdown",
   "metadata": {},
   "source": [
    "### 元數據描述\n",
    "\n",
    "| 字段名稱                   | 數據型態        | 說明                         |\n",
    "|-------------------------|--------------|----------------------------|\n",
    "| approveDate             | int64        | 評論獲得審核的日期和時間           |\n",
    "| commentBody             | 文本型態        | 包含評論的完整內容               |\n",
    "| commentID               | float64      | 評論的唯一識別碼                 |\n",
    "| commentSequence         | int64        | 評論的序列號                   |\n",
    "| commentTitle            | 文本型態        | 評論的標題                     |\n",
    "| commentType             | 文本型態        | 評論的類型                     |\n",
    "| createDate              | float64      | 評論的創建日期和時間             |\n",
    "| depth                   | int64        | 評論在對話結構中的深度            |\n",
    "| editorsSelection        | bool         | 是否被編輯選為特色評論             |\n",
    "| parentID                | float64      | 該評論回覆的父評論ID             |\n",
    "| parentUserDisplayName   | 文本型態        | 父評論的用戶顯示名稱              |\n",
    "| permID                  | 文本型態        | 評論的永久識別碼                |\n",
    "| picURL                  | 文本型態        | 評論中包含的圖片網址              |\n",
    "| recommendations         | float64      | 評論獲得的推薦數量               |\n",
    "| recommendedFlag         | 數據不可用      | -                           |\n",
    "| replyCount              | float64      | 該評論獲得的回覆數量              |\n",
    "| reportAbuseFlag         | 數據不可用      | -                           |\n",
    "| sharing                 | int64        | 評論被分享的次數                 |\n",
    "| status                  | 文本型態        | 評論的狀態（例如：已發布、審核中等） |\n",
    "| timespeople             | float64      | 特定用戶群的相關數據              |\n",
    "| trusted                 | float64      | 評論的可信程度                  |\n",
    "| updateDate              | int64        | 評論最後的更新日期和時間            |\n",
    "| userDisplayName         | 文本型態        | 用戶的顯示名稱                  |\n",
    "| userID                  | int64        | 用戶的唯一識別碼                 |\n",
    "| userLocation            | 文本型態        | 用戶的地理位置                  |\n",
    "| userTitle               | 數據幾乎不可用    | -                           |\n",
    "| userURL                 | 數據幾乎不可用    | -                           |\n",
    "| inReplyTo               | int64        | 評論是回覆給哪個評論/文章的ID      |\n",
    "| articleID               | 文本型態        | 文章的唯一識別碼                |\n",
    "| sectionName             | 文本型態        | 文章所屬的版塊                  |\n",
    "| newDesk                 | 文本型態        | 文章所屬的新聞台                |\n",
    "| articleWordCount        | float64      | 文章的總字數                   |\n",
    "| printPage               | int64        | 文章在報紙上的印刷頁碼             |\n",
    "| typeOfMaterial          | 文本型態        | 文章的類型（例如：新聞、評論等）   |\n"
   ]
  },
  {
   "cell_type": "code",
   "execution_count": 5,
   "metadata": {},
   "outputs": [
    {
     "name": "stdout",
     "output_type": "stream",
     "text": [
      "<class 'pandas.core.frame.DataFrame'>\n",
      "RangeIndex: 243832 entries, 0 to 243831\n",
      "Data columns (total 34 columns):\n",
      " #   Column                 Non-Null Count   Dtype  \n",
      "---  ------                 --------------   -----  \n",
      " 0   approveDate            243832 non-null  int64  \n",
      " 1   commentBody            243832 non-null  object \n",
      " 2   commentID              243832 non-null  float64\n",
      " 3   commentSequence        243832 non-null  int64  \n",
      " 4   commentTitle           228498 non-null  object \n",
      " 5   commentType            243832 non-null  object \n",
      " 6   createDate             243832 non-null  float64\n",
      " 7   depth                  243832 non-null  int64  \n",
      " 8   editorsSelection       243832 non-null  bool   \n",
      " 9   parentID               243832 non-null  float64\n",
      " 10  parentUserDisplayName  70526 non-null   object \n",
      " 11  permID                 243832 non-null  object \n",
      " 12  picURL                 243832 non-null  object \n",
      " 13  recommendations        243832 non-null  float64\n",
      " 14  recommendedFlag        0 non-null       float64\n",
      " 15  replyCount             243832 non-null  float64\n",
      " 16  reportAbuseFlag        0 non-null       float64\n",
      " 17  sharing                243832 non-null  int64  \n",
      " 18  status                 243832 non-null  object \n",
      " 19  timespeople            243832 non-null  float64\n",
      " 20  trusted                243832 non-null  float64\n",
      " 21  updateDate             243832 non-null  int64  \n",
      " 22  userDisplayName        243755 non-null  object \n",
      " 23  userID                 243832 non-null  int64  \n",
      " 24  userLocation           243770 non-null  object \n",
      " 25  userTitle              41 non-null      object \n",
      " 26  userURL                5 non-null       object \n",
      " 27  inReplyTo              243832 non-null  int64  \n",
      " 28  articleID              243832 non-null  object \n",
      " 29  sectionName            243832 non-null  object \n",
      " 30  newDesk                243832 non-null  object \n",
      " 31  articleWordCount       243832 non-null  float64\n",
      " 32  printPage              243832 non-null  int64  \n",
      " 33  typeOfMaterial         243832 non-null  object \n",
      "dtypes: bool(1), float64(10), int64(8), object(15)\n",
      "memory usage: 61.6+ MB\n"
     ]
    }
   ],
   "source": [
    "train.info()"
   ]
  },
  {
   "cell_type": "markdown",
   "metadata": {},
   "source": [
    "## 資料預處理\n",
    "\n",
    "\n",
    "1. 文本清理：移除特殊符號、數字、不必要的空格等。\n",
    "2. 轉換為小寫：統一文本格式，方便處理。\n",
    "3. 去除停用詞：停用詞（如 \"the\", \"is\", \"in\" 等）對於文本分析(敘述性統計)任務來說，停頓詞非必要性。\n",
    "4. 詞幹提取或詞形還原：將單詞還原到基本形式，例如，將 \"running\" 轉換為 \"run\"。\n",
    "5. 分詞：將句子分割成單獨的單詞或詞彙。"
   ]
  },
  {
   "cell_type": "code",
   "execution_count": 10,
   "metadata": {},
   "outputs": [],
   "source": [
    "from multiprocessing import Pool\n",
    "import string\n",
    "\n",
    "# Load NLTK resources once\n",
    "stop = set(stopwords.words('english'))\n",
    "lemmatizer = WordNetLemmatizer()\n",
    "\n",
    "# Text preprocessing function optimized\n",
    "def preprocess_text(text):\n",
    "    # Remove special characters and punctuation\n",
    "    text = text.translate(str.maketrans('', '', string.punctuation))\n",
    "    \n",
    "    # Convert to lowercase\n",
    "    text = text.lower()\n",
    "\n",
    "    # Tokenize\n",
    "    tokens = word_tokenize(text)\n",
    "    \n",
    "    # Remove stopwords and lemmatize\n",
    "    tokens = [lemmatizer.lemmatize(word) for word in tokens if word not in stop]\n",
    "    \n",
    "    return ' '.join(tokens)\n",
    "\n",
    "# Function to process a batch of texts\n",
    "def process_batch(texts):\n",
    "    return [preprocess_text(text) for text in texts]\n",
    "\n",
    "# Use parallel processing to preprocess the texts\n",
    "def parallel_preprocessing(df, column_name):\n",
    "    num_cores = 4  # Adjust this according to your machine's capability\n",
    "    batch_size = int(len(df) / num_cores)\n",
    "    batches = [df[i:i + batch_size] for i in range(0, df.shape[0], batch_size)]\n",
    "    \n",
    "    with Pool(num_cores) as pool:\n",
    "        result = pool.map(process_batch, [batch[column_name].tolist() for batch in batches])\n",
    "    \n",
    "    # Flatten the list of results\n",
    "    return [item for sublist in result for item in sublist]\n",
    "\n",
    "\n",
    "# Apply parallel preprocessing\n",
    "train['commentBody_cln'] = parallel_preprocessing(train, 'commentBody')\n",
    "\n",
    "train.head()\n",
    "\n"
   ]
  },
  {
   "cell_type": "code",
   "execution_count": 7,
   "metadata": {},
   "outputs": [],
   "source": [
    "import string"
   ]
  },
  {
   "cell_type": "code",
   "execution_count": 8,
   "metadata": {},
   "outputs": [
    {
     "data": {
      "text/plain": [
       "'!\"#$%&\\'()*+,-./:;<=>?@[\\\\]^_`{|}~'"
      ]
     },
     "execution_count": 8,
     "metadata": {},
     "output_type": "execute_result"
    }
   ],
   "source": [
    "string.punctuation"
   ]
  },
  {
   "cell_type": "code",
   "execution_count": 10,
   "metadata": {},
   "outputs": [
    {
     "data": {
      "text/plain": [
       "0         This project makes me happy to be a 30+ year T...\n",
       "1         Stunning photos and reportage. Infuriating tha...\n",
       "2         Brilliant work from conception to execution. I...\n",
       "3         NYT reporters should provide a contributor's l...\n",
       "4            Could only have been done in print. Stunning. \n",
       "                                ...                        \n",
       "243827    Sorry, but pudding has nothing to do with it; ...\n",
       "243828    While it would be quite punny to spell it \"des...\n",
       "243829         See above comments. \"deserts\" is the proper.\n",
       "243830    John Rubinstein had two brief scenes with Joan...\n",
       "243831    Ye gods and little fishes, Stu, you're right ....\n",
       "Name: commentBody, Length: 243832, dtype: object"
      ]
     },
     "execution_count": 10,
     "metadata": {},
     "output_type": "execute_result"
    }
   ],
   "source": [
    "train['commentBody']"
   ]
  },
  {
   "cell_type": "code",
   "execution_count": 74,
   "metadata": {},
   "outputs": [],
   "source": [
    "train['commentBody_lower'] = train[\"commentBody\"].str.lower()\n",
    "train['commentBody_no_punctiation'] = train['commentBody_lower'].str.replace('[^\\w\\s]','')"
   ]
  },
  {
   "cell_type": "markdown",
   "metadata": {},
   "source": [
    "let's check how the text looks like now!\n",
    "Well everything is lowercase and no \"ugly characters\""
   ]
  },
  {
   "cell_type": "code",
   "execution_count": 75,
   "metadata": {},
   "outputs": [
    {
     "data": {
      "text/plain": [
       "0         this project makes me happy to be a 30+ year t...\n",
       "1         stunning photos and reportage. infuriating tha...\n",
       "2         brilliant work from conception to execution. i...\n",
       "3         nyt reporters should provide a contributor's l...\n",
       "4            could only have been done in print. stunning. \n",
       "                                ...                        \n",
       "243827    sorry, but pudding has nothing to do with it; ...\n",
       "243828    while it would be quite punny to spell it \"des...\n",
       "243829         see above comments. \"deserts\" is the proper.\n",
       "243830    john rubinstein had two brief scenes with joan...\n",
       "243831    ye gods and little fishes, stu, you're right ....\n",
       "Name: commentBody_no_punctiation, Length: 243832, dtype: object"
      ]
     },
     "execution_count": 75,
     "metadata": {},
     "output_type": "execute_result"
    }
   ],
   "source": [
    "train['commentBody_no_punctiation']"
   ]
  },
  {
   "cell_type": "markdown",
   "metadata": {},
   "source": [
    "Now we remove stopwords and then fill empy cells with \"fillna\" word."
   ]
  },
  {
   "cell_type": "code",
   "execution_count": 76,
   "metadata": {},
   "outputs": [
    {
     "data": {
      "text/plain": [
       "'This project makes me happy to be a 30+ year Times subscriber... continue to innovate across all platforms, please.'"
      ]
     },
     "execution_count": 76,
     "metadata": {},
     "output_type": "execute_result"
    }
   ],
   "source": [
    "train['commentBody'][0]"
   ]
  },
  {
   "cell_type": "code",
   "execution_count": 77,
   "metadata": {},
   "outputs": [
    {
     "data": {
      "text/plain": [
       "'this project makes me happy to be a 30+ year times subscriber... continue to innovate across all platforms, please.'"
      ]
     },
     "execution_count": 77,
     "metadata": {},
     "output_type": "execute_result"
    }
   ],
   "source": [
    "train['commentBody_no_punctiation'][0]"
   ]
  },
  {
   "cell_type": "code",
   "execution_count": 78,
   "metadata": {},
   "outputs": [],
   "source": [
    "train['commentBody_no_stopwords'] = train['commentBody_no_punctiation'].apply(lambda x: ' '.join([word for word in x.split() if word not in (stop)]))"
   ]
  },
  {
   "cell_type": "code",
   "execution_count": 79,
   "metadata": {},
   "outputs": [],
   "source": [
    "train[\"commentBody_no_stopwords\"] = train[\"commentBody_no_stopwords\"].fillna(\"no comment\")\n"
   ]
  },
  {
   "cell_type": "markdown",
   "metadata": {},
   "source": [
    "This is how our cleaned text looks like we can see that everything is lowercase and the stopwords are missing, for example \"this\". Now let's go back to slides.\n"
   ]
  },
  {
   "cell_type": "code",
   "execution_count": 80,
   "metadata": {},
   "outputs": [
    {
     "data": {
      "text/plain": [
       "0    project makes happy 30+ year times subscriber....\n",
       "1    stunning photos reportage. infuriating trump a...\n",
       "2    brilliant work conception execution. i've neve...\n",
       "3    nyt reporters provide contributor's link crowd...\n",
       "4                          could done print. stunning.\n",
       "Name: commentBody_no_stopwords, dtype: object"
      ]
     },
     "execution_count": 80,
     "metadata": {},
     "output_type": "execute_result"
    }
   ],
   "source": [
    "train['commentBody_no_stopwords'].head()"
   ]
  },
  {
   "cell_type": "code",
   "execution_count": 81,
   "metadata": {},
   "outputs": [],
   "source": [
    "tf_train = train\n"
   ]
  },
  {
   "cell_type": "markdown",
   "metadata": {},
   "source": [
    "We first assign our current data frame to another to keep track of our work then we read the first sentence and count words that result to be 21"
   ]
  },
  {
   "cell_type": "markdown",
   "metadata": {},
   "source": [
    "### check commentBody length"
   ]
  },
  {
   "cell_type": "code",
   "execution_count": 82,
   "metadata": {},
   "outputs": [
    {
     "data": {
      "image/png": "[encoded data removed]",
      "text/plain": [
       "<Figure size 1000x600 with 1 Axes>"
      ]
     },
     "metadata": {},
     "output_type": "display_data"
    }
   ],
   "source": [
    "import pandas as pd\n",
    "import matplotlib.pyplot as plt\n",
    "\n",
    "# Assuming tf_train['commentBody_no_stopwords'] is already defined\n",
    "# Calculate word count for each row\n",
    "word_counts = tf_train['commentBody_no_stopwords'].str.split().apply(len)\n",
    "\n",
    "# Plot histogram\n",
    "plt.figure(figsize=(10, 6))\n",
    "plt.hist(word_counts, bins=30, edgecolor='black')\n",
    "plt.title('Word Count Distribution')\n",
    "plt.xlabel('Word Count')\n",
    "plt.ylabel('Frequency')\n",
    "plt.show()\n",
    "\n"
   ]
  },
  {
   "cell_type": "code",
   "execution_count": 83,
   "metadata": {},
   "outputs": [
    {
     "data": {
      "text/plain": [
       "\"stunning photos reportage. infuriating trump admistration's draconian reinstatement global gag order prevent men women receiving appropriate family planning advice, obviously desperately needed.\""
      ]
     },
     "execution_count": 83,
     "metadata": {},
     "output_type": "execute_result"
    }
   ],
   "source": [
    "tf_train['commentBody_no_stopwords'][1]"
   ]
  },
  {
   "cell_type": "code",
   "execution_count": 84,
   "metadata": {},
   "outputs": [
    {
     "data": {
      "text/plain": [
       "21"
      ]
     },
     "execution_count": 84,
     "metadata": {},
     "output_type": "execute_result"
    }
   ],
   "source": [
    "tf_train['commentBody_no_stopwords'][1].count(' ')"
   ]
  },
  {
   "cell_type": "markdown",
   "metadata": {},
   "source": [
    "## tokenize, sequence, padding"
   ]
  },
  {
   "cell_type": "code",
   "execution_count": 85,
   "metadata": {},
   "outputs": [],
   "source": [
    "from tensorflow.keras.preprocessing.text import Tokenizer\n",
    "from tensorflow.keras.preprocessing.sequence import pad_sequences\n"
   ]
  },
  {
   "cell_type": "code",
   "execution_count": 86,
   "metadata": {},
   "outputs": [],
   "source": [
    "max_features = 5000  # maximum number of words to keep, based on word frequency\n",
    "tokenizer = Tokenizer(num_words=max_features)\n",
    "tokenizer.fit_on_texts(list(tf_train['commentBody_no_stopwords']))\n",
    "sequences = tokenizer.texts_to_sequences(list(tf_train['commentBody_no_stopwords']))\n"
   ]
  },
  {
   "cell_type": "code",
   "execution_count": 87,
   "metadata": {},
   "outputs": [],
   "source": [
    "maxlen = 100  # maximum length of all sequences\n",
    "tok_seq = pad_sequences(sequences, maxlen=maxlen)\n"
   ]
  },
  {
   "cell_type": "code",
   "execution_count": 89,
   "metadata": {},
   "outputs": [
    {
     "data": {
      "text/plain": [
       "100"
      ]
     },
     "execution_count": 89,
     "metadata": {},
     "output_type": "execute_result"
    }
   ],
   "source": [
    "# padding sequence length \n",
    "len(tok_seq[1])"
   ]
  },
  {
   "cell_type": "code",
   "execution_count": 88,
   "metadata": {},
   "outputs": [
    {
     "data": {
      "text/plain": [
       "array([   0,    0,    0,    0,    0,    0,    0,    0,    0,    0,    0,\n",
       "          0,    0,    0,    0,    0,    0,    0,    0,    0,    0,    0,\n",
       "          0,    0,    0,    0,    0,    0,    0,    0,    0,    0,    0,\n",
       "          0,    0,    0,    0,    0,    0,    0,    0,    0,    0,    0,\n",
       "          0,    0,    0,    0,    0,    0,    0,    0,    0,    0,    0,\n",
       "          0,    0,    0,    0,    0,    0,    0,    0,    0,    0,    0,\n",
       "          0,    0,    0,    0,    0,    0,    0,    0,    0,    0,    0,\n",
       "          0,    0,    0,    0,    0,    0,    0,    0, 3542,    2,  582,\n",
       "        387, 1416,  237,  100, 3504, 1822,  153, 1964, 1490,  928, 3228,\n",
       "        464])"
      ]
     },
     "execution_count": 88,
     "metadata": {},
     "output_type": "execute_result"
    }
   ],
   "source": [
    "tok_seq[1]"
   ]
  },
  {
   "cell_type": "code",
   "execution_count": 92,
   "metadata": {},
   "outputs": [
    {
     "name": "stdout",
     "output_type": "stream",
     "text": [
      "                                                                                     photos trump global order prevent men women receiving appropriate family planning advice obviously desperately needed\n"
     ]
    }
   ],
   "source": [
    "# Assuming tok_seq and decode \n",
    "index_word = tokenizer.index_word\n",
    "decoded_sequence = ' '.join([index_word.get(i, '') for i in tok_seq[1]])\n",
    "print(decoded_sequence)\n"
   ]
  },
  {
   "cell_type": "code",
   "execution_count": 93,
   "metadata": {},
   "outputs": [
    {
     "data": {
      "text/plain": [
       "\"stunning photos reportage. infuriating trump admistration's draconian reinstatement global gag order prevent men women receiving appropriate family planning advice, obviously desperately needed.\""
      ]
     },
     "execution_count": 93,
     "metadata": {},
     "output_type": "execute_result"
    }
   ],
   "source": [
    "list(tf_train['commentBody_no_stopwords'])[1]  #let's look at the input text"
   ]
  },
  {
   "cell_type": "code",
   "execution_count": 95,
   "metadata": {},
   "outputs": [
    {
     "data": {
      "text/html": [
       "<div>\n",
       "<style scoped>\n",
       "    .dataframe tbody tr th:only-of-type {\n",
       "        vertical-align: middle;\n",
       "    }\n",
       "\n",
       "    .dataframe tbody tr th {\n",
       "        vertical-align: top;\n",
       "    }\n",
       "\n",
       "    .dataframe thead th {\n",
       "        text-align: right;\n",
       "    }\n",
       "</style>\n",
       "<table border=\"1\" class=\"dataframe\">\n",
       "  <thead>\n",
       "    <tr style=\"text-align: right;\">\n",
       "      <th></th>\n",
       "      <th>0</th>\n",
       "      <th>1</th>\n",
       "      <th>2</th>\n",
       "      <th>3</th>\n",
       "      <th>4</th>\n",
       "      <th>5</th>\n",
       "      <th>6</th>\n",
       "      <th>7</th>\n",
       "      <th>8</th>\n",
       "      <th>9</th>\n",
       "      <th>...</th>\n",
       "      <th>90</th>\n",
       "      <th>91</th>\n",
       "      <th>92</th>\n",
       "      <th>93</th>\n",
       "      <th>94</th>\n",
       "      <th>95</th>\n",
       "      <th>96</th>\n",
       "      <th>97</th>\n",
       "      <th>98</th>\n",
       "      <th>99</th>\n",
       "    </tr>\n",
       "  </thead>\n",
       "  <tbody>\n",
       "    <tr>\n",
       "      <th>0</th>\n",
       "      <td>0</td>\n",
       "      <td>0</td>\n",
       "      <td>0</td>\n",
       "      <td>0</td>\n",
       "      <td>0</td>\n",
       "      <td>0</td>\n",
       "      <td>0</td>\n",
       "      <td>0</td>\n",
       "      <td>0</td>\n",
       "      <td>0</td>\n",
       "      <td>...</td>\n",
       "      <td>0</td>\n",
       "      <td>1914</td>\n",
       "      <td>220</td>\n",
       "      <td>638</td>\n",
       "      <td>722</td>\n",
       "      <td>129</td>\n",
       "      <td>83</td>\n",
       "      <td>316</td>\n",
       "      <td>754</td>\n",
       "      <td>288</td>\n",
       "    </tr>\n",
       "    <tr>\n",
       "      <th>1</th>\n",
       "      <td>0</td>\n",
       "      <td>0</td>\n",
       "      <td>0</td>\n",
       "      <td>0</td>\n",
       "      <td>0</td>\n",
       "      <td>0</td>\n",
       "      <td>0</td>\n",
       "      <td>0</td>\n",
       "      <td>0</td>\n",
       "      <td>0</td>\n",
       "      <td>...</td>\n",
       "      <td>237</td>\n",
       "      <td>100</td>\n",
       "      <td>3504</td>\n",
       "      <td>1822</td>\n",
       "      <td>153</td>\n",
       "      <td>1964</td>\n",
       "      <td>1490</td>\n",
       "      <td>928</td>\n",
       "      <td>3228</td>\n",
       "      <td>464</td>\n",
       "    </tr>\n",
       "    <tr>\n",
       "      <th>2</th>\n",
       "      <td>0</td>\n",
       "      <td>0</td>\n",
       "      <td>0</td>\n",
       "      <td>0</td>\n",
       "      <td>0</td>\n",
       "      <td>0</td>\n",
       "      <td>0</td>\n",
       "      <td>0</td>\n",
       "      <td>0</td>\n",
       "      <td>0</td>\n",
       "      <td>...</td>\n",
       "      <td>1895</td>\n",
       "      <td>473</td>\n",
       "      <td>165</td>\n",
       "      <td>606</td>\n",
       "      <td>2291</td>\n",
       "      <td>1333</td>\n",
       "      <td>2959</td>\n",
       "      <td>1439</td>\n",
       "      <td>2252</td>\n",
       "      <td>1237</td>\n",
       "    </tr>\n",
       "    <tr>\n",
       "      <th>3</th>\n",
       "      <td>0</td>\n",
       "      <td>0</td>\n",
       "      <td>0</td>\n",
       "      <td>0</td>\n",
       "      <td>0</td>\n",
       "      <td>0</td>\n",
       "      <td>0</td>\n",
       "      <td>0</td>\n",
       "      <td>0</td>\n",
       "      <td>0</td>\n",
       "      <td>...</td>\n",
       "      <td>4338</td>\n",
       "      <td>96</td>\n",
       "      <td>2875</td>\n",
       "      <td>2201</td>\n",
       "      <td>73</td>\n",
       "      <td>517</td>\n",
       "      <td>3747</td>\n",
       "      <td>940</td>\n",
       "      <td>1016</td>\n",
       "      <td>2982</td>\n",
       "    </tr>\n",
       "    <tr>\n",
       "      <th>4</th>\n",
       "      <td>0</td>\n",
       "      <td>0</td>\n",
       "      <td>0</td>\n",
       "      <td>0</td>\n",
       "      <td>0</td>\n",
       "      <td>0</td>\n",
       "      <td>0</td>\n",
       "      <td>0</td>\n",
       "      <td>0</td>\n",
       "      <td>0</td>\n",
       "      <td>...</td>\n",
       "      <td>0</td>\n",
       "      <td>0</td>\n",
       "      <td>0</td>\n",
       "      <td>0</td>\n",
       "      <td>0</td>\n",
       "      <td>0</td>\n",
       "      <td>0</td>\n",
       "      <td>18</td>\n",
       "      <td>154</td>\n",
       "      <td>2682</td>\n",
       "    </tr>\n",
       "    <tr>\n",
       "      <th>...</th>\n",
       "      <td>...</td>\n",
       "      <td>...</td>\n",
       "      <td>...</td>\n",
       "      <td>...</td>\n",
       "      <td>...</td>\n",
       "      <td>...</td>\n",
       "      <td>...</td>\n",
       "      <td>...</td>\n",
       "      <td>...</td>\n",
       "      <td>...</td>\n",
       "      <td>...</td>\n",
       "      <td>...</td>\n",
       "      <td>...</td>\n",
       "      <td>...</td>\n",
       "      <td>...</td>\n",
       "      <td>...</td>\n",
       "      <td>...</td>\n",
       "      <td>...</td>\n",
       "      <td>...</td>\n",
       "      <td>...</td>\n",
       "      <td>...</td>\n",
       "    </tr>\n",
       "    <tr>\n",
       "      <th>243827</th>\n",
       "      <td>0</td>\n",
       "      <td>0</td>\n",
       "      <td>0</td>\n",
       "      <td>0</td>\n",
       "      <td>0</td>\n",
       "      <td>0</td>\n",
       "      <td>0</td>\n",
       "      <td>0</td>\n",
       "      <td>0</td>\n",
       "      <td>0</td>\n",
       "      <td>...</td>\n",
       "      <td>0</td>\n",
       "      <td>0</td>\n",
       "      <td>614</td>\n",
       "      <td>63</td>\n",
       "      <td>9</td>\n",
       "      <td>5</td>\n",
       "      <td>2021</td>\n",
       "      <td>2980</td>\n",
       "      <td>441</td>\n",
       "      <td>222</td>\n",
       "    </tr>\n",
       "    <tr>\n",
       "      <th>243828</th>\n",
       "      <td>0</td>\n",
       "      <td>0</td>\n",
       "      <td>0</td>\n",
       "      <td>0</td>\n",
       "      <td>0</td>\n",
       "      <td>0</td>\n",
       "      <td>0</td>\n",
       "      <td>0</td>\n",
       "      <td>0</td>\n",
       "      <td>0</td>\n",
       "      <td>...</td>\n",
       "      <td>0</td>\n",
       "      <td>0</td>\n",
       "      <td>0</td>\n",
       "      <td>0</td>\n",
       "      <td>0</td>\n",
       "      <td>4</td>\n",
       "      <td>509</td>\n",
       "      <td>2665</td>\n",
       "      <td>94</td>\n",
       "      <td>3776</td>\n",
       "    </tr>\n",
       "    <tr>\n",
       "      <th>243829</th>\n",
       "      <td>0</td>\n",
       "      <td>0</td>\n",
       "      <td>0</td>\n",
       "      <td>0</td>\n",
       "      <td>0</td>\n",
       "      <td>0</td>\n",
       "      <td>0</td>\n",
       "      <td>0</td>\n",
       "      <td>0</td>\n",
       "      <td>0</td>\n",
       "      <td>...</td>\n",
       "      <td>0</td>\n",
       "      <td>0</td>\n",
       "      <td>0</td>\n",
       "      <td>0</td>\n",
       "      <td>0</td>\n",
       "      <td>0</td>\n",
       "      <td>0</td>\n",
       "      <td>26</td>\n",
       "      <td>477</td>\n",
       "      <td>2171</td>\n",
       "    </tr>\n",
       "    <tr>\n",
       "      <th>243830</th>\n",
       "      <td>0</td>\n",
       "      <td>0</td>\n",
       "      <td>0</td>\n",
       "      <td>0</td>\n",
       "      <td>0</td>\n",
       "      <td>0</td>\n",
       "      <td>0</td>\n",
       "      <td>0</td>\n",
       "      <td>0</td>\n",
       "      <td>0</td>\n",
       "      <td>...</td>\n",
       "      <td>466</td>\n",
       "      <td>1434</td>\n",
       "      <td>1967</td>\n",
       "      <td>891</td>\n",
       "      <td>158</td>\n",
       "      <td>1212</td>\n",
       "      <td>48</td>\n",
       "      <td>168</td>\n",
       "      <td>8</td>\n",
       "      <td>1393</td>\n",
       "    </tr>\n",
       "    <tr>\n",
       "      <th>243831</th>\n",
       "      <td>0</td>\n",
       "      <td>0</td>\n",
       "      <td>0</td>\n",
       "      <td>0</td>\n",
       "      <td>0</td>\n",
       "      <td>0</td>\n",
       "      <td>0</td>\n",
       "      <td>0</td>\n",
       "      <td>0</td>\n",
       "      <td>0</td>\n",
       "      <td>...</td>\n",
       "      <td>22</td>\n",
       "      <td>2306</td>\n",
       "      <td>2804</td>\n",
       "      <td>1212</td>\n",
       "      <td>624</td>\n",
       "      <td>45</td>\n",
       "      <td>110</td>\n",
       "      <td>631</td>\n",
       "      <td>68</td>\n",
       "      <td>669</td>\n",
       "    </tr>\n",
       "  </tbody>\n",
       "</table>\n",
       "<p>243832 rows × 100 columns</p>\n",
       "</div>"
      ],
      "text/plain": [
       "        0   1   2   3   4   5   6   7   8   9   ...    90    91    92    93  \\\n",
       "0        0   0   0   0   0   0   0   0   0   0  ...     0  1914   220   638   \n",
       "1        0   0   0   0   0   0   0   0   0   0  ...   237   100  3504  1822   \n",
       "2        0   0   0   0   0   0   0   0   0   0  ...  1895   473   165   606   \n",
       "3        0   0   0   0   0   0   0   0   0   0  ...  4338    96  2875  2201   \n",
       "4        0   0   0   0   0   0   0   0   0   0  ...     0     0     0     0   \n",
       "...     ..  ..  ..  ..  ..  ..  ..  ..  ..  ..  ...   ...   ...   ...   ...   \n",
       "243827   0   0   0   0   0   0   0   0   0   0  ...     0     0   614    63   \n",
       "243828   0   0   0   0   0   0   0   0   0   0  ...     0     0     0     0   \n",
       "243829   0   0   0   0   0   0   0   0   0   0  ...     0     0     0     0   \n",
       "243830   0   0   0   0   0   0   0   0   0   0  ...   466  1434  1967   891   \n",
       "243831   0   0   0   0   0   0   0   0   0   0  ...    22  2306  2804  1212   \n",
       "\n",
       "          94    95    96    97    98    99  \n",
       "0        722   129    83   316   754   288  \n",
       "1        153  1964  1490   928  3228   464  \n",
       "2       2291  1333  2959  1439  2252  1237  \n",
       "3         73   517  3747   940  1016  2982  \n",
       "4          0     0     0    18   154  2682  \n",
       "...      ...   ...   ...   ...   ...   ...  \n",
       "243827     9     5  2021  2980   441   222  \n",
       "243828     0     4   509  2665    94  3776  \n",
       "243829     0     0     0    26   477  2171  \n",
       "243830   158  1212    48   168     8  1393  \n",
       "243831   624    45   110   631    68   669  \n",
       "\n",
       "[243832 rows x 100 columns]"
      ]
     },
     "execution_count": 95,
     "metadata": {},
     "output_type": "execute_result"
    }
   ],
   "source": [
    "#let's look at the final matrix that will use as an input for our deep learning algorithms, do you remember \n",
    "#how original text looked like?\n",
    "\n",
    "df_tok_seq = pd.DataFrame(tok_seq)\n",
    "df_tok_seq\n"
   ]
  },
  {
   "cell_type": "code",
   "execution_count": null,
   "metadata": {},
   "outputs": [],
   "source": []
  },
  {
   "cell_type": "code",
   "execution_count": null,
   "metadata": {
    "collapsed": true
   },
   "outputs": [],
   "source": []
  }
 ],
 "metadata": {
  "kernelspec": {
   "display_name": "Python 3",
   "language": "python",
   "name": "python3"
  },
  "language_info": {
   "codemirror_mode": {
    "name": "ipython",
    "version": 3
   },
   "file_extension": ".py",
   "mimetype": "text/x-python",
   "name": "python",
   "nbconvert_exporter": "python",
   "pygments_lexer": "ipython3",
   "version": "3.10.7"
  }
 },
 "nbformat": 4,
 "nbformat_minor": 2
}
