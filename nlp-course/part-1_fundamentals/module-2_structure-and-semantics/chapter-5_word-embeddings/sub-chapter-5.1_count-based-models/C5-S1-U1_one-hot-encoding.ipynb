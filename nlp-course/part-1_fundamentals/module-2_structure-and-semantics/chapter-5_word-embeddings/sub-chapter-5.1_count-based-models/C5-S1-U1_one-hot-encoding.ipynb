{
 "cells": [
  {
   "cell_type": "code",
   "execution_count": 1,
   "id": "ad88469d",
   "metadata": {},
   "outputs": [],
   "source": [
    "from sklearn.preprocessing import OneHotEncoder\n",
    "import numpy as np\n",
    "import jieba"
   ]
  },
  {
   "cell_type": "code",
   "execution_count": 2,
   "id": "582b4965",
   "metadata": {},
   "outputs": [],
   "source": [
    "# 完整的句子\n",
    "sentence = \"我喜歡閱讀書籍，也喜歡使用電腦來學習新的知識\""
   ]
  },
  {
   "cell_type": "code",
   "execution_count": 3,
   "id": "8d5742ea",
   "metadata": {},
   "outputs": [
    {
     "name": "stderr",
     "output_type": "stream",
     "text": [
      "Building prefix dict from the default dictionary ...\n",
      "Loading model from cache C:\\Users\\darren\\AppData\\Local\\Temp\\jieba.cache\n",
      "Loading model cost 0.602 seconds.\n",
      "Prefix dict has been built successfully.\n"
     ]
    },
    {
     "data": {
      "text/plain": [
       "['我', '喜歡', '閱讀', '書籍', '，', '也', '喜歡', '使用', '電腦來', '學習', '新', '的', '知識']"
      ]
     },
     "execution_count": 3,
     "metadata": {},
     "output_type": "execute_result"
    }
   ],
   "source": [
    "# 使用 jieba 進行斷詞\n",
    "words = list(jieba.cut(sentence)); words"
   ]
  },
  {
   "cell_type": "code",
   "execution_count": 4,
   "id": "b5ec56d8",
   "metadata": {},
   "outputs": [
    {
     "data": {
      "text/plain": [
       "array([['我'],\n",
       "       ['喜歡'],\n",
       "       ['閱讀'],\n",
       "       ['書籍'],\n",
       "       ['，'],\n",
       "       ['也'],\n",
       "       ['喜歡'],\n",
       "       ['使用'],\n",
       "       ['電腦來'],\n",
       "       ['學習'],\n",
       "       ['新'],\n",
       "       ['的'],\n",
       "       ['知識']], dtype='<U3')"
      ]
     },
     "execution_count": 4,
     "metadata": {},
     "output_type": "execute_result"
    }
   ],
   "source": [
    "# 轉換為 OneHotEncoder 能接受的二維陣列形式\n",
    "words_array = np.array(words).reshape(-1, 1); words_array"
   ]
  },
  {
   "cell_type": "code",
   "execution_count": 5,
   "id": "f0f427ec",
   "metadata": {},
   "outputs": [],
   "source": [
    "# 建立 OneHotEncoder 物件\n",
    "onehot_encoder = OneHotEncoder(sparse_output=False)"
   ]
  },
  {
   "cell_type": "code",
   "execution_count": 6,
   "id": "bbf168cd",
   "metadata": {},
   "outputs": [],
   "source": [
    "# 進行 one-hot encoding\n",
    "onehot_encoded = onehot_encoder.fit_transform(words_array)"
   ]
  },
  {
   "cell_type": "code",
   "execution_count": 7,
   "id": "68ce5630",
   "metadata": {},
   "outputs": [
    {
     "name": "stdout",
     "output_type": "stream",
     "text": [
      "[array(['也', '使用', '喜歡', '學習', '我', '新', '書籍', '的', '知識', '閱讀', '電腦來', '，'],\n",
      "      dtype='<U3')]\n",
      "[[0. 0. 0. 0. 1. 0. 0. 0. 0. 0. 0. 0.]\n",
      " [0. 0. 1. 0. 0. 0. 0. 0. 0. 0. 0. 0.]\n",
      " [0. 0. 0. 0. 0. 0. 0. 0. 0. 1. 0. 0.]\n",
      " [0. 0. 0. 0. 0. 0. 1. 0. 0. 0. 0. 0.]\n",
      " [0. 0. 0. 0. 0. 0. 0. 0. 0. 0. 0. 1.]\n",
      " [1. 0. 0. 0. 0. 0. 0. 0. 0. 0. 0. 0.]\n",
      " [0. 0. 1. 0. 0. 0. 0. 0. 0. 0. 0. 0.]\n",
      " [0. 1. 0. 0. 0. 0. 0. 0. 0. 0. 0. 0.]\n",
      " [0. 0. 0. 0. 0. 0. 0. 0. 0. 0. 1. 0.]\n",
      " [0. 0. 0. 1. 0. 0. 0. 0. 0. 0. 0. 0.]\n",
      " [0. 0. 0. 0. 0. 1. 0. 0. 0. 0. 0. 0.]\n",
      " [0. 0. 0. 0. 0. 0. 0. 1. 0. 0. 0. 0.]\n",
      " [0. 0. 0. 0. 0. 0. 0. 0. 1. 0. 0. 0.]]\n"
     ]
    }
   ],
   "source": [
    "# 輸出結果\n",
    "# ['我', '喜歡', '閱讀', '書籍', '，', '也', '喜歡', '使用', '電腦來', '學習', '新', '的', '知識']\n",
    "print(onehot_encoder.categories_)\n",
    "print(onehot_encoded)"
   ]
  },
  {
   "cell_type": "code",
   "execution_count": 8,
   "id": "047d9416",
   "metadata": {},
   "outputs": [
    {
     "name": "stdout",
     "output_type": "stream",
     "text": [
      "[0. 0. 0. 0. 0. 1. 0. 0. 0. 0. 0. 0. 0.]\n",
      "[0. 1. 0. 0. 0. 0. 1. 0. 0. 0. 0. 0. 0.]\n"
     ]
    }
   ],
   "source": [
    "# 找出「也」的 One-Hot Encoding\n",
    "print(onehot_encoded[:, 0])\n",
    "\n",
    "# 找出「喜歡」的 One-Hot Encoding\n",
    "print(onehot_encoded[:, 2])"
   ]
  }
 ],
 "metadata": {
  "kernelspec": {
   "display_name": "python3@nlp",
   "language": "python",
   "name": "k_nlp"
  },
  "language_info": {
   "codemirror_mode": {
    "name": "ipython",
    "version": 3
   },
   "file_extension": ".py",
   "mimetype": "text/x-python",
   "name": "python",
   "nbconvert_exporter": "python",
   "pygments_lexer": "ipython3",
   "version": "3.10.11"
  }
 },
 "nbformat": 4,
 "nbformat_minor": 5
}
