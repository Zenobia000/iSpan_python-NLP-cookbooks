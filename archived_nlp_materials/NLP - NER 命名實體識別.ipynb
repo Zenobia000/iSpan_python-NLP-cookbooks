{
 "cells": [
  {
   "cell_type": "markdown",
   "metadata": {},
   "source": [
    "## 英文 NER\n",
    "### 參考資料\n",
    "- https://segmentfault.com/a/1190000017015436\n",
    "- https://medium.com/%E6%88%91%E5%B0%B1%E5%95%8F%E4%B8%80%E5%8F%A5-%E6%80%8E%E9%BA%BC%E5%AF%AB/named-entity-recognition-%E5%91%BD%E5%90%8D%E5%AF%A6%E9%AB%94%E8%AD%98%E5%88%A5-309e97823a43"
   ]
  },
  {
   "cell_type": "code",
   "execution_count": 34,
   "metadata": {},
   "outputs": [
    {
     "name": "stdout",
     "output_type": "stream",
     "text": [
      "        Entity Name   Entity Type\n",
      "0            Africa        PERSON\n",
      "1   Central America  ORGANIZATION\n",
      "2              Asia           GPE\n",
      "3            Zürich           GPE\n",
      "4             North           GPE\n",
      "5     South America           GPE\n",
      "6              FIFA  ORGANIZATION\n",
      "7             Spain           GPE\n",
      "8           Denmark           GPE\n",
      "9       Switzerland           GPE\n",
      "10           Sweden           GPE\n",
      "11           France           GPE\n",
      "12           Europe           GPE\n",
      "13          Oceania           GPE\n",
      "14      Netherlands           GPE\n",
      "15          Belgium           GPE\n",
      "16        Caribbean      LOCATION\n",
      "17          Germany           GPE\n"
     ]
    }
   ],
   "source": [
    "# 正則表達處理套件\n",
    "import re\n",
    "\n",
    "import pandas as pd\n",
    "import numpy as np\n",
    "# Natural Language Tool Kit\n",
    "import nltk\n",
    "\n",
    "\n",
    "def parse_document(document):\n",
    "   document = re.sub('\\n', ' ', document)\n",
    "   if isinstance(document, str):\n",
    "       document = document\n",
    "   else:\n",
    "       raise ValueError('Document is not string!')\n",
    "   document = document.strip() # 去頭尾空白\n",
    "   sentences = nltk.sent_tokenize(document) # 斷句\n",
    "   sentences = [sentence.strip() for sentence in sentences]\n",
    "   return sentences\n",
    "\n",
    "# sample document\n",
    "text = \"\"\"\n",
    "FIFA was founded in 1904 to oversee international competition among the national associations of Belgium, \n",
    "Denmark, France, Germany, the Netherlands, Spain, Sweden, and Switzerland. Headquartered in Zürich, its \n",
    "membership now comprises 211 national associations. Member countries must each also be members of one of \n",
    "the six regional confederations into which the world is divided: Africa, Asia, Europe, North & Central America \n",
    "and the Caribbean, Oceania, and South America.\n",
    "\"\"\"\n",
    "# tokenize sentences\n",
    "sentences = parse_document(text)\n",
    "tokenized_sentences = [nltk.word_tokenize(sentence) for sentence in sentences]\n",
    "# tag sentences and use nltk's Named Entity Chunker\n",
    "tagged_sentences = [nltk.pos_tag(sentence) for sentence in tokenized_sentences]\n",
    "ne_chunked_sents = [nltk.ne_chunk(tagged) for tagged in tagged_sentences]\n",
    "# extract all named entities\n",
    "named_entities = []\n",
    "for ne_tagged_sentence in ne_chunked_sents:\n",
    "   for tagged_tree in ne_tagged_sentence:\n",
    "       # extract only chunks having NE labels\n",
    "       if hasattr(tagged_tree, 'label'):\n",
    "           entity_name = ' '.join(c[0] for c in tagged_tree.leaves()) #get NE name\n",
    "           entity_type = tagged_tree.label() # get NE category\n",
    "           named_entities.append((entity_name, entity_type))\n",
    "           # get unique named entities\n",
    "           named_entities = list(set(named_entities))\n",
    "\n",
    "# store named entities in a data frame\n",
    "entity_frame = pd.DataFrame(named_entities, columns=['Entity Name', 'Entity Type'])\n",
    "# display results\n",
    "print(entity_frame)"
   ]
  }
 ],
 "metadata": {
  "kernelspec": {
   "display_name": "Python 3",
   "language": "python",
   "name": "python3"
  },
  "language_info": {
   "codemirror_mode": {
    "name": "ipython",
    "version": 3
   },
   "file_extension": ".py",
   "mimetype": "text/x-python",
   "name": "python",
   "nbconvert_exporter": "python",
   "pygments_lexer": "ipython3",
   "version": "3.10.7"
  },
  "orig_nbformat": 4
 },
 "nbformat": 4,
 "nbformat_minor": 2
}
