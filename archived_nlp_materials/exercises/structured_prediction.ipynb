{
 "cells": [
  {
   "cell_type": "markdown",
   "metadata": {},
   "source": [
    "# Structured Prediction Exercises\n",
    "\n",
    "In the lecture we have looked at a simple toy structured prediction application and model. In this exercise you will change and improve it. "
   ]
  },
  {
   "cell_type": "markdown",
   "metadata": {},
   "source": [
    "##  <font color='green'>Setup 1</font>: Load Libraries"
   ]
  },
  {
   "cell_type": "code",
   "execution_count": 1,
   "metadata": {},
   "outputs": [],
   "source": [
    "%%capture\n",
    "%load_ext autoreload\n",
    "%autoreload 2\n",
    "%matplotlib inline\n",
    "import sys\n",
    "sys.path.append(\"..\")\n",
    "import statnlpbook.util as util\n",
    "import matplotlib\n",
    "import matplotlib.pyplot as plt\n",
    "matplotlib.rcParams['figure.figsize'] = (10.0, 6.0)"
   ]
  },
  {
   "cell_type": "markdown",
   "metadata": {},
   "source": [
    "## <font color='blue'>Task 1</font>: Different Representation\n",
    "Find a different representation and model that also achieves perfect accuracy. "
   ]
  },
  {
   "cell_type": "code",
   "execution_count": 2,
   "metadata": {},
   "outputs": [
    {
     "data": {
      "text/html": [
       "<table style=\"font-size:large;\"><tr><td style='padding:5px'>Yesterday I ate a red apple</td> <td style='padding:5px'>Gestern aß ich einen roten Apfel</td><tr><tr><td style='padding:5px'>Yesterday I ate a red apply with a friend</td> <td style='padding:5px'>Gestern aß ich einen roten Apfel mit einem Freund</td><tr></table>"
      ],
      "text/plain": [
       "<statnlpbook.util.Table at 0x10cdab908>"
      ]
     },
     "execution_count": 2,
     "metadata": {},
     "output_type": "execute_result"
    }
   ],
   "source": [
    "import math\n",
    "import numpy as np\n",
    "\n",
    "x_space = ['I ate an apple', \n",
    "           'I ate a red apple', \n",
    "           'Yesterday I ate a red apple', \n",
    "           'Yesterday I ate a red apply with a friend']\n",
    "y_space = ['Ich aß einen Apfel',\n",
    "           'Ich aß einen roten Apfel',\n",
    "           'Gestern aß ich einen roten Apfel',\n",
    "           'Gestern aß ich einen roten Apfel mit einem Freund']\n",
    "data = list(zip(x_space,y_space))\n",
    "train = data[:2]\n",
    "test = data[2:]\n",
    "\n",
    "def f(x):\n",
    "    \"\"\"Calculate a representation of the input `x`.\"\"\"\n",
    "    return len(x)\n",
    "def g(y):\n",
    "    \"\"\"Calculate a representation of the output `y`.\"\"\"\n",
    "    return len(y)\n",
    "\n",
    "def s(theta,x,y):\n",
    "    \"\"\"Measure the compatibility of sentences `x` and `y` using parameter `theta`\"\"\"\n",
    "    return -abs(theta * f(x) - g(y))\n",
    "\n",
    "def loss(theta, data):\n",
    "    \"\"\"Measure the total number of errors made when predicting with parameter `theta` on training set `data`\"\"\"\n",
    "    total = 0.0\n",
    "    for x,y in data:\n",
    "        max_score = -math.inf\n",
    "        result = None\n",
    "        for y_guess in y_space:\n",
    "            score = s(theta,x,y_guess)\n",
    "            if score > max_score:\n",
    "                result = y_guess\n",
    "                max_score = score\n",
    "        if result != y:\n",
    "            total += 1.0\n",
    "    return total\n",
    "\n",
    "\n",
    "thetas = np.linspace(0.0, 2.0, num=1000)\n",
    "theta_star = thetas[np.argmin([loss(theta,train) for theta in thetas])]\n",
    "\n",
    "def predict(theta, x):\n",
    "    \"\"\"Find the most compatible output sentence given the input sentence `x` and parameter `theta`\"\"\"\n",
    "    max_score = -math.inf\n",
    "    result = None\n",
    "    for y_guess in y_space:\n",
    "        score = s(theta,x,y_guess)\n",
    "        if score > max_score:\n",
    "            result = y_guess\n",
    "            max_score = score\n",
    "    return result\n",
    "\n",
    "util.Table([(x,predict(theta_star, x)) for x,_ in test])"
   ]
  },
  {
   "cell_type": "markdown",
   "metadata": {},
   "source": [
    "## <font color='blue'>Task 2</font>: Smoother Objective\n",
    "\n",
    "Can you find a \"smoother\" objective that is continuous and has optima that also optimise the original objective?"
   ]
  },
  {
   "cell_type": "code",
   "execution_count": 3,
   "metadata": {},
   "outputs": [
    {
     "data": {
      "text/plain": [
       "[<matplotlib.lines.Line2D at 0x10ce36978>]"
      ]
     },
     "execution_count": 3,
     "metadata": {},
     "output_type": "execute_result"
    },
    {
     "data": {
      "image/png": "[encoded data removed]",
      "text/plain": [
       "<matplotlib.figure.Figure at 0x10ac250b8>"
      ]
     },
     "metadata": {},
     "output_type": "display_data"
    }
   ],
   "source": [
    "def my_loss(theta, data):\n",
    "    \"\"\"Measure the total number of errors made when predicting with parameter `theta` on training set `data`\"\"\"\n",
    "    total = 0.0\n",
    "    for x,y in data:\n",
    "        max_score = -math.inf\n",
    "        result = None\n",
    "        for y_guess in y_space:\n",
    "            score = s(theta,x,y_guess)\n",
    "            if score > max_score:\n",
    "                result = y_guess\n",
    "                max_score = score\n",
    "        if result != y:\n",
    "            total += 1.0\n",
    "    return total\n",
    "\n",
    "plt.plot(thetas, [my_loss(theta,train) for theta in thetas])"
   ]
  },
  {
   "cell_type": "markdown",
   "metadata": {},
   "source": [
    "## Solutions\n",
    "\n",
    "You can find the solutions to this exercises [here](structured_prediction_solutions.ipynb)"
   ]
  }
 ],
 "metadata": {
  "kernelspec": {
   "display_name": "Python 3",
   "language": "python",
   "name": "python3"
  },
  "language_info": {
   "codemirror_mode": {
    "name": "ipython",
    "version": 3
   },
   "file_extension": ".py",
   "mimetype": "text/x-python",
   "name": "python",
   "nbconvert_exporter": "python",
   "pygments_lexer": "ipython3",
   "version": "3.6.2"
  }
 },
 "nbformat": 4,
 "nbformat_minor": 1
}
