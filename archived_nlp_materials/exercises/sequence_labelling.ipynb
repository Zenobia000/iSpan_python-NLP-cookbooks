{
 "cells": [
  {
   "cell_type": "markdown",
   "metadata": {},
   "source": [
    "# Sequence Labelling Exercises\n",
    "In these exercises you will work with **part-of-speech tagging,** a classic example of a sequence labelling task for NLP.  We will use the examples from the slides and build upon them."
   ]
  },
  {
   "cell_type": "markdown",
   "metadata": {},
   "source": [
    "## <font color='green'>Setup 1</font>: Load Libraries"
   ]
  },
  {
   "cell_type": "code",
   "execution_count": 1,
   "metadata": {},
   "outputs": [],
   "source": [
    "%load_ext autoreload\n",
    "%autoreload 2\n",
    "%matplotlib inline\n",
    "# %cd .. \n",
    "import sys, os\n",
    "_snlp_book_dir = \"..\"\n",
    "sys.path.append(_snlp_book_dir)\n",
    "from collections import defaultdict\n",
    "import statnlpbook.util as util\n",
    "import statnlpbook.sequence as seq\n",
    "import pandas as pd\n",
    "import matplotlib\n",
    "import warnings\n",
    "warnings.filterwarnings('ignore')\n",
    "matplotlib.rcParams['figure.figsize'] = (8.0, 5.0)"
   ]
  },
  {
   "cell_type": "markdown",
   "metadata": {},
   "source": [
    "## <font color='green'>Setup 2</font>: Load Data"
   ]
  },
  {
   "cell_type": "code",
   "execution_count": 2,
   "metadata": {},
   "outputs": [],
   "source": [
    "train = seq.load_tweebank(\"../data/oct27.splits/oct27.train\")\n",
    "dev = seq.load_tweebank(\"../data/oct27.splits/oct27.dev\")"
   ]
  },
  {
   "cell_type": "markdown",
   "metadata": {},
   "source": [
    "## <font color='blue'>Task 1</font>: Ambiguity\n",
    "\n",
    "We have established that POS tagging is a **disambiguation** task, since identical words can have different POS tags based on their context.  In this exercise, you are tasked with finding some of these ambiguities in the Tweebank corpus.\n",
    "\n",
    "1. Count the POS tags associated with each word (in the training set), and find the top 10 words that occur with the highest number of different POS tags.\n",
    "2. Pick one of these words and extract a concrete example of that word for each of its POS tags.\n",
    "   + Can you follow why different POS tags are used for these different occurrences?\n",
    "   + *Bonus:* What information do you think a machine learning algorithm would need to choose the correct POS tags in these instances?\n",
    "\n",
    "**Reminder:** You can find a description of all POS tags in the [Tweebank Annotation Guidelines](http://www.cs.cmu.edu/~ark/TweetNLP/annot_guidelines.pdf)."
   ]
  },
  {
   "cell_type": "code",
   "execution_count": 3,
   "metadata": {},
   "outputs": [
    {
     "data": {
      "text/html": [
       "<div>\n",
       "<style>\n",
       "    .dataframe thead tr:only-child th {\n",
       "        text-align: right;\n",
       "    }\n",
       "\n",
       "    .dataframe thead th {\n",
       "        text-align: left;\n",
       "    }\n",
       "\n",
       "    .dataframe tbody tr th {\n",
       "        vertical-align: top;\n",
       "    }\n",
       "</style>\n",
       "<table border=\"1\" class=\"dataframe\">\n",
       "  <thead>\n",
       "    <tr style=\"text-align: right;\">\n",
       "      <th></th>\n",
       "      <th>Word</th>\n",
       "      <th>Tags</th>\n",
       "    </tr>\n",
       "  </thead>\n",
       "  <tbody>\n",
       "  </tbody>\n",
       "</table>\n",
       "</div>"
      ],
      "text/plain": [
       "Empty DataFrame\n",
       "Columns: [Word, Tags]\n",
       "Index: []"
      ]
     },
     "execution_count": 3,
     "metadata": {},
     "output_type": "execute_result"
    }
   ],
   "source": [
    "words = defaultdict(set)\n",
    "\n",
    "for x, y in train:\n",
    "    for x_i, y_i in zip(x, y):\n",
    "        # x_i is a token, y_i is its POS tag\n",
    "        pass\n",
    "\n",
    "ambiguity_table = pd.DataFrame([], columns=['Word','Tags'])\n",
    "ambiguity_table[:10]"
   ]
  },
  {
   "cell_type": "code",
   "execution_count": 4,
   "metadata": {},
   "outputs": [
    {
     "data": {
      "text/plain": [
       "[(('in', 'Louisiana', 'Senate', 'race'), ('P', '^', '^', 'N'))]"
      ]
     },
     "execution_count": 4,
     "metadata": {},
     "output_type": "execute_result"
    }
   ],
   "source": [
    "# Find concrete examples for word 'w' with a given tag 't'\n",
    "seq.find_tag_contexts(train, lambda w, t: w == 'Senate' and t == '^')"
   ]
  },
  {
   "cell_type": "markdown",
   "metadata": {},
   "source": [
    "## <font color='blue'>Task 2</font>: Features for POS tagging\n",
    "\n",
    "Our `LocalSequenceLabeler` needs a feature function.  We have seen that adding features that signal whether a word starts with \"@\" or with a lowercase character can improve POS tagging accuracy.  We have also looked at ways to analyze our tagger's mistakes, such as plotting a confusion matrix.\n",
    "\n",
    "In this exercise, your task is to add more features to improve the tagger's performance even further.\n",
    "\n",
    "Look at the confusion matrix, or at some concrete mistakes that the tagger currently makes, and try to come up with new features that improve the accuracy on the dev set!"
   ]
  },
  {
   "cell_type": "code",
   "execution_count": 5,
   "metadata": {},
   "outputs": [
    {
     "data": {
      "text/plain": [
       "0.771511507360564"
      ]
     },
     "execution_count": 5,
     "metadata": {},
     "output_type": "execute_result"
    },
    {
     "data": {
      "image/png": "[encoded data removed]",
      "text/plain": [
       "<matplotlib.figure.Figure at 0x7f7148259780>"
      ]
     },
     "metadata": {},
     "output_type": "display_data"
    }
   ],
   "source": [
    "def feat_3(x,i):\n",
    "    return {\n",
    "        'bias':1.0,  \n",
    "        'word:' + x[i]: 1.0,\n",
    "        'first_at:' + str(x[i][0:1] == '@'): 1.0,\n",
    "        'is_lower:' + str(x[i].islower()): 1.0\n",
    "    }\n",
    "def your_feats(x,i):\n",
    "    return {\n",
    "        **feat_3(x,i),\n",
    "        # TODO\n",
    "    }\n",
    "local = seq.LocalSequenceLabeler(your_feats, train)\n",
    "\n",
    "seq.plot_confusion_matrix(dev, local.predict(dev))\n",
    "seq.accuracy(dev, local.predict(dev))"
   ]
  },
  {
   "cell_type": "code",
   "execution_count": 6,
   "metadata": {},
   "outputs": [
    {
     "data": {
      "text/html": [
       "\n",
       "        <div id=\"53b618be-bb47-11e8-939f-54e1ad66550d\" class=\"carousel\" data-ride=\"carousel\" data-interval=\"false\">\n",
       "          <!-- Controls -->\n",
       "          <a href=\"#53b618be-bb47-11e8-939f-54e1ad66550d\" role=\"button2\" data-slide=\"prev\">Previous</a>\n",
       "          &nbsp;\n",
       "          <a  href=\"#53b618be-bb47-11e8-939f-54e1ad66550d\" role=\"button2\" data-slide=\"next\">Next</a>\n",
       "          <div class=\"carousel-inner\" role=\"listbox\">\n",
       "          <div class=\"item active\"><table style=\"\"><tr><td><b>Senate</b></td><td>#ArtsGrades</td><td>are</td><td>in</td><td>!</td></tr><tr><td><b>^</b></td><td>N</td><td>V</td><td>P</td><td>,</td></tr><tr><td><b>N</b></td><td>^</td><td>V</td><td>P</td><td>,</td></tr></table>\n",
       "        <table>\n",
       "          <tr><td>bias</td><td>first_at:False</td><td>is_lower:False</td><td>word:Senate</td></tr>\n",
       "          <tr><td>1.0</td><td>1.0</td><td>1.0</td><td>1.0</td></tr>\n",
       "          <tr><td>-2.45</td><td>0.85</td><td>0.01</td><td>0.78</td></tr>\n",
       "          <tr><td>-2.28</td><td>1.80</td><td>-1.67</td><td>2.49</td></tr>\n",
       "        </table> 1 / 3</div>\n",
       "<div class=\"item\"><table style=\"\"><tr><td>to</td><td>go</td><td>for</td><td>Halloween</td><td>on</td><td><b>fri</b></td><td>and</td><td>sat</td><td>...</td><td>Thinking</td></tr><tr><td>P</td><td>V</td><td>P</td><td>^</td><td>P</td><td><b>^</b></td><td>&</td><td>^</td><td>,</td><td>V</td></tr><tr><td>P</td><td>V</td><td>P</td><td>^</td><td>P</td><td><b>N</b></td><td>&</td><td>V</td><td>,</td><td>^</td></tr></table>\n",
       "        <table>\n",
       "          <tr><td>bias</td><td>first_at:False</td><td>is_lower:True</td><td>word:fri</td></tr>\n",
       "          <tr><td>1.0</td><td>1.0</td><td>1.0</td><td>1.0</td></tr>\n",
       "          <tr><td>-2.45</td><td>0.85</td><td>-2.46</td><td>0.00</td></tr>\n",
       "          <tr><td>-2.28</td><td>1.80</td><td>-0.61</td><td>0.00</td></tr>\n",
       "        </table> 2 / 3</div>\n",
       "<div class=\"item\"><table style=\"\"><tr><td>fri</td><td>and</td><td>sat</td><td>...</td><td>Thinking</td><td><b>pyramid</b></td><td>on</td><td>sat</td><td>...</td></tr><tr><td>^</td><td>&</td><td>^</td><td>,</td><td>V</td><td><b>^</b></td><td>P</td><td>^</td><td>,</td></tr><tr><td>N</td><td>&</td><td>V</td><td>,</td><td>^</td><td><b>N</b></td><td>P</td><td>V</td><td>,</td></tr></table>\n",
       "        <table>\n",
       "          <tr><td>bias</td><td>first_at:False</td><td>is_lower:True</td><td>word:pyramid</td></tr>\n",
       "          <tr><td>1.0</td><td>1.0</td><td>1.0</td><td>1.0</td></tr>\n",
       "          <tr><td>-2.45</td><td>0.85</td><td>-2.46</td><td>0.00</td></tr>\n",
       "          <tr><td>-2.28</td><td>1.80</td><td>-0.61</td><td>0.00</td></tr>\n",
       "        </table> 3 / 3</div>\n",
       "          </div>\n",
       "        </div>\n",
       "        "
      ],
      "text/plain": [
       "<statnlpbook.util.Carousel at 0x7f70fdb10a58>"
      ]
     },
     "execution_count": 6,
     "metadata": {},
     "output_type": "execute_result"
    }
   ],
   "source": [
    "# Optionally: Look at some example mistakes for inspiration\n",
    "util.Carousel(local.errors(dev[10:20], \n",
    "                           filter_guess=lambda y: y=='N',\n",
    "                           filter_gold=lambda y: y=='^'))"
   ]
  },
  {
   "cell_type": "code",
   "execution_count": null,
   "metadata": {},
   "outputs": [],
   "source": []
  }
 ],
 "metadata": {
  "kernelspec": {
   "display_name": "Python 3",
   "language": "python",
   "name": "python3"
  },
  "language_info": {
   "codemirror_mode": {
    "name": "ipython",
    "version": 3
   },
   "file_extension": ".py",
   "mimetype": "text/x-python",
   "name": "python",
   "nbconvert_exporter": "python",
   "pygments_lexer": "ipython3",
   "version": "3.6.5"
  }
 },
 "nbformat": 4,
 "nbformat_minor": 2
}
