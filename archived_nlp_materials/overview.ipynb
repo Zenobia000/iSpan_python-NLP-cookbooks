{
 "cells": [
  {
   "cell_type": "code",
   "execution_count": 1,
   "metadata": {
    "pycharm": {
     "name": "#%% md\n"
    }
   },
   "outputs": [
    {
     "data": {
      "text/markdown": [
       "# Natural Language Processing (NDAK18000U)\n",
       "## Course at the University of Copenhagen\n",
       "\n",
       "Materials from this interactive book are used throughout the Natural Language Processing course at the Department of Computer Science, University of Copenhagen. The official course description can be found [here](https://kurser.ku.dk/course/ndak18000u). Materials covered each week are listed below. The course schedule and materials are tentative and subject to minor changes. Most reading material is from [Speech and Language Processing by Jurafsky & Martin](https://web.stanford.edu/~jurafsky/slp3).\n",
       "\n",
       "<table>\n",
       "   <tr>\n",
       "      <th>Week</th>\n",
       "      <th>Reading (before lecture)</th>\n",
       "      <th>Lecture (Tuesday)</th>\n",
       "      <th>Lab (Friday &amp; Monday)</th>\n",
       "      <th>Lab notebook</th>\n",
       "   </tr>\n",
       "   <tr>\n",
       "      <td>36</td>\n",
       "      <td> <a href='https://web.stanford.edu/~jurafsky/slp3/2.pdf'>Chapter 2 up to end of 2.5</a><br> <a href='https://web.stanford.edu/~jurafsky/slp3/4.pdf'>Chapter 4 up to end of 4.5</a><br> <a href='https://web.stanford.edu/~jurafsky/slp3/5.pdf'>Chapter 5 up to end of 5.6</a><br> </td>\n",
       "      <td>2. Sep. 2025:<br> Course Logistics (<a href='chapters/course_logistics.ipynb'>slides</a>)<br> Introduction to NLP (<a href='chapters/intro_short.ipynb'>slides</a>)<br> Tokenisation &amp; Sentence Splitting (<a href='chapters/tokenization.ipynb'>notes</a>, <a href='chapters/tokenization_slides.ipynb'>slides</a>, <a href='exercises/tokenization.ipynb'>exercises</a>)<br> Text Classification (<a href='chapters/doc_classify_slides_short.ipynb'>slides</a>)<br> </td>\n",
       "      <td>5. &amp; 8. Sep. 2025:<br> Jupyter notebook setup, introduction to <a href='https://colab.research.google.com/'>Colab</a><br> Introduction to <a href='https://pytorch.org/tutorials/'>PyTorch</a><br> Project group arrangements<br> Questions about the course project<br> </td>\n",
       "      <td><a href='labs/notebooks_2025/lab_1.ipynb'>lab 1</a></td>\n",
       "   </tr>\n",
       "   <tr>\n",
       "      <td>37</td>\n",
       "      <td> <a href='https://web.stanford.edu/~jurafsky/slp3/3.pdf'>Chapter 3 up to end of 3.5</a><br> <a href='https://web.stanford.edu/~jurafsky/slp3/6.pdf'>Chapter 6 up to end of 6.4</a><br> <a href='https://web.stanford.edu/~jurafsky/slp3/7.pdf'>Chapter 7 up to end of 7.5</a><br> </td>\n",
       "      <td>9. Sep. 2025:<br> Language Modelling (<a href='chapters/language_models_slides.ipynb'>slides</a>)<br> Word Embeddings (<a href='chapters/dl-representations_simple.ipynb'>slides</a>)<br> </td>\n",
       "      <td>12. &amp; 15. Sep. 2025:<br> Word representations and sentiment classification<br> Project help<br> </td>\n",
       "      <td><a href='labs/notebooks_2025/lab_2.ipynb'>lab 2</a></td>\n",
       "   </tr>\n",
       "   <tr>\n",
       "      <td>38</td>\n",
       "      <td> <a href='https://web.stanford.edu/~jurafsky/slp3/7.pdf'>Chapter 7 up to end of 7.6</a><br> <a href='https://web.stanford.edu/~jurafsky/slp3/8.pdf'>Chapter 8 up to end of 8.7</a> </td>\n",
       "      <td>16. Sep. 2025:<br> Recurrent Neural Networks (<a href='chapters/rnn_slides_ucph.ipynb'>slides</a>)<br> Neural Language Models (<a href='chapters/dl-representations_contextual.ipynb'>slides</a>)<br> </td>\n",
       "      <td>19. &amp; 22. Sep. 2025:<br> Error analysis and explainability<br> Project help<br> </td>\n",
       "      <td><a href='labs/notebooks_2025/lab_3.ipynb'>lab 3</a></td>\n",
       "   </tr>\n",
       "   <tr>\n",
       "      <td>39</td>\n",
       "      <td> <a href='https://web.stanford.edu/~jurafsky/slp3/8.pdf'>Chapter 8 up to end of 8.8</a><br> <a href='https://web.stanford.edu/~jurafsky/slp3/9.pdf'>Chapter 9 up to end of 9.2</a><br> <a href='https://web.stanford.edu/~jurafsky/slp3/10.pdf'>Chapter 10 up to end of 10.2</a><br> <a href='https://web.stanford.edu/~jurafsky/slp3/11.pdf'>Chapter 11</a> </td>\n",
       "      <td>23. Sep. 2025:<br> Attention (<a href='chapters/attention_slides2.ipynb'>slides</a>)<br> Transformers (<a href='chapters/dl-representations_contextual_transformers.ipynb'>slides</a>)<br> </td>\n",
       "      <td>26. &amp; 29. Sep. 2025:<br> Language Models with <a href='https://huggingface.co/course/chapter1'>Transformers</a> and RNNs<br> Project help<br> </td>\n",
       "      <td><a href='labs/notebooks_2025/lab_4.ipynb'>lab 5</a></td>\n",
       "   </tr>\n",
       "   <tr>\n",
       "      <td>40</td>\n",
       "      <td> <a href='https://web.stanford.edu/~jurafsky/slp3/17.pdf'>Chapter 17 up to end of 17.3</a><br> <a href='https://web.stanford.edu/~jurafsky/slp3/19.pdf'>Chapter 19 up to end of 19.2</a> </td>\n",
       "      <td>30. Sep. 2025:<br> Sequence Labelling (<a href='chapters/sequence_labeling_slides.ipynb'>slides</a>)<br> Parsing (<a href='chapters/dependency_parsing_slides_active.ipynb'>slides</a>)<br> </td>\n",
       "      <td>3. &amp; 6. Oct. 2025:<br> Sequence labelling and beam search<br> Project help<br> </td>\n",
       "      <td><a href='labs/notebooks_2025/lab_5.ipynb'>lab 4</a></td>\n",
       "   </tr>\n",
       "   <tr>\n",
       "      <td>41</td>\n",
       "      <td> <a href='https://web.stanford.edu/~jurafsky/slp3/14.pdf'>Chapter 14</a><br> <a href='https://web.stanford.edu/~jurafsky/slp3/20.pdf'>Chapter 20</a> </td>\n",
       "      <td>7. Oct. 2025:<br> Information Extraction (<a href='chapters/information_extraction_slides.ipynb'>slides</a>)<br> Question Answering (<a href='chapters/question_answering_slides.ipynb'>slides</a>)<br> </td>\n",
       "      <td>10. &amp; 20. Oct. 2025:<br> In-depth look at Transformers and Multilingual QA<br> Project help<br> </td>\n",
       "      <td><a href='labs/notebooks_2025/lab_6.ipynb'>lab 6</a></td>\n",
       "   </tr>\n",
       "   <tr>\n",
       "      <td>43</td>\n",
       "      <td> <a href='https://web.stanford.edu/~jurafsky/slp3/12.pdf'>Chapter 12</a><br> <a href='https://web.stanford.edu/~jurafsky/slp3/13.pdf'>Chapter 13</a><br> </td>\n",
       "      <td>21. Oct. 2025:<br> Machine Translation (<a href='chapters/nmt_slides_active.ipynb'>slides</a>)<br> Transfer Learning (<a href='chapters/xling_transfer_learning_slides.ipynb'>slides</a>)<br> </td>\n",
       "      <td>24. &amp; 27. Oct. 2025: Project help.</td>\n",
       "      <td></td>\n",
       "   </tr>\n",
       "   <tr>\n",
       "      <td>44</td>\n",
       "      <td> <a href='https://web.stanford.edu/~jurafsky/slp3/9.pdf'>Chapter 9 up to end of 9.3</a><br> <a href='https://arxiv.org/abs/2508.16982'> Chalkidis, 2025</a> </td>\n",
       "      <td>28. Oct. 2025:<br> Post-training: Instruction Tuning & Alignment (<a href='chapters/post_training_llms_slides.pdf'>slides</a>)<br> Sociotechnical Challenges of Alignment (TBA)<br> </td>\n",
       "      <td>31. Oct. 2025: Project help.</td>\n",
       "      <td></td>\n",
       "   </tr>\n",
       "</table>\n",
       "The easiest way to view the course content is via the static [nbviewer](https://nbviewer.jupyter.org/github/coastalcph/nlp-course/blob/master/overview.ipynb). \n",
       "To be able to make changes to the book and render it dynamically, see the [installation instructions](INSTALL.md).\n"
      ],
      "text/plain": [
       "<IPython.core.display.Markdown object>"
      ]
     },
     "metadata": {},
     "output_type": "display_data"
    }
   ],
   "source": [
    "from IPython.display import Markdown, display\n",
    "\n",
    "display(Markdown(\"README.md\"))"
   ]
  }
 ],
 "metadata": {
  "kernelspec": {
   "display_name": "Python 3 (ipykernel)",
   "language": "python",
   "name": "python3"
  },
  "language_info": {
   "codemirror_mode": {
    "name": "ipython",
    "version": 3
   },
   "file_extension": ".py",
   "mimetype": "text/x-python",
   "name": "python",
   "nbconvert_exporter": "python",
   "pygments_lexer": "ipython3",
   "version": "3.8.17"
  }
 },
 "nbformat": 4,
 "nbformat_minor": 4
}
