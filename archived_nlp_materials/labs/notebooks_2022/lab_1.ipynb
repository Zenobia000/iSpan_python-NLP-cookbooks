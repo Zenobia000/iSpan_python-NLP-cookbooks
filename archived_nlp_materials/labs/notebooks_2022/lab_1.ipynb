{
 "cells": [
  {
   "cell_type": "markdown",
   "metadata": {},
   "source": [
    "# Welcome\n",
    "\n",
    "<table>\n",
    "      <tr>\n",
    "    <td style=\"text-align:center\">Erik Arakelyan</td>\n",
    "    <td style=\"text-align:center\">Nadav Borenstein</td>\n",
    "    <td style=\"text-align:center\">Ruixiang Cui</td>\n",
    "     <td style=\"text-align:center\">Karolina Stańczak</td>\n",
    "  </tr>\n",
    "    <tr>\n",
    "  <td><img src=\"../../img/Erik.jpeg\" width=\"200px\" /></td>\n",
    "  <td><img src=\"../../img/Nadav.jpeg\" width=\"200px\" /></td>\n",
    "  <td><img src=\"../../img/rui.jpg\" width=\"200px\" /></td>\n",
    "  <td><img src=\"../../img/karolina_featured.png\" width=\"200px\" /></td>\n",
    "    </tr>\n",
    "</table>"
   ]
  },
  {
   "cell_type": "markdown",
   "metadata": {},
   "source": [
    "## Lab Schedule\n",
    "    \n",
    "- Lab Sessions:\n",
    "    - Group 1: Mondays, 10-12 in øv - 1-0-26, Universitetsparken 1, DIKU, Weeks 37-41 + 43-44\n",
    "    - Group 2: Fridays, 10-12 in øv - 1-0-26, Universitetsparken 1, DIKU, Weeks 36-41 + 43-44\n",
    "\n",
    "We have assigned you to one of two lab session groups based on your answers to the [Getting to Know You survey](https://absalon.instructure.com/courses/52205/quizzes/62668). Please note that this is a preliminary assignment. "
   ]
  },
  {
   "cell_type": "markdown",
   "metadata": {},
   "source": [
    "## Lab Agenda\n",
    "\n",
    "- Introduction to useful tools for the course (Jupyter, Google Colab)\n",
    "- Setting up the course environment\n",
    "- Tokenisation \n",
    "- Introduction to PyTorch\n",
    "- Questions about the course project / group work on the  project"
   ]
  },
  {
   "cell_type": "markdown",
   "metadata": {},
   "source": [
    "## Introduction to Jupyter \n",
    "\n",
    "Jupyter is an open-source web app that combines visualisations, narrative text, mathematical equations, and other rich media in a single document. \n",
    "\n",
    "* Creating new notebook - from the menu File -> New Notebook. Once created, you can rename the notebook by clicking on its name and edit its content by adding (plus button), deleting or editing cells."
   ]
  },
  {
   "cell_type": "code",
   "execution_count": 1,
   "metadata": {},
   "outputs": [
    {
     "name": "stdout",
     "output_type": "stream",
     "text": [
      "Hello, World!\n"
     ]
    }
   ],
   "source": [
    "print(\"Hello, World!\"); # this is a code block"
   ]
  },
  {
   "cell_type": "markdown",
   "metadata": {},
   "source": [
    "This is a _Markdown block_ where you can write text. "
   ]
  },
  {
   "cell_type": "markdown",
   "metadata": {},
   "source": [
    "You can get help about a method with __(<kbd>Shift</kbd> + <kbd>Tab</kbd>)__\n",
    " \n",
    "__(<kbd>Shift</kbd> + <kbd>Enter</kbd>)__ executes the text/code blocks\n",
    "\n",
    "While the a code cell is being executed, you'll see a star on the right side of the cell."
   ]
  },
  {
   "cell_type": "code",
   "execution_count": 2,
   "metadata": {},
   "outputs": [
    {
     "name": "stdout",
     "output_type": "stream",
     "text": [
      "Python 3.7.6\n"
     ]
    }
   ],
   "source": [
    "!python --version # you can also write shell commands in code blocks"
   ]
  },
  {
   "cell_type": "code",
   "execution_count": 3,
   "metadata": {},
   "outputs": [
    {
     "name": "stdout",
     "output_type": "stream",
     "text": [
      "\u001b[33mWARNING: Ignoring invalid distribution -ornado (/Users/tks522/opt/anaconda3/lib/python3.7/site-packages)\u001b[0m\u001b[33m\n",
      "\u001b[0m\u001b[33mWARNING: Ignoring invalid distribution -ornado (/Users/tks522/opt/anaconda3/lib/python3.7/site-packages)\u001b[0m\u001b[33m\n",
      "\u001b[0mRequirement already satisfied: nltk in /Users/tks522/opt/anaconda3/lib/python3.7/site-packages (3.4.5)\n",
      "Requirement already satisfied: six in /Users/tks522/opt/anaconda3/lib/python3.7/site-packages (from nltk) (1.14.0)\n",
      "\u001b[33mWARNING: Ignoring invalid distribution -ornado (/Users/tks522/opt/anaconda3/lib/python3.7/site-packages)\u001b[0m\u001b[33m\n",
      "\u001b[0m\u001b[33mWARNING: Ignoring invalid distribution -ornado (/Users/tks522/opt/anaconda3/lib/python3.7/site-packages)\u001b[0m\u001b[33m\n",
      "\u001b[0m\u001b[33mWARNING: Ignoring invalid distribution -ornado (/Users/tks522/opt/anaconda3/lib/python3.7/site-packages)\u001b[0m\u001b[33m\n",
      "\u001b[0m\u001b[33mWARNING: Ignoring invalid distribution -ornado (/Users/tks522/opt/anaconda3/lib/python3.7/site-packages)\u001b[0m\u001b[33m\n",
      "\u001b[0m"
     ]
    }
   ],
   "source": [
    "!pip3 install nltk # you can also install new libraries"
   ]
  },
  {
   "cell_type": "markdown",
   "metadata": {},
   "source": [
    "We can also create visualisations and save them."
   ]
  },
  {
   "cell_type": "code",
   "execution_count": 4,
   "metadata": {},
   "outputs": [
    {
     "data": {
      "image/png": "[encoded data removed]",
      "text/plain": [
       "<Figure size 432x288 with 1 Axes>"
      ]
     },
     "metadata": {
      "needs_background": "light"
     },
     "output_type": "display_data"
    }
   ],
   "source": [
    "import matplotlib.pyplot as plt\n",
    "%matplotlib inline\n",
    "import numpy as np\n",
    "x = np.linspace(0, 10, 100)\n",
    "\n",
    "fig = plt.figure()\n",
    "plt.plot(x, np.sin(x), '-')\n",
    "plt.plot(x, np.cos(x), '--');"
   ]
  },
  {
   "cell_type": "code",
   "execution_count": 5,
   "metadata": {},
   "outputs": [],
   "source": [
    "fig.savefig('my_figure.png')"
   ]
  },
  {
   "cell_type": "code",
   "execution_count": 6,
   "metadata": {},
   "outputs": [
    {
     "name": "stdout",
     "output_type": "stream",
     "text": [
      "CPU times: user 888 µs, sys: 1.54 ms, total: 2.43 ms\n",
      "Wall time: 10 s\n"
     ]
    }
   ],
   "source": [
    "import time\n",
    "%time time.sleep(10) # this is some jupyter magic"
   ]
  },
  {
   "cell_type": "markdown",
   "metadata": {},
   "source": [
    "All Jupyter magic commands are described [here](https://ipython.readthedocs.io/en/stable/interactive/magics.html)."
   ]
  },
  {
   "cell_type": "code",
   "execution_count": 7,
   "metadata": {},
   "outputs": [],
   "source": [
    "# Magic used in the notebooks : \n",
    "\n",
    "# automatically re-load imported modules every time before executing the Python code typed\n",
    "%load_ext autoreload\n",
    "%autoreload 2\n",
    "\n",
    "# automatically include matplotlib plots in the frontend of the notebook and save them with the notebook\n",
    "%matplotlib inline"
   ]
  },
  {
   "cell_type": "markdown",
   "metadata": {},
   "source": [
    "### Kernels\n",
    "Behind every notebook runs a **kernel**. When you run a code cell, that code is executed within the kernel. The kernel is build with a specific Python version. Any output is returned back to the cell to be displayed. The kernel’s state persists over time and between cells — it pertains to the document as a whole and not individual cells."
   ]
  },
  {
   "cell_type": "code",
   "execution_count": 8,
   "metadata": {},
   "outputs": [
    {
     "name": "stderr",
     "output_type": "stream",
     "text": [
      "[nltk_data] Downloading package punkt to /Users/tks522/nltk_data...\n",
      "[nltk_data]   Package punkt is already up-to-date!\n"
     ]
    }
   ],
   "source": [
    "import nltk\n",
    "nltk.download('punkt')\n",
    "\n",
    "text = \"Time flies like an arrow.\""
   ]
  },
  {
   "cell_type": "code",
   "execution_count": 9,
   "metadata": {},
   "outputs": [
    {
     "data": {
      "text/plain": [
       "['Time', 'flies', 'like', 'an', 'arrow', '.']"
      ]
     },
     "execution_count": 9,
     "metadata": {},
     "output_type": "execute_result"
    }
   ],
   "source": [
    "nltk.tokenize.word_tokenize(text)"
   ]
  },
  {
   "cell_type": "markdown",
   "metadata": {},
   "source": [
    "### Checkpoints\n",
    "\n",
    "When you create a notebook, a checkpoint file is also saved in a hidden directory called .ipynb_checkpoints. Every time you manually save the notebook (__(<kbd>command</kbd> + <kbd>S</kbd>)__), the checkpoint file updates. Jupyter autosaves your work on occasion, which only updates the .ipynb file but not the checkpoint. You can revert back to the latest checkpoint using File -> Revert to Checkpoint."
   ]
  },
  {
   "cell_type": "markdown",
   "metadata": {},
   "source": [
    "### WARNING\n",
    "\n",
    "Code in Jupyter notebooks can be executed in a non-sequential order. Cells can get deleted.\n",
    "Notebooks are dangerous unless you run each cell exactly once and sequentially!\n",
    "\n",
    "To restart the state of the notebook you can select:\n",
    "**\"Kernel -> Restart & Run All\"**\n",
    "\n",
    "This is especially good to do before sharing your notebook with someone else."
   ]
  },
  {
   "cell_type": "markdown",
   "metadata": {},
   "source": [
    "References:\n",
    "- https://www.dataquest.io/blog/jupyter-notebook-tutorial/\n",
    "- https://nbviewer.jupyter.org/github/cgpotts/cs224u/blob/master/tutorial_jupyter_notebooks.ipynb"
   ]
  },
  {
   "cell_type": "markdown",
   "metadata": {},
   "source": [
    "---\n",
    "## Introduction to Colab https://colab.research.google.com/"
   ]
  },
  {
   "cell_type": "markdown",
   "metadata": {},
   "source": [
    "Colab allows to run notebooks on the Google Cloud with free access to GPUs and TPUs. You can run the same commands reviewed above in Colab as well.\n",
    "\n",
    "The notebooks can be shared with other people and you can leave comments and control permissions on it.\n",
    "\n",
    "To run the notebook on GPU/TPU you have to select from the menu Runtime->Change Runtime type, which will be None (CPU) by default.\n",
    "\n",
    "### Collaboration options:\n",
    "- Share button in the upper right corner.\n",
    "- File->Make a Copy creates a copy of the notebook in Drive.\n",
    "- File->Save saves the File to Drive and pins a version to the checkpoint and you can later restore version from File->Revision history\n",
    "- GitHub - you can open notebooks hosted in GitHub, this will open a new editable version of the notebook and any changes won't override the GitHub version. If you want to save the changes to GitHub select File->Make a copy to GitHub.\n",
    "\n",
    "\n",
    "\n",
    "### Using a custom dataset\n",
    "**The code cells below have to be run in a Colab environment!**\n",
    "#### Uploading files from your local file system\n",
    "files.upload returns a dictionary of the files which were uploaded. The dictionary is keyed by the file name and values are the data which were uploaded."
   ]
  },
  {
   "cell_type": "code",
   "execution_count": null,
   "metadata": {},
   "outputs": [],
   "source": [
    "# this code cell has to be run in Colab environment\n",
    "from google.colab import files\n",
    "\n",
    "uploaded = files.upload()\n",
    "\n",
    "for fn in uploaded.keys():\n",
    "    print('User uploaded file \"{name}\" with length {length} bytes'.format(\n",
    "        name=fn, length=len(uploaded[fn])))"
   ]
  },
  {
   "cell_type": "markdown",
   "metadata": {},
   "source": [
    "### files.download will invoke a browser download of the file to your local computer."
   ]
  },
  {
   "cell_type": "code",
   "execution_count": null,
   "metadata": {},
   "outputs": [],
   "source": [
    "from google.colab import files\n",
    "\n",
    "with open('example.txt', 'w') as f:\n",
    "    f.write('some content')\n",
    "\n",
    "files.download('example.txt')"
   ]
  },
  {
   "cell_type": "markdown",
   "metadata": {},
   "source": [
    "### Mounting Google Drive locally\n",
    "You can mount your Google Drive in the notebook and use all of the files available there."
   ]
  },
  {
   "cell_type": "code",
   "execution_count": null,
   "metadata": {},
   "outputs": [],
   "source": [
    "from google.colab import drive\n",
    "drive.mount('/content/drive') # this will trigger permission prompts"
   ]
  },
  {
   "cell_type": "code",
   "execution_count": null,
   "metadata": {},
   "outputs": [],
   "source": [
    "with open('/content/drive/My Drive/foo.txt', 'w') as f:\n",
    "    f.write('Hello Google Drive!')\n",
    "!ls /content/drive/My\\ Drive/ | wc -l"
   ]
  },
  {
   "cell_type": "code",
   "execution_count": null,
   "metadata": {},
   "outputs": [],
   "source": [
    "drive.flush_and_unmount()\n",
    "print('All changes made in this colab session should now be visible in Drive.')"
   ]
  },
  {
   "cell_type": "code",
   "execution_count": null,
   "metadata": {},
   "outputs": [],
   "source": [
    "!pip3 freeze # contains a lot of pre-installed packages"
   ]
  },
  {
   "cell_type": "markdown",
   "metadata": {},
   "source": [
    "References:\n",
    "- Colab guides and examples : https://colab.research.google.com/notebooks/intro.ipynb?hl=en\n",
    "- Integration with GitHub: https://colab.research.google.com/github/googlecolab/colabtools/blob/master/notebooks/colab-github-demo.ipynb#scrollTo=WzIRIt9d2huC\n",
    "- External data handling: https://colab.research.google.com/notebooks/io.ipynb#scrollTo=G5IVmR8S9SeF"
   ]
  },
  {
   "cell_type": "markdown",
   "metadata": {},
   "source": [
    "-----\n",
    "\n",
    "## Python tutorials\n",
    "\n",
    "* Go through this [Notebook](../exercises/python_intro.ipynb) with elementary Python syntax.\n",
    "\n",
    "* [An Informal Introduction to Python](https://docs.python.org/3/tutorial/introduction.html)\n",
    "\n",
    "* [Python for Beginners](https://www.python.org/about/gettingstarted/)\n",
    "\n",
    "* [Learn Python in 10 minutes](https://www.stavros.io/tutorials/python/)\n",
    "\n",
    "* [LOADS of others](https://www.google.co.uk/search?q=python+tutorial)"
   ]
  },
  {
   "cell_type": "markdown",
   "metadata": {
    "jp-MarkdownHeadingCollapsed": true,
    "tags": []
   },
   "source": [
    "----- \n",
    "\n",
    "## stat-nlp-book setup\n",
    "\n",
    "### On your personal computer\n",
    "\n",
    "Go to https://github.com/copenlu/stat-nlp-book and follow the readme to set up the stat-nlp-book.\n",
    "\n",
    "### On Microsoft Azure\n",
    "\n",
    "If you feel adventurous, and want to set up your own Virtual Machine with stat-nlp-book, follow the [Azure tutorial](../tutorials/azure_tutorial.ipynb)"
   ]
  },
  {
   "cell_type": "markdown",
   "metadata": {},
   "source": [
    "## Additional Info\n",
    "\n",
    "### Docker commands\n",
    "* Get a list of the currently running containers <br> \n",
    "<code>docker ps -q</code> <br>\n",
    "* Run shell commands in your container by first getting the id of the container with above command and then: <br>\n",
    "<code>docker exec -it _container-id_ _command_</code> <br>\n",
    "e.g. <code>docker exec -it 8c16b8de4771 python --version</code>\n",
    "\n",
    "\n",
    "### Managing your changes\n",
    "\n",
    "There are several ways to keep your changes within the official repo organised. Some of them are:\n",
    "* Create your own [fork](https://help.github.com/en/articles/fork-a-repo)\n",
    "of the repo. The fork can be [synced](https://help.github.com/en/articles/syncing-a-fork?query=f) with the official course repo when new changes are available. Meanwhile, you can also maintain your changes in your forked repo.\n",
    "* Another option is to keep your changes only in a local branch (<code>git checkout -b _your-branch-name_</code>) on your computer. Each time there is a change in the course repo, you can pull the repo and merge the changes in your branch (<code>git merge origin/master</code>)"
   ]
  },
  {
   "cell_type": "markdown",
   "metadata": {},
   "source": [
    "----\n",
    "\n",
    "## Tokenisation"
   ]
  },
  {
   "cell_type": "markdown",
   "metadata": {},
   "source": [
    "Tokenisation is an important pre-processing step for NLP models. \n",
    "\n",
    "You can tokenise text at different levels - split to sentences, tokens, subwords, etc. \n",
    "\n",
    "There are a lot of corner cases, language-specific and/or domain-specific cases, which have to handled in different ways.\n"
   ]
  },
  {
   "cell_type": "code",
   "execution_count": 10,
   "metadata": {},
   "outputs": [
    {
     "data": {
      "text/plain": [
       "['The office is open between 10 a',\n",
       " '.',\n",
       " 'm',\n",
       " '.',\n",
       " ' and 1 p',\n",
       " '.',\n",
       " 'm',\n",
       " '.',\n",
       " ' every day',\n",
       " '.',\n",
       " '',\n",
       " '.',\n",
       " '',\n",
       " '.',\n",
       " ' Please, be respective of the hours',\n",
       " '.',\n",
       " '']"
      ]
     },
     "execution_count": 10,
     "metadata": {},
     "output_type": "execute_result"
    }
   ],
   "source": [
    "import re\n",
    "\n",
    "text_sentences = \"The office is open between 10 a.m. and 1 p.m. every day... Please, be respective of the hours.\"\n",
    "re.split('(\\.|!|\\?)', text_sentences)"
   ]
  },
  {
   "cell_type": "markdown",
   "metadata": {},
   "source": [
    "Luckily, there are libraries providing tokenisation functionalities that handle most of the cases. Let's look two of the most common libraries for tokenisation:\n",
    "\n",
    "### Spacy"
   ]
  },
  {
   "cell_type": "code",
   "execution_count": 11,
   "metadata": {},
   "outputs": [
    {
     "name": "stdout",
     "output_type": "stream",
     "text": [
      "\u001b[33mWARNING: Ignoring invalid distribution -ornado (/Users/tks522/opt/anaconda3/lib/python3.7/site-packages)\u001b[0m\u001b[33m\n",
      "\u001b[0m\u001b[33mWARNING: Ignoring invalid distribution -ornado (/Users/tks522/opt/anaconda3/lib/python3.7/site-packages)\u001b[0m\u001b[33m\n",
      "\u001b[0mCollecting en-core-web-sm==3.2.0\n",
      "  Downloading https://github.com/explosion/spacy-models/releases/download/en_core_web_sm-3.2.0/en_core_web_sm-3.2.0-py3-none-any.whl (13.9 MB)\n",
      "\u001b[2K     \u001b[90m━━━━━━━━━━━━━━━━━━━━━━━━━━━━━━━━━━━━━━━━\u001b[0m \u001b[32m13.9/13.9 MB\u001b[0m \u001b[31m20.2 MB/s\u001b[0m eta \u001b[36m0:00:00\u001b[0m00:01\u001b[0m00:01\u001b[0m\n",
      "\u001b[?25hRequirement already satisfied: spacy<3.3.0,>=3.2.0 in /Users/tks522/opt/anaconda3/lib/python3.7/site-packages (from en-core-web-sm==3.2.0) (3.2.0)\n",
      "Requirement already satisfied: typing-extensions<4.0.0.0,>=3.7.4 in /Users/tks522/opt/anaconda3/lib/python3.7/site-packages (from spacy<3.3.0,>=3.2.0->en-core-web-sm==3.2.0) (3.7.4.3)\n",
      "Requirement already satisfied: numpy>=1.15.0 in /Users/tks522/opt/anaconda3/lib/python3.7/site-packages (from spacy<3.3.0,>=3.2.0->en-core-web-sm==3.2.0) (1.20.1)\n",
      "Requirement already satisfied: cymem<2.1.0,>=2.0.2 in /Users/tks522/opt/anaconda3/lib/python3.7/site-packages (from spacy<3.3.0,>=3.2.0->en-core-web-sm==3.2.0) (2.0.3)\n",
      "Requirement already satisfied: requests<3.0.0,>=2.13.0 in /Users/tks522/opt/anaconda3/lib/python3.7/site-packages (from spacy<3.3.0,>=3.2.0->en-core-web-sm==3.2.0) (2.22.0)\n",
      "Requirement already satisfied: typer<0.5.0,>=0.3.0 in /Users/tks522/opt/anaconda3/lib/python3.7/site-packages (from spacy<3.3.0,>=3.2.0->en-core-web-sm==3.2.0) (0.4.0)\n",
      "Requirement already satisfied: preshed<3.1.0,>=3.0.2 in /Users/tks522/opt/anaconda3/lib/python3.7/site-packages (from spacy<3.3.0,>=3.2.0->en-core-web-sm==3.2.0) (3.0.6)\n",
      "Requirement already satisfied: wasabi<1.1.0,>=0.8.1 in /Users/tks522/opt/anaconda3/lib/python3.7/site-packages (from spacy<3.3.0,>=3.2.0->en-core-web-sm==3.2.0) (0.9.0)\n",
      "Requirement already satisfied: setuptools in /Users/tks522/opt/anaconda3/lib/python3.7/site-packages (from spacy<3.3.0,>=3.2.0->en-core-web-sm==3.2.0) (60.5.0)\n",
      "Requirement already satisfied: pathy>=0.3.5 in /Users/tks522/opt/anaconda3/lib/python3.7/site-packages (from spacy<3.3.0,>=3.2.0->en-core-web-sm==3.2.0) (0.6.1)\n",
      "Requirement already satisfied: murmurhash<1.1.0,>=0.28.0 in /Users/tks522/opt/anaconda3/lib/python3.7/site-packages (from spacy<3.3.0,>=3.2.0->en-core-web-sm==3.2.0) (1.0.2)\n",
      "Requirement already satisfied: spacy-legacy<3.1.0,>=3.0.8 in /Users/tks522/opt/anaconda3/lib/python3.7/site-packages (from spacy<3.3.0,>=3.2.0->en-core-web-sm==3.2.0) (3.0.8)\n",
      "Requirement already satisfied: thinc<8.1.0,>=8.0.12 in /Users/tks522/opt/anaconda3/lib/python3.7/site-packages (from spacy<3.3.0,>=3.2.0->en-core-web-sm==3.2.0) (8.0.13)\n",
      "Requirement already satisfied: pydantic!=1.8,!=1.8.1,<1.9.0,>=1.7.4 in /Users/tks522/opt/anaconda3/lib/python3.7/site-packages (from spacy<3.3.0,>=3.2.0->en-core-web-sm==3.2.0) (1.8.2)\n",
      "Requirement already satisfied: langcodes<4.0.0,>=3.2.0 in /Users/tks522/opt/anaconda3/lib/python3.7/site-packages (from spacy<3.3.0,>=3.2.0->en-core-web-sm==3.2.0) (3.3.0)\n",
      "Requirement already satisfied: jinja2 in /Users/tks522/opt/anaconda3/lib/python3.7/site-packages (from spacy<3.3.0,>=3.2.0->en-core-web-sm==3.2.0) (2.11.1)\n",
      "Requirement already satisfied: blis<0.8.0,>=0.4.0 in /Users/tks522/opt/anaconda3/lib/python3.7/site-packages (from spacy<3.3.0,>=3.2.0->en-core-web-sm==3.2.0) (0.7.5)\n",
      "Requirement already satisfied: spacy-loggers<2.0.0,>=1.0.0 in /Users/tks522/opt/anaconda3/lib/python3.7/site-packages (from spacy<3.3.0,>=3.2.0->en-core-web-sm==3.2.0) (1.0.1)\n",
      "Requirement already satisfied: catalogue<2.1.0,>=2.0.6 in /Users/tks522/opt/anaconda3/lib/python3.7/site-packages (from spacy<3.3.0,>=3.2.0->en-core-web-sm==3.2.0) (2.0.6)\n",
      "Requirement already satisfied: srsly<3.0.0,>=2.4.1 in /Users/tks522/opt/anaconda3/lib/python3.7/site-packages (from spacy<3.3.0,>=3.2.0->en-core-web-sm==3.2.0) (2.4.2)\n",
      "Requirement already satisfied: packaging>=20.0 in /Users/tks522/opt/anaconda3/lib/python3.7/site-packages (from spacy<3.3.0,>=3.2.0->en-core-web-sm==3.2.0) (20.1)\n",
      "Requirement already satisfied: tqdm<5.0.0,>=4.38.0 in /Users/tks522/opt/anaconda3/lib/python3.7/site-packages (from spacy<3.3.0,>=3.2.0->en-core-web-sm==3.2.0) (4.42.1)\n",
      "Requirement already satisfied: zipp>=0.5 in /Users/tks522/opt/anaconda3/lib/python3.7/site-packages (from catalogue<2.1.0,>=2.0.6->spacy<3.3.0,>=3.2.0->en-core-web-sm==3.2.0) (2.2.0)\n",
      "Requirement already satisfied: six in /Users/tks522/opt/anaconda3/lib/python3.7/site-packages (from packaging>=20.0->spacy<3.3.0,>=3.2.0->en-core-web-sm==3.2.0) (1.14.0)\n",
      "Requirement already satisfied: pyparsing>=2.0.2 in /Users/tks522/opt/anaconda3/lib/python3.7/site-packages (from packaging>=20.0->spacy<3.3.0,>=3.2.0->en-core-web-sm==3.2.0) (2.4.6)\n",
      "Requirement already satisfied: smart-open<6.0.0,>=5.0.0 in /Users/tks522/opt/anaconda3/lib/python3.7/site-packages (from pathy>=0.3.5->spacy<3.3.0,>=3.2.0->en-core-web-sm==3.2.0) (5.2.1)\n",
      "Requirement already satisfied: certifi>=2017.4.17 in /Users/tks522/opt/anaconda3/lib/python3.7/site-packages (from requests<3.0.0,>=2.13.0->spacy<3.3.0,>=3.2.0->en-core-web-sm==3.2.0) (2019.11.28)\n",
      "Requirement already satisfied: chardet<3.1.0,>=3.0.2 in /Users/tks522/opt/anaconda3/lib/python3.7/site-packages (from requests<3.0.0,>=2.13.0->spacy<3.3.0,>=3.2.0->en-core-web-sm==3.2.0) (3.0.4)\n",
      "Requirement already satisfied: urllib3!=1.25.0,!=1.25.1,<1.26,>=1.21.1 in /Users/tks522/opt/anaconda3/lib/python3.7/site-packages (from requests<3.0.0,>=2.13.0->spacy<3.3.0,>=3.2.0->en-core-web-sm==3.2.0) (1.25.8)\n",
      "Requirement already satisfied: idna<2.9,>=2.5 in /Users/tks522/opt/anaconda3/lib/python3.7/site-packages (from requests<3.0.0,>=2.13.0->spacy<3.3.0,>=3.2.0->en-core-web-sm==3.2.0) (2.8)\n",
      "Requirement already satisfied: click<9.0.0,>=7.1.1 in /Users/tks522/opt/anaconda3/lib/python3.7/site-packages (from typer<0.5.0,>=0.3.0->spacy<3.3.0,>=3.2.0->en-core-web-sm==3.2.0) (8.0.3)\n",
      "Requirement already satisfied: MarkupSafe>=0.23 in /Users/tks522/opt/anaconda3/lib/python3.7/site-packages (from jinja2->spacy<3.3.0,>=3.2.0->en-core-web-sm==3.2.0) (1.1.1)\n",
      "Requirement already satisfied: importlib-metadata in /Users/tks522/opt/anaconda3/lib/python3.7/site-packages (from click<9.0.0,>=7.1.1->typer<0.5.0,>=0.3.0->spacy<3.3.0,>=3.2.0->en-core-web-sm==3.2.0) (1.5.0)\n",
      "\u001b[33mWARNING: Ignoring invalid distribution -ornado (/Users/tks522/opt/anaconda3/lib/python3.7/site-packages)\u001b[0m\u001b[33m\n",
      "\u001b[0m\u001b[33mWARNING: Ignoring invalid distribution -ornado (/Users/tks522/opt/anaconda3/lib/python3.7/site-packages)\u001b[0m\u001b[33m\n",
      "\u001b[0m\u001b[33mWARNING: Ignoring invalid distribution -ornado (/Users/tks522/opt/anaconda3/lib/python3.7/site-packages)\u001b[0m\u001b[33m\n",
      "\u001b[0m\u001b[33mWARNING: Ignoring invalid distribution -ornado (/Users/tks522/opt/anaconda3/lib/python3.7/site-packages)\u001b[0m\u001b[33m\n",
      "\u001b[0m\u001b[38;5;2m✔ Download and installation successful\u001b[0m\n",
      "You can now load the package via spacy.load('en_core_web_sm')\n",
      "\u001b[33mWARNING: Ignoring invalid distribution -ornado (/Users/tks522/opt/anaconda3/lib/python3.7/site-packages)\u001b[0m\u001b[33m\n",
      "\u001b[0m\u001b[33mWARNING: Ignoring invalid distribution -ornado (/Users/tks522/opt/anaconda3/lib/python3.7/site-packages)\u001b[0m\u001b[33m\n",
      "\u001b[0mCollecting fr-core-news-sm==3.2.0\n",
      "  Downloading https://github.com/explosion/spacy-models/releases/download/fr_core_news_sm-3.2.0/fr_core_news_sm-3.2.0-py3-none-any.whl (17.4 MB)\n",
      "\u001b[2K     \u001b[90m━━━━━━━━━━━━━━━━━━━━━━━━━━━━━━━━━━━━━━━━\u001b[0m \u001b[32m17.4/17.4 MB\u001b[0m \u001b[31m33.2 MB/s\u001b[0m eta \u001b[36m0:00:00\u001b[0m00:01\u001b[0m00:01\u001b[0m\n",
      "\u001b[?25hRequirement already satisfied: spacy<3.3.0,>=3.2.0 in /Users/tks522/opt/anaconda3/lib/python3.7/site-packages (from fr-core-news-sm==3.2.0) (3.2.0)\n",
      "Requirement already satisfied: spacy-loggers<2.0.0,>=1.0.0 in /Users/tks522/opt/anaconda3/lib/python3.7/site-packages (from spacy<3.3.0,>=3.2.0->fr-core-news-sm==3.2.0) (1.0.1)\n",
      "Requirement already satisfied: srsly<3.0.0,>=2.4.1 in /Users/tks522/opt/anaconda3/lib/python3.7/site-packages (from spacy<3.3.0,>=3.2.0->fr-core-news-sm==3.2.0) (2.4.2)\n",
      "Requirement already satisfied: langcodes<4.0.0,>=3.2.0 in /Users/tks522/opt/anaconda3/lib/python3.7/site-packages (from spacy<3.3.0,>=3.2.0->fr-core-news-sm==3.2.0) (3.3.0)\n",
      "Requirement already satisfied: preshed<3.1.0,>=3.0.2 in /Users/tks522/opt/anaconda3/lib/python3.7/site-packages (from spacy<3.3.0,>=3.2.0->fr-core-news-sm==3.2.0) (3.0.6)\n",
      "Requirement already satisfied: blis<0.8.0,>=0.4.0 in /Users/tks522/opt/anaconda3/lib/python3.7/site-packages (from spacy<3.3.0,>=3.2.0->fr-core-news-sm==3.2.0) (0.7.5)\n",
      "Requirement already satisfied: numpy>=1.15.0 in /Users/tks522/opt/anaconda3/lib/python3.7/site-packages (from spacy<3.3.0,>=3.2.0->fr-core-news-sm==3.2.0) (1.20.1)\n",
      "Requirement already satisfied: packaging>=20.0 in /Users/tks522/opt/anaconda3/lib/python3.7/site-packages (from spacy<3.3.0,>=3.2.0->fr-core-news-sm==3.2.0) (20.1)\n",
      "Requirement already satisfied: pydantic!=1.8,!=1.8.1,<1.9.0,>=1.7.4 in /Users/tks522/opt/anaconda3/lib/python3.7/site-packages (from spacy<3.3.0,>=3.2.0->fr-core-news-sm==3.2.0) (1.8.2)\n",
      "Requirement already satisfied: jinja2 in /Users/tks522/opt/anaconda3/lib/python3.7/site-packages (from spacy<3.3.0,>=3.2.0->fr-core-news-sm==3.2.0) (2.11.1)\n",
      "Requirement already satisfied: cymem<2.1.0,>=2.0.2 in /Users/tks522/opt/anaconda3/lib/python3.7/site-packages (from spacy<3.3.0,>=3.2.0->fr-core-news-sm==3.2.0) (2.0.3)\n",
      "Requirement already satisfied: thinc<8.1.0,>=8.0.12 in /Users/tks522/opt/anaconda3/lib/python3.7/site-packages (from spacy<3.3.0,>=3.2.0->fr-core-news-sm==3.2.0) (8.0.13)\n",
      "Requirement already satisfied: typer<0.5.0,>=0.3.0 in /Users/tks522/opt/anaconda3/lib/python3.7/site-packages (from spacy<3.3.0,>=3.2.0->fr-core-news-sm==3.2.0) (0.4.0)\n",
      "Requirement already satisfied: typing-extensions<4.0.0.0,>=3.7.4 in /Users/tks522/opt/anaconda3/lib/python3.7/site-packages (from spacy<3.3.0,>=3.2.0->fr-core-news-sm==3.2.0) (3.7.4.3)\n",
      "Requirement already satisfied: catalogue<2.1.0,>=2.0.6 in /Users/tks522/opt/anaconda3/lib/python3.7/site-packages (from spacy<3.3.0,>=3.2.0->fr-core-news-sm==3.2.0) (2.0.6)\n",
      "Requirement already satisfied: murmurhash<1.1.0,>=0.28.0 in /Users/tks522/opt/anaconda3/lib/python3.7/site-packages (from spacy<3.3.0,>=3.2.0->fr-core-news-sm==3.2.0) (1.0.2)\n",
      "Requirement already satisfied: pathy>=0.3.5 in /Users/tks522/opt/anaconda3/lib/python3.7/site-packages (from spacy<3.3.0,>=3.2.0->fr-core-news-sm==3.2.0) (0.6.1)\n",
      "Requirement already satisfied: tqdm<5.0.0,>=4.38.0 in /Users/tks522/opt/anaconda3/lib/python3.7/site-packages (from spacy<3.3.0,>=3.2.0->fr-core-news-sm==3.2.0) (4.42.1)\n",
      "Requirement already satisfied: requests<3.0.0,>=2.13.0 in /Users/tks522/opt/anaconda3/lib/python3.7/site-packages (from spacy<3.3.0,>=3.2.0->fr-core-news-sm==3.2.0) (2.22.0)\n",
      "Requirement already satisfied: setuptools in /Users/tks522/opt/anaconda3/lib/python3.7/site-packages (from spacy<3.3.0,>=3.2.0->fr-core-news-sm==3.2.0) (60.5.0)\n",
      "Requirement already satisfied: spacy-legacy<3.1.0,>=3.0.8 in /Users/tks522/opt/anaconda3/lib/python3.7/site-packages (from spacy<3.3.0,>=3.2.0->fr-core-news-sm==3.2.0) (3.0.8)\n",
      "Requirement already satisfied: wasabi<1.1.0,>=0.8.1 in /Users/tks522/opt/anaconda3/lib/python3.7/site-packages (from spacy<3.3.0,>=3.2.0->fr-core-news-sm==3.2.0) (0.9.0)\n",
      "Requirement already satisfied: zipp>=0.5 in /Users/tks522/opt/anaconda3/lib/python3.7/site-packages (from catalogue<2.1.0,>=2.0.6->spacy<3.3.0,>=3.2.0->fr-core-news-sm==3.2.0) (2.2.0)\n",
      "Requirement already satisfied: six in /Users/tks522/opt/anaconda3/lib/python3.7/site-packages (from packaging>=20.0->spacy<3.3.0,>=3.2.0->fr-core-news-sm==3.2.0) (1.14.0)\n",
      "Requirement already satisfied: pyparsing>=2.0.2 in /Users/tks522/opt/anaconda3/lib/python3.7/site-packages (from packaging>=20.0->spacy<3.3.0,>=3.2.0->fr-core-news-sm==3.2.0) (2.4.6)\n",
      "Requirement already satisfied: smart-open<6.0.0,>=5.0.0 in /Users/tks522/opt/anaconda3/lib/python3.7/site-packages (from pathy>=0.3.5->spacy<3.3.0,>=3.2.0->fr-core-news-sm==3.2.0) (5.2.1)\n",
      "Requirement already satisfied: chardet<3.1.0,>=3.0.2 in /Users/tks522/opt/anaconda3/lib/python3.7/site-packages (from requests<3.0.0,>=2.13.0->spacy<3.3.0,>=3.2.0->fr-core-news-sm==3.2.0) (3.0.4)\n",
      "Requirement already satisfied: idna<2.9,>=2.5 in /Users/tks522/opt/anaconda3/lib/python3.7/site-packages (from requests<3.0.0,>=2.13.0->spacy<3.3.0,>=3.2.0->fr-core-news-sm==3.2.0) (2.8)\n",
      "Requirement already satisfied: urllib3!=1.25.0,!=1.25.1,<1.26,>=1.21.1 in /Users/tks522/opt/anaconda3/lib/python3.7/site-packages (from requests<3.0.0,>=2.13.0->spacy<3.3.0,>=3.2.0->fr-core-news-sm==3.2.0) (1.25.8)\n",
      "Requirement already satisfied: certifi>=2017.4.17 in /Users/tks522/opt/anaconda3/lib/python3.7/site-packages (from requests<3.0.0,>=2.13.0->spacy<3.3.0,>=3.2.0->fr-core-news-sm==3.2.0) (2019.11.28)\n",
      "Requirement already satisfied: click<9.0.0,>=7.1.1 in /Users/tks522/opt/anaconda3/lib/python3.7/site-packages (from typer<0.5.0,>=0.3.0->spacy<3.3.0,>=3.2.0->fr-core-news-sm==3.2.0) (8.0.3)\n",
      "Requirement already satisfied: MarkupSafe>=0.23 in /Users/tks522/opt/anaconda3/lib/python3.7/site-packages (from jinja2->spacy<3.3.0,>=3.2.0->fr-core-news-sm==3.2.0) (1.1.1)\n",
      "Requirement already satisfied: importlib-metadata in /Users/tks522/opt/anaconda3/lib/python3.7/site-packages (from click<9.0.0,>=7.1.1->typer<0.5.0,>=0.3.0->spacy<3.3.0,>=3.2.0->fr-core-news-sm==3.2.0) (1.5.0)\n",
      "\u001b[33mWARNING: Ignoring invalid distribution -ornado (/Users/tks522/opt/anaconda3/lib/python3.7/site-packages)\u001b[0m\u001b[33m\n",
      "\u001b[0m\u001b[33mWARNING: Ignoring invalid distribution -ornado (/Users/tks522/opt/anaconda3/lib/python3.7/site-packages)\u001b[0m\u001b[33m\n",
      "\u001b[0m\u001b[33mWARNING: Ignoring invalid distribution -ornado (/Users/tks522/opt/anaconda3/lib/python3.7/site-packages)\u001b[0m\u001b[33m\n",
      "\u001b[0m\u001b[33mWARNING: Ignoring invalid distribution -ornado (/Users/tks522/opt/anaconda3/lib/python3.7/site-packages)\u001b[0m\u001b[33m\n",
      "\u001b[0m\u001b[38;5;2m✔ Download and installation successful\u001b[0m\n",
      "You can now load the package via spacy.load('fr_core_news_sm')\n"
     ]
    }
   ],
   "source": [
    "# download the language models, this can be done for other languages as well\n",
    "!python -m spacy download en_core_web_sm # You might have to restart the notebook if the file cannot be found\n",
    "!python -m spacy download fr_core_news_sm"
   ]
  },
  {
   "cell_type": "code",
   "execution_count": 12,
   "metadata": {},
   "outputs": [
    {
     "data": {
      "text/plain": [
       "[The office is open between 10 a.m. and 1 p.m. every day...,\n",
       " Please, be respective of the hours.]"
      ]
     },
     "execution_count": 12,
     "metadata": {},
     "output_type": "execute_result"
    }
   ],
   "source": [
    "import spacy\n",
    "\n",
    "nlp = spacy.load(\"en_core_web_sm\")\n",
    "doc = nlp(text_sentences)\n",
    "list(doc.sents)"
   ]
  },
  {
   "cell_type": "markdown",
   "metadata": {},
   "source": [
    "### NLTK"
   ]
  },
  {
   "cell_type": "code",
   "execution_count": 13,
   "metadata": {},
   "outputs": [
    {
     "data": {
      "text/plain": [
       "['The office is open between 10 a.m. and 1 p.m. every day...',\n",
       " 'Please, be respective of the hours.']"
      ]
     },
     "execution_count": 13,
     "metadata": {},
     "output_type": "execute_result"
    }
   ],
   "source": [
    "import nltk\n",
    "\n",
    "nltk.tokenize.sent_tokenize(text_sentences)"
   ]
  },
  {
   "cell_type": "markdown",
   "metadata": {},
   "source": [
    "#### Word-level tokenisation"
   ]
  },
  {
   "cell_type": "code",
   "execution_count": 14,
   "metadata": {},
   "outputs": [
    {
     "name": "stdout",
     "output_type": "stream",
     "text": [
      "Common English tokenisation\n",
      "['Mr.', \"O'Neill\", 'thinks', 'that', 'the', 'boys', \"'\", 'stories', 'about', 'Chile', \"'s\", 'capital', 'are', \"n't\", 'amusing', '...', 'Good', 'muffins', 'cost', '$', '3.88', 'in', 'New', 'York', '.', 'Please', 'buy', 'me', 'two', 'of', 'them', '!', '!', '!', 'Thanks..']\n",
      "['Mr.', \"O'Neill\", 'thinks', 'that', 'the', 'boys', \"'\", 'stories', 'about', 'Chile', \"'s\", 'capital', 'are', \"n't\", 'amusing', '...', 'Good', 'muffins', 'cost', '$', '3.88', 'in', 'New', 'York', '.', 'Please', 'buy', 'me', 'two', 'of', 'them', '!', '!', '!', 'Thanks', '..']\n",
      "\n",
      "Tweet tokenisation\n",
      "['https', ':', '//t.co/9z2J3P33Uc', 'Hey', '@', 'NLPer', '!', 'This', 'is', 'a', '#', 'NLProc', 'tweet', ':', '-D']\n",
      "['https://t.co/9z2J3P33Uc', 'Hey', '@NLPer', '!', 'This', 'is', 'a', '#', 'NLProc', 'tweet', ':-D']\n",
      "\n",
      "Tokenisation of a noisy tweet\n",
      "['UserAnonym123', 'What', \"'s\", 'your', 'timezone_', '!', '@', '#', '!', '@', '#', '$', '%', '^', '&', '*', '(', ')', '_+', '0123456']\n",
      "['UserAnonym123', 'What', \"'s\", 'your', 'timezone_!@', '#', '!', '@#$%^&*()_+', '0123456']\n"
     ]
    }
   ],
   "source": [
    "text = \"Mr. O'Neill thinks that the boys' stories about Chile's capital aren't amusing... Good muffins cost $3.88 in New York. Please buy me two of them!!! Thanks..\"\n",
    "text_tweet = \"https://t.co/9z2J3P33Uc Hey @NLPer! This is a #NLProc tweet :-D\"\n",
    "noisy_tweet = \"UserAnonym123 What's your timezone_!@# !@#$%^&*()_+ 0123456\"\n",
    "\n",
    "print('Common English tokenisation')\n",
    "print(nltk.word_tokenize(text))\n",
    "print([token.text for token in nlp(text)])\n",
    "\n",
    "print('\\nTweet tokenisation')\n",
    "print(nltk.word_tokenize(text_tweet))\n",
    "print([token.text for token in nlp(text_tweet)])\n",
    "\n",
    "print('\\nTokenisation of a noisy tweet')\n",
    "print(nltk.word_tokenize(noisy_tweet))\n",
    "print([token.text for token in nlp(noisy_tweet)])"
   ]
  },
  {
   "cell_type": "markdown",
   "metadata": {},
   "source": [
    "Both libraries perform almost similar for tokenising English common text, so it depends which library you'll use for other features. \n",
    "\n",
    "When it comes to tweets, the nltk default tokeniser performs bad, but NLTK also provides the TweetTokenizer that is suited for tweet tokenisation."
   ]
  },
  {
   "cell_type": "code",
   "execution_count": 15,
   "metadata": {},
   "outputs": [
    {
     "name": "stdout",
     "output_type": "stream",
     "text": [
      "['https://t.co/9z2J3P33Uc', 'Hey', '@NLPer', '!', 'This', 'is', 'a', '#NLProc', 'tweet', ':-D']\n",
      "['UserAnonym', '123', \"What's\", 'your', 'timezone', '_', '!', '@', '#', '!', '@', '#', '$', '%', '^', '&', '*', '(', ')', '_', '+', '0123456']\n"
     ]
    }
   ],
   "source": [
    "tweet_tokenizer = nltk.tokenize.TweetTokenizer()\n",
    "print(tweet_tokenizer.tokenize(text_tweet))\n",
    "print(tweet_tokenizer.tokenize(noisy_tweet))"
   ]
  },
  {
   "cell_type": "markdown",
   "metadata": {},
   "source": [
    "As you saw, the above tokenisers tokenise negation contractions like \"are\", \"n't\", which is per the the Penn Treebank guidelines. Such tokenisation can be useful when building sentiment classification or information extraction. \n",
    "\n",
    "Question:\n",
    "- How should we split \"I bought a 12-ft boat!\"? In 1, 2, or 3 tokens?\n",
    "- How should we tokenise \"It is a 2850m distance flight.\", \"The maximum speed on the autobahn is 130km/h.\"? \n",
    "\n",
    "There is again a rule that units are split from numerical values. Let's test the performance of the tokenisers:"
   ]
  },
  {
   "cell_type": "code",
   "execution_count": 16,
   "metadata": {},
   "outputs": [
    {
     "name": "stdout",
     "output_type": "stream",
     "text": [
      "Spacy tokeniser\n",
      "['I', 'bought', 'a', '12', '-', 'ft', 'boat', '!']\n",
      "['It', 'is', 'a', '2850', 'm', 'distance', 'flight', '.']\n",
      "['The', 'maximum', 'speed', 'on', 'the', 'autobahn', 'is', '130', 'km/h', '.']\n",
      "\n",
      "NLTK simple tokeniser\n",
      "[['I', 'bought', 'a', '12-ft', 'boat', '!']]\n",
      "[['It', 'is', 'a', '2850m', 'distance', 'flight', '.']]\n",
      "[['The', 'maximum', 'speed', 'on', 'the', 'autobahn', 'is', '130km/h', '.']]\n"
     ]
    }
   ],
   "source": [
    "print('Spacy tokeniser')\n",
    "print([token.text for token in nlp(\"I bought a 12-ft boat!\")])\n",
    "print([token.text for token in nlp(\"It is a 2850m distance flight.\")])\n",
    "print([token.text for token in nlp(\"The maximum speed on the autobahn is 130km/h.\")])\n",
    "\n",
    "print('\\nNLTK simple tokeniser')\n",
    "print([nltk.tokenize.word_tokenize(\"I bought a 12-ft boat!\")])\n",
    "print([nltk.tokenize.word_tokenize(\"It is a 2850m distance flight.\")])\n",
    "print([nltk.tokenize.word_tokenize(\"The maximum speed on the autobahn is 130km/h.\")])"
   ]
  },
  {
   "cell_type": "markdown",
   "metadata": {},
   "source": [
    "#### Language dependent tokenisation\n",
    "\n",
    "While some languages have similar rules for tokenisation, other languages are quite different.\n",
    "In French, words originally composed of more than one lexical unit that nowadays form a single lexical unit and should thus be recognized as a single token, where an apostrophe should be used to split the word in some cases, but not in all. \n",
    "\n",
    "The following sentence \"On nous dit qu’aujourd’hui c’est le cas, encore faudra-t-il l’évaluer.\", which means \"We are told that this is the case today, it still needs to be assessed.\" has the following correct tokenisation:\n",
    "\n",
    "'On', 'nous', 'dit', 'qu’', 'aujourd’hui', 'c’', 'est', 'le', 'cas', ',', 'encore', 'faudra', '-t-il', 'l’', 'évaluer', '.'\n",
    "\n",
    "Explanation:\n",
    "- words originally composed of more than one lexical unit that nowadays form a single lexical unit and should thus be recognized as a single token like 'aujourd’hui'\n",
    "- qu’aujourd’hui (that today) - today is in contracted form (qu’) and has to be separated from the rest of the word\n",
    "- c'est (this is) is ce (C') combined with est and has to be split in two words\n",
    "- l’évaluer (evaluate it) is two words, where one is in contracted form and has to be separated\n",
    "- faudra-t-il (will it take) - consists of will (faudra), -t is used to prevent two vowels from clashing and should not be tokenised"
   ]
  },
  {
   "cell_type": "code",
   "execution_count": 17,
   "metadata": {},
   "outputs": [
    {
     "name": "stdout",
     "output_type": "stream",
     "text": [
      "[['On', 'nous', 'dit', 'qu', '’', 'aujourd', '’', 'hui', 'c', '’', 'est', 'le', 'cas', ',', 'encore', 'faudra-t-il', 'l', '’', 'évaluer', '.']]\n",
      "['On', 'nous', 'dit', 'qu’aujourd’hui', 'c’est', 'le', 'cas', ',', 'encore', 'faudra', '-', 't', '-', 'il', 'l’évaluer', '.']\n"
     ]
    }
   ],
   "source": [
    "print([nltk.tokenize.word_tokenize(\"On nous dit qu’aujourd’hui c’est le cas, encore faudra-t-il l’évaluer.\")])\n",
    "print([token.text for token in nlp(\"On nous dit qu’aujourd’hui c’est le cas, encore faudra-t-il l’évaluer.\")])"
   ]
  },
  {
   "cell_type": "markdown",
   "metadata": {},
   "source": [
    "Let's use the language-specific tokenisation:"
   ]
  },
  {
   "cell_type": "code",
   "execution_count": 18,
   "metadata": {},
   "outputs": [
    {
     "name": "stdout",
     "output_type": "stream",
     "text": [
      "['On', 'nous', 'dit', 'qu’', 'aujourd’hui', 'c’', 'est', 'le', 'cas', ',', 'encore', 'faudra', '-t', '-il', 'l’', 'évaluer', '.']\n"
     ]
    },
    {
     "data": {
      "text/plain": [
       "['On',\n",
       " 'nous',\n",
       " 'dit',\n",
       " 'qu',\n",
       " '’',\n",
       " 'aujourd',\n",
       " '’',\n",
       " 'hui',\n",
       " 'c',\n",
       " '’',\n",
       " 'est',\n",
       " 'le',\n",
       " 'cas',\n",
       " ',',\n",
       " 'encore',\n",
       " 'faudra-t-il',\n",
       " 'l',\n",
       " '’',\n",
       " 'évaluer',\n",
       " '.']"
      ]
     },
     "execution_count": 18,
     "metadata": {},
     "output_type": "execute_result"
    }
   ],
   "source": [
    "nlp_fr = spacy.load(\"fr_core_news_sm\")\n",
    "print([token.text for token in nlp_fr(\"On nous dit qu’aujourd’hui c’est le cas, encore faudra-t-il l’évaluer.\")])\n",
    "nltk.tokenize.word_tokenize(\"On nous dit qu’aujourd’hui c’est le cas, encore faudra-t-il l’évaluer.\", language='french')"
   ]
  },
  {
   "cell_type": "markdown",
   "metadata": {},
   "source": [
    "### Transformers\n",
    "\n",
    "[HuggingFace's](https://huggingface.co/docs/transformers/index) \"transformers\" is a python package for training, using and deploying Transformer-based models (more on that in future lectures). Each transformer model (e.g. BERT, RoBERTa) has its own tokenisation module that should be used together with the model. That is, to use the transformer model \"BERT\", one must tokenise its inputs with the BERT-tokeniser. "
   ]
  },
  {
   "cell_type": "code",
   "execution_count": 19,
   "metadata": {},
   "outputs": [],
   "source": [
    "from transformers import AutoTokenizer\n",
    "bert_tokeniser = AutoTokenizer.from_pretrained(\"bert-base-uncased\")  # The tokeniser of the model \"bert-base-uncased\""
   ]
  },
  {
   "cell_type": "code",
   "execution_count": 20,
   "metadata": {},
   "outputs": [
    {
     "name": "stdout",
     "output_type": "stream",
     "text": [
      "['the', 'maximum', 'speed', 'on', 'the', 'auto', '##bahn', 'is', '130', '##km', '/', 'h', '.']\n"
     ]
    }
   ],
   "source": [
    "tokens = bert_tokeniser.tokenize(\"The maximum speed on the autobahn is 130km/h.\")\n",
    "print(tokens)"
   ]
  },
  {
   "cell_type": "markdown",
   "metadata": {},
   "source": [
    "The \"bert-base-uncased\" tokeniser works differently from the tokenisers of nltk and spacy. Instead of splitting a sentence following a set of rules, it uses a (learned) vocabulary, a set of words that it knows. The tokeniser tries to break the sentence into tokens from its vocabulary. If the tokeniser encounters a work that does not appear in the vocabulary, the work will be split into \"word-pieces\", where each word piece belongs to the vocabulary. For example, the word \"autobahn\" is not part of the vocabulary, so the tokeniser split it into \"auto\" and \"bahn\" (the \"##\" means that \"bahn\" should be merged with the token that comes before it when reconstructing the original sentence from the tokens)."
   ]
  },
  {
   "cell_type": "code",
   "execution_count": 21,
   "metadata": {},
   "outputs": [
    {
     "name": "stdout",
     "output_type": "stream",
     "text": [
      "False\n",
      "True\n",
      "True\n"
     ]
    }
   ],
   "source": [
    "print(\"autobahn\" in bert_tokeniser.vocab)\n",
    "print(\"auto\" in bert_tokeniser.vocab)\n",
    "print(\"bahn\" in bert_tokeniser.vocab)"
   ]
  },
  {
   "cell_type": "markdown",
   "metadata": {},
   "source": [
    "\"bert-base-uncased\" is an English only model, so it can't deal well with sentences in other languages:"
   ]
  },
  {
   "cell_type": "code",
   "execution_count": 22,
   "metadata": {},
   "outputs": [
    {
     "name": "stdout",
     "output_type": "stream",
     "text": [
      "['on', 'no', '##us', 'di', '##t', 'qu', '’', 'au', '##jou', '##rd', '’', 'hui', 'c', '’', 'est', 'le', 'cas', ',', 'encore', 'fa', '##ud', '##ra', '-', 't', '-', 'il', 'l', '’', 'eva', '##lu', '##er', '.']\n"
     ]
    }
   ],
   "source": [
    "tokens = bert_tokeniser.tokenize(\"On nous dit qu’aujourd’hui c’est le cas, encore faudra-t-il l’évaluer.\")\n",
    "print(tokens)"
   ]
  },
  {
   "cell_type": "markdown",
   "metadata": {},
   "source": [
    "CamemBERT, however, is a French language model, so it can tokenise the sentence in a more meaningful (but far from perfect) way.\n",
    "Here, '-' means that this token starts a new word."
   ]
  },
  {
   "cell_type": "code",
   "execution_count": 23,
   "metadata": {},
   "outputs": [
    {
     "name": "stdout",
     "output_type": "stream",
     "text": [
      "['▁On', '▁nous', '▁dit', '▁qu', '’', 'aujourd', '’', 'hui', '▁c', '’', 'est', '▁le', '▁cas', ',', '▁encore', '▁faudra', '-', 't', '-', 'il', '▁l', '’', 'évaluer', '.']\n"
     ]
    }
   ],
   "source": [
    "camembert_tokeniser = AutoTokenizer.from_pretrained(\"camembert-base\")\n",
    "tokens = camembert_tokeniser.tokenize(\"On nous dit qu’aujourd’hui c’est le cas, encore faudra-t-il l’évaluer.\")\n",
    "print(tokens)"
   ]
  },
  {
   "cell_type": "markdown",
   "metadata": {},
   "source": [
    "Some models are multilingual, and their tokenisers can process sentences from several languages. \"bert-base-multilingual-uncased\" (M-BERT) and \"xlm-roberta-base\" (XLM-RoBERTa) were trained on over 100 different languages!"
   ]
  },
  {
   "cell_type": "code",
   "execution_count": 24,
   "metadata": {},
   "outputs": [
    {
     "name": "stdout",
     "output_type": "stream",
     "text": [
      "en: ['the', 'maximum', 'speed', 'on', 'the', 'autobahn', 'is', '130', '##km', '/', 'h', '.']\n",
      "fr: ['on', 'nous', 'dit', 'qu', '[UNK]', 'aujourd', '[UNK]', 'hui', 'c', '[UNK]', 'est', 'le', 'cas', ',', 'encore', 'fa', '##udra', '-', 't', '-', 'il', 'l', '[UNK]', 'eva', '##lue', '##r', '.']\n",
      "heb: ['אחד', 'הדבר', '##ים', 'ש', '##אני', 'ה', '##כי', 'או', '##ה', '##ב', 'ב', '##קו', '##פנה', '##גן', 'זה', 'מ', '##א', '##פים', 'עם', 'ה', '##ל']\n"
     ]
    }
   ],
   "source": [
    "mbert_tokeniser = AutoTokenizer.from_pretrained(\"bert-base-multilingual-uncased\")\n",
    "en_tokens = mbert_tokeniser.tokenize(\"The maximum speed on the autobahn is 130km/h.\")\n",
    "\n",
    "fr_tokens = mbert_tokeniser.tokenize(\"On nous dit qu’aujourd’hui c’est le cas, encore faudra-t-il l’évaluer.\")\n",
    "\n",
    "heb_tokens = mbert_tokeniser.tokenize(\"אחד הדברים שאני הכי אוהב בקופנהגן זה מאפים עם הל\")\n",
    "print(\"en:\", en_tokens)\n",
    "print(\"fr:\", fr_tokens)\n",
    "print(\"heb:\", heb_tokens)"
   ]
  },
  {
   "cell_type": "code",
   "execution_count": 25,
   "metadata": {},
   "outputs": [
    {
     "name": "stdout",
     "output_type": "stream",
     "text": [
      "en: ['▁The', '▁maximum', '▁speed', '▁on', '▁the', '▁auto', 'bahn', '▁is', '▁130', 'km', '/', 'h', '.']\n",
      "fr: ['▁On', '▁nous', '▁dit', '▁qu', '’', 'aujourd', '’', 'hui', '▁c', '’', 'est', '▁le', '▁cas', ',', '▁encore', '▁faudra', '-', 't', '-', 'il', '▁l', '’', 'évaluer', '.']\n",
      "heb: ['▁אחד', '▁הדברים', '▁שאני', '▁הכי', '▁אוהב', '▁בקו', 'פנה', 'גן', '▁זה', '▁מא', 'פים', '▁עם', '▁הל']\n"
     ]
    }
   ],
   "source": [
    "xlm_tokeniser = AutoTokenizer.from_pretrained(\"xlm-roberta-base\")\n",
    "en_tokens = xlm_tokeniser.tokenize(\"The maximum speed on the autobahn is 130km/h.\")\n",
    "\n",
    "fr_tokens = xlm_tokeniser.tokenize(\"On nous dit qu’aujourd’hui c’est le cas, encore faudra-t-il l’évaluer.\")\n",
    "\n",
    "heb_tokens = xlm_tokeniser.tokenize(\"אחד הדברים שאני הכי אוהב בקופנהגן זה מאפים עם הל\")\n",
    "print(\"en:\", en_tokens)\n",
    "print(\"fr:\", fr_tokens)\n",
    "print(\"heb:\", heb_tokens)"
   ]
  },
  {
   "cell_type": "markdown",
   "metadata": {},
   "source": [
    "#### References:\n",
    "- Introduction to Spacy and its features: https://spacy.io/usage/spacy-101\n",
    "- NLTK tokenisation functionalities: https://www.nltk.org/api/nltk.tokenize.html\n",
    "- HuggingFace's transformers and tokenisers: https://huggingface.co/docs/transformers/main_classes/tokenizer\n",
    "- On rules and different languages: http://ceur-ws.org/Vol-2226/paper9.pdf\n",
    "- Why do we need language-specific tokenisation: https://stackoverflow.com/questions/17314506/why-do-i-need-a-tokenizer-for-each-language"
   ]
  },
  {
   "cell_type": "markdown",
   "metadata": {},
   "source": [
    "---\n",
    "## Introduction to PyTorch https://pytorch.org/"
   ]
  },
  {
   "cell_type": "code",
   "execution_count": 26,
   "metadata": {},
   "outputs": [
    {
     "data": {
      "text/plain": [
       "<torch._C.Generator at 0x7fe74a093b30>"
      ]
     },
     "execution_count": 26,
     "metadata": {},
     "output_type": "execute_result"
    }
   ],
   "source": [
    "import torch\n",
    "import torch.nn as nn\n",
    "import torch.nn.functional as F\n",
    "import torch.optim as optim\n",
    "\n",
    "torch.manual_seed(123)"
   ]
  },
  {
   "cell_type": "markdown",
   "metadata": {},
   "source": [
    "### Dataset and Bag-of-Words"
   ]
  },
  {
   "cell_type": "code",
   "execution_count": 27,
   "metadata": {},
   "outputs": [],
   "source": [
    "data = [(\"me gusta comer en la cafeteria\".split(), \"SPANISH\"),\n",
    "        (\"Give it to me\".split(), \"ENGLISH\"),\n",
    "        (\"No creo que sea una buena idea\".split(), \"SPANISH\"),\n",
    "        (\"No it is not a good idea to get lost at sea\".split(), \"ENGLISH\")]\n",
    "\n",
    "test_data = [(\"Yo creo que si\".split(), \"SPANISH\"),\n",
    "             (\"it is lost on me\".split(), \"ENGLISH\")]\n",
    "label_to_ix = {\"SPANISH\": 0, \"ENGLISH\": 1}"
   ]
  },
  {
   "cell_type": "markdown",
   "metadata": {},
   "source": [
    "Typically a common way to read in data in PyTorch is to use the following classes: `torch.utils.data.Dataset` and `torch.utils.data.DataLoader`. Since today we work with a tiny dataset, we omit this part.\n",
    "\n",
    "Now we represent the data as Bag-of-Words (BoW) which is a simple way of extracting features from text describing the occurrence of words within a document. Intuitevely, similar documents have similar content."
   ]
  },
  {
   "cell_type": "code",
   "execution_count": 28,
   "metadata": {},
   "outputs": [
    {
     "name": "stdout",
     "output_type": "stream",
     "text": [
      "{'me': 0, 'gusta': 1, 'comer': 2, 'en': 3, 'la': 4, 'cafeteria': 5, 'Give': 6, 'it': 7, 'to': 8, 'No': 9, 'creo': 10, 'que': 11, 'sea': 12, 'una': 13, 'buena': 14, 'idea': 15, 'is': 16, 'not': 17, 'a': 18, 'good': 19, 'get': 20, 'lost': 21, 'at': 22, 'Yo': 23, 'si': 24, 'on': 25}\n"
     ]
    }
   ],
   "source": [
    "# Function to map each word in the vocab to an unique integer\n",
    "# Indexing the Bag of words vector\n",
    "word_to_ix = {}\n",
    "for sent, _ in data + test_data:\n",
    "    for word in sent:\n",
    "        if word not in word_to_ix:\n",
    "            word_to_ix[word] = len(word_to_ix)\n",
    "print(word_to_ix)"
   ]
  },
  {
   "cell_type": "code",
   "execution_count": 29,
   "metadata": {},
   "outputs": [],
   "source": [
    "VOCAB_SIZE = len(word_to_ix)\n",
    "NUM_LABELS = 2"
   ]
  },
  {
   "cell_type": "markdown",
   "metadata": {},
   "source": [
    "### Custom Classifier"
   ]
  },
  {
   "cell_type": "markdown",
   "metadata": {},
   "source": [
    "Our classifier inherits from the `nn.Module` class which provides an interface to important methods used for constructing and working with our models. \n",
    "\n",
    "Here, we will implement a custom multi-layer feed forward neural network. In our example, we calculate:\n",
    "$$ \n",
    "y = final(nonlinear(linear(BoW))\n",
    "$$\n",
    "where nonlinear denotes a non-linear function (we use [`nn.ReLU`](https://pytorch.org/docs/stable/generated/torch.nn.ReLU.html)) and the first and final layer are both linear functions implemented with`nn.Linear`. In practice, we create a `nn.Module` containing the definition of our model architecture in the `__init__` function. The `__forward__` function defines how tensors are processed by our model."
   ]
  },
  {
   "cell_type": "code",
   "execution_count": 30,
   "metadata": {},
   "outputs": [],
   "source": [
    "class BoWClassifier(nn.Module):\n",
    "\n",
    "    def __init__(self, num_labels, vocab_size, num_hidden = 2):\n",
    "        # Calls the init function of nn.Module. \n",
    "        super(BoWClassifier, self).__init__()\n",
    "\n",
    "        # Define the parameters that you need.\n",
    "        self.linear = nn.Linear(vocab_size, num_hidden)\n",
    "        # non-linearity (here it is also a layer!)\n",
    "        self.nonlinear = nn.ReLU()\n",
    "        # final affine transformation\n",
    "        self.final = nn.Linear(num_hidden, num_labels)\n",
    "\n",
    "    def forward(self, bow_vec):\n",
    "        # Pass the input through the linear layer,\n",
    "        # then pass that through log_softmax.\n",
    "        # Many non-linearities and other functions are in torch.nn.functional\n",
    "        return self.final(self.nonlinear(self.linear(bow_vec)))"
   ]
  },
  {
   "cell_type": "code",
   "execution_count": 31,
   "metadata": {},
   "outputs": [],
   "source": [
    "# Functions to create BoW vectors\n",
    "def make_bow_vector(sentence, word_to_ix):\n",
    "    vec = torch.zeros(len(word_to_ix))\n",
    "    for word in sentence:\n",
    "        vec[word_to_ix[word]] += 1\n",
    "    return vec.view(1, -1)\n",
    "\n",
    "\n",
    "def make_target(label, label_to_ix):\n",
    "    return torch.LongTensor([label_to_ix[label]])"
   ]
  },
  {
   "cell_type": "markdown",
   "metadata": {},
   "source": [
    "The `BoWClassifier` (or any other module you will create) stores knowledge of the models's parameters."
   ]
  },
  {
   "cell_type": "code",
   "execution_count": 32,
   "metadata": {},
   "outputs": [
    {
     "name": "stdout",
     "output_type": "stream",
     "text": [
      "Parameter containing:\n",
      "tensor([[-0.0800,  0.0065, -0.0974,  0.0740, -0.1671,  0.1438, -0.1425, -0.1559,\n",
      "         -0.1239,  0.0888, -0.0725,  0.0734, -0.1664, -0.1190, -0.0720, -0.0385,\n",
      "         -0.1496,  0.1284, -0.0463,  0.0630,  0.1387,  0.0365,  0.0536,  0.1893,\n",
      "         -0.0885,  0.0621],\n",
      "        [-0.0873,  0.1402,  0.1566, -0.1808,  0.1674,  0.0936,  0.0855,  0.0807,\n",
      "          0.1630, -0.0259, -0.1659, -0.0563, -0.1381,  0.0130, -0.0366, -0.1052,\n",
      "         -0.0178,  0.1858, -0.0155,  0.0062, -0.0306,  0.0308,  0.1747,  0.1199,\n",
      "          0.0696,  0.0426]], requires_grad=True)\n",
      "Parameter containing:\n",
      "tensor([0.0462, 0.0758], requires_grad=True)\n",
      "Parameter containing:\n",
      "tensor([[-0.0914, -0.6572],\n",
      "        [-0.4373,  0.6036]], requires_grad=True)\n",
      "Parameter containing:\n",
      "tensor([ 0.0423, -0.5728], requires_grad=True)\n"
     ]
    }
   ],
   "source": [
    "model = BoWClassifier(NUM_LABELS, VOCAB_SIZE)\n",
    "\n",
    "# The first output below is A, the second is b.\n",
    "for param in model.parameters():\n",
    "    print(param)"
   ]
  },
  {
   "cell_type": "markdown",
   "metadata": {},
   "source": [
    "We run the model on the test data before we train to compare with the results from a trained model. "
   ]
  },
  {
   "cell_type": "code",
   "execution_count": 33,
   "metadata": {},
   "outputs": [
    {
     "name": "stdout",
     "output_type": "stream",
     "text": [
      "tensor([[ 3.6781e-04, -6.1148e-01]])\n",
      "tensor([[-0.0398, -0.4974]])\n",
      "tensor([-0.0725, -0.1659], grad_fn=<SelectBackward>)\n"
     ]
    }
   ],
   "source": [
    "with torch.no_grad():\n",
    "    for text, label in test_data:\n",
    "        bow_vec = make_bow_vector(text, word_to_ix)\n",
    "        log_probs = model(bow_vec)\n",
    "        print(log_probs)\n",
    "\n",
    "# Print the matrix column corresponding to \"creo\"\n",
    "print(next(model.parameters())[:, word_to_ix[\"creo\"]])"
   ]
  },
  {
   "cell_type": "markdown",
   "metadata": {},
   "source": [
    "### Training"
   ]
  },
  {
   "cell_type": "markdown",
   "metadata": {},
   "source": [
    "We set our loss function to cross entropy which combines `nn.LogSoftmax()` and `nn.NLLLoss()` (negative log likelihood) and calculate gradients with stochastic gradient descent.\n",
    "\n",
    "Usually we want to pass over the training data several times by setting a respective number of epochs. Since we have a tiny dataset, we will exaggerate with the number of epochs."
   ]
  },
  {
   "cell_type": "code",
   "execution_count": 34,
   "metadata": {},
   "outputs": [],
   "source": [
    "loss_function = nn.CrossEntropyLoss()\n",
    "optimizer = optim.SGD(model.parameters(), lr=0.1)"
   ]
  },
  {
   "cell_type": "code",
   "execution_count": 35,
   "metadata": {},
   "outputs": [],
   "source": [
    "for epoch in range(200):\n",
    "    for instance, label in data:\n",
    "        # Step 1. Remember that PyTorch accumulates gradients.\n",
    "        # We need to clear them out before each instance\n",
    "        model.zero_grad()\n",
    "\n",
    "        # Step 2. Make our BOW vector and also we must wrap the target in a\n",
    "        # Tensor as an integer. For example, if the target is SPANISH, then\n",
    "        # we wrap the integer 0. The loss function then knows that the 0th\n",
    "        # element of the log probabilities is the log probability\n",
    "        # corresponding to SPANISH\n",
    "        bow_vec = make_bow_vector(instance, word_to_ix)\n",
    "        target = make_target(label, label_to_ix)\n",
    "\n",
    "        # Step 3. Run our forward pass.\n",
    "        log_probs = model(bow_vec)\n",
    "\n",
    "        # Step 4. Compute the loss, gradients, and update the parameters by\n",
    "        # calling optimizer.step()\n",
    "        loss = loss_function(log_probs, target)\n",
    "        loss.backward()\n",
    "        optimizer.step()"
   ]
  },
  {
   "cell_type": "markdown",
   "metadata": {},
   "source": [
    "### Evaluation"
   ]
  },
  {
   "cell_type": "markdown",
   "metadata": {},
   "source": [
    "Let's see if our model can now predict more accurately, if a sentence is written in English or Spanish! \n",
    "\n",
    "Indeed, the log probability for Spanish is much higher for the first sentence, while the log probability for English is much higher for the second sentence in the test data!"
   ]
  },
  {
   "cell_type": "code",
   "execution_count": 36,
   "metadata": {},
   "outputs": [
    {
     "name": "stdout",
     "output_type": "stream",
     "text": [
      "tensor([[ 1.3078, -1.9363]])\n",
      "tensor([[-1.5922,  0.9361]])\n"
     ]
    }
   ],
   "source": [
    "with torch.no_grad():\n",
    "    for instance, label in test_data:\n",
    "        bow_vec = make_bow_vector(instance, word_to_ix)\n",
    "        log_probs = model(bow_vec)\n",
    "        print(log_probs)"
   ]
  },
  {
   "cell_type": "code",
   "execution_count": 37,
   "metadata": {},
   "outputs": [
    {
     "name": "stdout",
     "output_type": "stream",
     "text": [
      "tensor([-0.0725, -0.2638], grad_fn=<SelectBackward>)\n"
     ]
    }
   ],
   "source": [
    "print(next(model.parameters())[:, word_to_ix[\"creo\"]])"
   ]
  },
  {
   "cell_type": "markdown",
   "metadata": {},
   "source": [
    "### Useful links\n",
    "- PyTorch Tutorials:\n",
    "https://pytorch.org/tutorials/index.html\n",
    "- Introduction to Pytorch notebook from Stanford: https://nbviewer.jupyter.org/github/cgpotts/cs224u/blob/master/tutorial_pytorch.ipynb"
   ]
  },
  {
   "cell_type": "markdown",
   "metadata": {},
   "source": [
    "----\n",
    "## Course Project "
   ]
  },
  {
   "cell_type": "markdown",
   "metadata": {},
   "source": [
    "* **Group project**, can be completed in a group of up to 3 students\n",
    "    * Released 1 September, hand-in 5 November 17:00\n",
    "       * joint report, contribution of each student should be stated clearly\n",
    "       * code as attachment\n",
    "       * individual mark for each group member, based on the quality and quantity of their contributions\n",
    "       * submission via Digital Exam\n",
    "    * Assignment consists of several parts tied to weekly lecture topics\n",
    "    * Finding a group: \n",
    "       * deadline for group forming: **13 September 17:00**"
   ]
  }
 ],
 "metadata": {
  "kernelspec": {
   "display_name": "Python 3",
   "language": "python",
   "name": "python3"
  },
  "language_info": {
   "codemirror_mode": {
    "name": "ipython",
    "version": 3
   },
   "file_extension": ".py",
   "mimetype": "text/x-python",
   "name": "python",
   "nbconvert_exporter": "python",
   "pygments_lexer": "ipython3",
   "version": "3.8.2"
  }
 },
 "nbformat": 4,
 "nbformat_minor": 4
}
