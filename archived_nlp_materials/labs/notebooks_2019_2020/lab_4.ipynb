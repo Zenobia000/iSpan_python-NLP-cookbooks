{
 "cells": [
  {
   "cell_type": "markdown",
   "metadata": {
    "run_control": {
     "frozen": false,
     "read_only": false
    }
   },
   "source": [
    "The focus of the fourth lab is [machine translation](../chapters/word_mt.ipynb).\n",
    "\n",
    "We will go through the notes of each of these sections to highlight issues, explain code, and point to exercise which you will work on."
   ]
  },
  {
   "cell_type": "markdown",
   "metadata": {},
   "source": [
    "# Assignment 1\n",
    "Questions?"
   ]
  },
  {
   "cell_type": "markdown",
   "metadata": {
    "ExecuteTime": {
     "end_time": "2016-10-13T11:47:00.404226",
     "start_time": "2016-10-13T11:47:00.399678"
    }
   },
   "source": [
    "# Machine Translation\n",
    "Solve [exercises](../exercises/mt.ipynb) in language modeling."
   ]
  }
 ],
 "metadata": {
  "hide_input": false,
  "kernelspec": {
   "display_name": "Python 3",
   "language": "python",
   "name": "python3"
  },
  "language_info": {
   "codemirror_mode": {
    "name": "ipython",
    "version": 3
   },
   "file_extension": ".py",
   "mimetype": "text/x-python",
   "name": "python",
   "nbconvert_exporter": "python",
   "pygments_lexer": "ipython3",
   "version": "3.6.1"
  }
 },
 "nbformat": 4,
 "nbformat_minor": 1
}
