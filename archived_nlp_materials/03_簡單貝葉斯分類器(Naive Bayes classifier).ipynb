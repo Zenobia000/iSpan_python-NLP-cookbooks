{
 "cells": [
  {
   "cell_type": "code",
   "execution_count": 1,
   "id": "a5668eb0",
   "metadata": {},
   "outputs": [],
   "source": [
    "import jieba\n",
    "import numpy as np\n",
    "from sklearn.model_selection import train_test_split\n",
    "from sklearn.feature_extraction.text import TfidfVectorizer\n",
    "from sklearn.naive_bayes import MultinomialNB\n",
    "from sklearn.metrics import accuracy_score"
   ]
  },
  {
   "cell_type": "code",
   "execution_count": 2,
   "id": "5a74c2fc",
   "metadata": {},
   "outputs": [],
   "source": [
    "# 繁體中文範例句子\n",
    "documents = [\n",
    "    \"他的速度真快\",\n",
    "    \"他的速度真慢\",\n",
    "    \"這是一個句子\",\n",
    "    \"這是另一個句子\",\n",
    "    \"這個數字是五\",\n",
    "    \"這個數字不是五\",\n",
    "    \"他的身高很高\",\n",
    "    \"他的身高不高\",\n",
    "    \"他的身高很矮\",\n",
    "    \"他的身高不矮\",\n",
    "    \"今天天氣很好\",\n",
    "    \"今天天氣不好\",\n",
    "    \"這個測試真難\",\n",
    "    \"這個測試不難\",\n",
    "    \"這是一個好例子\",\n",
    "    \"這不是一個好例子\",\n",
    "    \"這是一個壞例子\",\n",
    "    \"這不是一個壞例子\",\n",
    "    \"他是我最好的朋友\",\n",
    "    \"他不是我最好的朋友\",\n",
    "    \"他是我最壞的朋友\",\n",
    "    \"他不是我最壞的朋友\",\n",
    "    \"我長得好笑\",\n",
    "    \"我長得不好笑\"\n",
    "]"
   ]
  },
  {
   "cell_type": "code",
   "execution_count": 3,
   "id": "57014e0e",
   "metadata": {},
   "outputs": [],
   "source": [
    "# 為每個句子隨機生成標籤\n",
    "labels = [1,0,1,0,1,0,1,0,1,0,1,0,1,0,1,0,1,0,1,0,1,0,1,0]"
   ]
  },
  {
   "cell_type": "code",
   "execution_count": 4,
   "id": "054af9c0",
   "metadata": {},
   "outputs": [
    {
     "name": "stderr",
     "output_type": "stream",
     "text": [
      "Building prefix dict from the default dictionary ...\n",
      "Loading model from cache C:\\Users\\darren\\AppData\\Local\\Temp\\jieba.cache\n",
      "Loading model cost 0.581 seconds.\n",
      "Prefix dict has been built successfully.\n"
     ]
    },
    {
     "data": {
      "text/plain": [
       "['他 的 速度 真 快',\n",
       " '他 的 速度 真慢',\n",
       " '這是 一個 句子',\n",
       " '這是 另 一個 句子',\n",
       " '這個 數字 是 五',\n",
       " '這個 數字 不是 五',\n",
       " '他 的 身高 很 高',\n",
       " '他 的 身高 不高',\n",
       " '他 的 身高 很矮',\n",
       " '他 的 身高 不 矮',\n",
       " '今天 天氣 很 好',\n",
       " '今天 天氣 不好',\n",
       " '這個 測試 真難',\n",
       " '這個 測試 不難',\n",
       " '這是 一個 好 例子',\n",
       " '這 不是 一個 好 例子',\n",
       " '這是 一個 壞 例子',\n",
       " '這 不是 一個 壞 例子',\n",
       " '他 是 我 最好 的 朋友',\n",
       " '他 不是 我 最好 的 朋友',\n",
       " '他 是 我 最壞 的 朋友',\n",
       " '他 不是 我 最壞 的 朋友',\n",
       " '我長 得 好笑',\n",
       " '我長 得 不好 笑']"
      ]
     },
     "execution_count": 4,
     "metadata": {},
     "output_type": "execute_result"
    }
   ],
   "source": [
    "# 分詞\n",
    "jieba.add_word('不')\n",
    "documents = [' '.join(jieba.cut(doc)) for doc in documents]; documents"
   ]
  },
  {
   "cell_type": "code",
   "execution_count": 5,
   "id": "9b0a5516",
   "metadata": {},
   "outputs": [],
   "source": [
    "# 切分數據集為訓練集和測試集\n",
    "X_train, X_test, y_train, y_test = train_test_split(documents, labels, test_size=0.5, random_state=42)"
   ]
  },
  {
   "cell_type": "code",
   "execution_count": 6,
   "id": "0a47fa86",
   "metadata": {},
   "outputs": [],
   "source": [
    "# 建立 TF-IDF 物件\n",
    "vectorizer = TfidfVectorizer()\n",
    "\n",
    "# 對訓練集進行 TF-IDF 轉換\n",
    "X_train_transformed = vectorizer.fit_transform(X_train)\n",
    "\n",
    "# 轉換測試集\n",
    "X_test_transformed = vectorizer.transform(X_test)"
   ]
  },
  {
   "cell_type": "code",
   "execution_count": 7,
   "id": "36b9082f",
   "metadata": {},
   "outputs": [
    {
     "data": {
      "text/html": [
       "<style>#sk-container-id-1 {color: black;background-color: white;}#sk-container-id-1 pre{padding: 0;}#sk-container-id-1 div.sk-toggleable {background-color: white;}#sk-container-id-1 label.sk-toggleable__label {cursor: pointer;display: block;width: 100%;margin-bottom: 0;padding: 0.3em;box-sizing: border-box;text-align: center;}#sk-container-id-1 label.sk-toggleable__label-arrow:before {content: \"▸\";float: left;margin-right: 0.25em;color: #696969;}#sk-container-id-1 label.sk-toggleable__label-arrow:hover:before {color: black;}#sk-container-id-1 div.sk-estimator:hover label.sk-toggleable__label-arrow:before {color: black;}#sk-container-id-1 div.sk-toggleable__content {max-height: 0;max-width: 0;overflow: hidden;text-align: left;background-color: #f0f8ff;}#sk-container-id-1 div.sk-toggleable__content pre {margin: 0.2em;color: black;border-radius: 0.25em;background-color: #f0f8ff;}#sk-container-id-1 input.sk-toggleable__control:checked~div.sk-toggleable__content {max-height: 200px;max-width: 100%;overflow: auto;}#sk-container-id-1 input.sk-toggleable__control:checked~label.sk-toggleable__label-arrow:before {content: \"▾\";}#sk-container-id-1 div.sk-estimator input.sk-toggleable__control:checked~label.sk-toggleable__label {background-color: #d4ebff;}#sk-container-id-1 div.sk-label input.sk-toggleable__control:checked~label.sk-toggleable__label {background-color: #d4ebff;}#sk-container-id-1 input.sk-hidden--visually {border: 0;clip: rect(1px 1px 1px 1px);clip: rect(1px, 1px, 1px, 1px);height: 1px;margin: -1px;overflow: hidden;padding: 0;position: absolute;width: 1px;}#sk-container-id-1 div.sk-estimator {font-family: monospace;background-color: #f0f8ff;border: 1px dotted black;border-radius: 0.25em;box-sizing: border-box;margin-bottom: 0.5em;}#sk-container-id-1 div.sk-estimator:hover {background-color: #d4ebff;}#sk-container-id-1 div.sk-parallel-item::after {content: \"\";width: 100%;border-bottom: 1px solid gray;flex-grow: 1;}#sk-container-id-1 div.sk-label:hover label.sk-toggleable__label {background-color: #d4ebff;}#sk-container-id-1 div.sk-serial::before {content: \"\";position: absolute;border-left: 1px solid gray;box-sizing: border-box;top: 0;bottom: 0;left: 50%;z-index: 0;}#sk-container-id-1 div.sk-serial {display: flex;flex-direction: column;align-items: center;background-color: white;padding-right: 0.2em;padding-left: 0.2em;position: relative;}#sk-container-id-1 div.sk-item {position: relative;z-index: 1;}#sk-container-id-1 div.sk-parallel {display: flex;align-items: stretch;justify-content: center;background-color: white;position: relative;}#sk-container-id-1 div.sk-item::before, #sk-container-id-1 div.sk-parallel-item::before {content: \"\";position: absolute;border-left: 1px solid gray;box-sizing: border-box;top: 0;bottom: 0;left: 50%;z-index: -1;}#sk-container-id-1 div.sk-parallel-item {display: flex;flex-direction: column;z-index: 1;position: relative;background-color: white;}#sk-container-id-1 div.sk-parallel-item:first-child::after {align-self: flex-end;width: 50%;}#sk-container-id-1 div.sk-parallel-item:last-child::after {align-self: flex-start;width: 50%;}#sk-container-id-1 div.sk-parallel-item:only-child::after {width: 0;}#sk-container-id-1 div.sk-dashed-wrapped {border: 1px dashed gray;margin: 0 0.4em 0.5em 0.4em;box-sizing: border-box;padding-bottom: 0.4em;background-color: white;}#sk-container-id-1 div.sk-label label {font-family: monospace;font-weight: bold;display: inline-block;line-height: 1.2em;}#sk-container-id-1 div.sk-label-container {text-align: center;}#sk-container-id-1 div.sk-container {/* jupyter's `normalize.less` sets `[hidden] { display: none; }` but bootstrap.min.css set `[hidden] { display: none !important; }` so we also need the `!important` here to be able to override the default hidden behavior on the sphinx rendered scikit-learn.org. See: https://github.com/scikit-learn/scikit-learn/issues/21755 */display: inline-block !important;position: relative;}#sk-container-id-1 div.sk-text-repr-fallback {display: none;}</style><div id=\"sk-container-id-1\" class=\"sk-top-container\"><div class=\"sk-text-repr-fallback\"><pre>MultinomialNB()</pre><b>In a Jupyter environment, please rerun this cell to show the HTML representation or trust the notebook. <br />On GitHub, the HTML representation is unable to render, please try loading this page with nbviewer.org.</b></div><div class=\"sk-container\" hidden><div class=\"sk-item\"><div class=\"sk-estimator sk-toggleable\"><input class=\"sk-toggleable__control sk-hidden--visually\" id=\"sk-estimator-id-1\" type=\"checkbox\" checked><label for=\"sk-estimator-id-1\" class=\"sk-toggleable__label sk-toggleable__label-arrow\">MultinomialNB</label><div class=\"sk-toggleable__content\"><pre>MultinomialNB()</pre></div></div></div></div></div>"
      ],
      "text/plain": [
       "MultinomialNB()"
      ]
     },
     "execution_count": 7,
     "metadata": {},
     "output_type": "execute_result"
    }
   ],
   "source": [
    "# 建立貝葉斯分類器物件\n",
    "clf = MultinomialNB()\n",
    "\n",
    "# 訓練模型\n",
    "clf.fit(X_train_transformed, y_train)"
   ]
  },
  {
   "cell_type": "code",
   "execution_count": 8,
   "id": "3b9b6a99",
   "metadata": {},
   "outputs": [
    {
     "name": "stdout",
     "output_type": "stream",
     "text": [
      "['他 的 身高 很矮', '這是 一個 壞 例子', '他 的 速度 真 快', '他 是 我 最好 的 朋友', '今天 天氣 不好', '他 的 身高 不 矮', '這個 測試 不難', '他 的 速度 真慢', '他 不是 我 最壞 的 朋友', '這個 數字 不是 五', '這是 一個 句子', '這個 測試 真難']\n",
      "[1 0 0 0 1 1 1 0 0 1 0 1]\n"
     ]
    }
   ],
   "source": [
    "# 進行預測\n",
    "y_pred = clf.predict(X_test_transformed)\n",
    "\n",
    "# 輸出預測結果\n",
    "print(X_test)\n",
    "print(y_pred)"
   ]
  },
  {
   "cell_type": "code",
   "execution_count": 9,
   "id": "4ac30ae0",
   "metadata": {},
   "outputs": [
    {
     "data": {
      "text/plain": [
       "0.3333333333333333"
      ]
     },
     "execution_count": 9,
     "metadata": {},
     "output_type": "execute_result"
    }
   ],
   "source": [
    "accuracy_score(y_test, y_pred)"
   ]
  }
 ],
 "metadata": {
  "kernelspec": {
   "display_name": "python3@nlp",
   "language": "python",
   "name": "k_nlp"
  },
  "language_info": {
   "codemirror_mode": {
    "name": "ipython",
    "version": 3
   },
   "file_extension": ".py",
   "mimetype": "text/x-python",
   "name": "python",
   "nbconvert_exporter": "python",
   "pygments_lexer": "ipython3",
   "version": "3.10.11"
  }
 },
 "nbformat": 4,
 "nbformat_minor": 5
}
