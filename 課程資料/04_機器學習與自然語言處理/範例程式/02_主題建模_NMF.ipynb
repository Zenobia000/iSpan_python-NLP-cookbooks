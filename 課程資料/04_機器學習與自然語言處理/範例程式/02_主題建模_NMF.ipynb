{
 "cells": [
  {
   "cell_type": "code",
   "execution_count": 1,
   "id": "b664be62",
   "metadata": {},
   "outputs": [
    {
     "name": "stderr",
     "output_type": "stream",
     "text": [
      "Building prefix dict from the default dictionary ...\n",
      "Loading model from cache C:\\Users\\darren\\AppData\\Local\\Temp\\jieba.cache\n",
      "Loading model cost 0.624 seconds.\n",
      "Prefix dict has been built successfully.\n"
     ]
    },
    {
     "name": "stdout",
     "output_type": "stream",
     "text": [
      "Topic #1:\n",
      "食物 主要 等等 內容 這是 文本 談論 披薩和漢堡 第三 烘焙\n",
      "Topic #2:\n",
      "談論 文本 這是 內容 科技 產品 偏重 第二 智能家居 第一\n"
     ]
    }
   ],
   "source": [
    "from sklearn.feature_extraction.text import CountVectorizer\n",
    "from sklearn.decomposition import LatentDirichletAllocation\n",
    "import jieba\n",
    "\n",
    "# 假設我們有以下的文本資料，這些文本資料可能是從檔案讀取，也可能是從網路爬蟲取得\n",
    "documents = [\n",
    "    '這是第一個文本的內容，主要在談論科技產品如電腦、手機等等。',\n",
    "    '這是第二個文本的內容，也在談論科技產品，但更偏重在智能家居。',\n",
    "    '這是第三個文本的內容，主要在談論食物如披薩和漢堡等等。',\n",
    "    '這是第四個文本的內容，也在談論食物，但更偏重在烘焙製品。',\n",
    "    # 更多的文本資料...\n",
    "]\n",
    "\n",
    "# 使用 jieba 進行斷詞，並將斷詞的結果以空格分隔\n",
    "documents = [' '.join(jieba.cut(doc)) for doc in documents]\n",
    "\n",
    "# 使用 CountVectorizer 進行詞頻統計，並建立詞頻矩陣\n",
    "vectorizer = CountVectorizer()\n",
    "X = vectorizer.fit_transform(documents)\n",
    "\n",
    "# 使用 LDA 進行主題模型訓練\n",
    "lda = LatentDirichletAllocation(n_components=2, random_state=42)\n",
    "lda.fit(X)\n",
    "\n",
    "# 印出每一個主題下權重較高的詞語\n",
    "feature_names = vectorizer.get_feature_names_out()\n",
    "for topic_idx, topic in enumerate(lda.components_):\n",
    "    print(f\"Topic #{topic_idx + 1}:\")\n",
    "    print(\" \".join([feature_names[i] for i in topic.argsort()[:-10 - 1:-1]]))"
   ]
  }
 ],
 "metadata": {
  "kernelspec": {
   "display_name": "python3@nlp",
   "language": "python",
   "name": "k_nlp"
  },
  "language_info": {
   "codemirror_mode": {
    "name": "ipython",
    "version": 3
   },
   "file_extension": ".py",
   "mimetype": "text/x-python",
   "name": "python",
   "nbconvert_exporter": "python",
   "pygments_lexer": "ipython3",
   "version": "3.10.11"
  }
 },
 "nbformat": 4,
 "nbformat_minor": 5
}
