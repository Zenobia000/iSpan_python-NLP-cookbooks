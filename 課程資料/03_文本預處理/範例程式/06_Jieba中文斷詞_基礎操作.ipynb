{
 "cells": [
  {
   "attachments": {},
   "cell_type": "markdown",
   "id": "c8ae891d",
   "metadata": {},
   "source": [
    "# 使用 Jieba 分詞工具\n",
    "- [jieba](https://github.com/fxsjy/jieba)"
   ]
  },
  {
   "cell_type": "code",
   "execution_count": 12,
   "id": "b733060d",
   "metadata": {},
   "outputs": [
    {
     "name": "stdout",
     "output_type": "stream",
     "text": [
      "Defaulting to user installation because normal site-packages is not writeable\n",
      "Requirement already satisfied: jieba in c:\\program files\\python310\\lib\\site-packages (0.42.1)\n"
     ]
    }
   ],
   "source": [
    "!pip install jieba"
   ]
  },
  {
   "cell_type": "code",
   "execution_count": 1,
   "id": "923c4e38",
   "metadata": {},
   "outputs": [],
   "source": [
    "# 匯入套件\n",
    "import jieba"
   ]
  },
  {
   "attachments": {},
   "cell_type": "markdown",
   "id": "b4a65129",
   "metadata": {},
   "source": [
    "# 嘗式簡單地分詞，以及去除停用詞"
   ]
  },
  {
   "cell_type": "code",
   "execution_count": 6,
   "id": "279d41f9",
   "metadata": {},
   "outputs": [
    {
     "data": {
      "text/plain": [
       "['這是', '使用', 'Jieba', 'sklearn', '進行', '中', '文字', '預處理', '範例']"
      ]
     },
     "execution_count": 6,
     "metadata": {},
     "output_type": "execute_result"
    }
   ],
   "source": [
    "# 輸入文本\n",
    "text = \"這是使用 Jieba 和 sklearn 進行中文字預處理的範例。\"\n",
    "\n",
    "# 文本清洗，去除標點符號與數字等非字母的字符\n",
    "text = ''.join(c for c in text if c.isalpha())\n",
    "\n",
    "# 分詞 (cut 是用於 iteration 的斷詞函式， lcut是將斷詞以 list 格式回傳)\n",
    "tokens = jieba.lcut(text)\n",
    "\n",
    "# 去除停用詞，這邊為了簡化，我們預先定義一個停用詞列表\n",
    "stop_words = ['和', '的', '是', '這']\n",
    "tokens = [word for word in tokens if word not in stop_words]; tokens\n"
   ]
  },
  {
   "attachments": {},
   "cell_type": "markdown",
   "id": "f17c57c2",
   "metadata": {},
   "source": [
    "# 自定義字典補充"
   ]
  },
  {
   "cell_type": "code",
   "execution_count": 3,
   "id": "4fc68a52",
   "metadata": {},
   "outputs": [
    {
     "data": {
      "text/plain": [
       "['羅',\n",
       " '傑費',\n",
       " '德勒',\n",
       " '，',\n",
       " '已',\n",
       " '退役',\n",
       " '瑞士',\n",
       " '男子',\n",
       " '職業',\n",
       " '網球運動員',\n",
       " '，',\n",
       " '費',\n",
       " '德勒',\n",
       " '總共贏',\n",
       " '得',\n",
       " '20',\n",
       " '座',\n",
       " '大滿貫',\n",
       " '冠軍',\n",
       " '，',\n",
       " '單打',\n",
       " '世界排名',\n",
       " '第一',\n",
       " '累計',\n",
       " '310',\n",
       " '周',\n",
       " '，',\n",
       " '其中',\n",
       " '包括',\n",
       " '連續',\n",
       " '237',\n",
       " '周',\n",
       " '世界排名',\n",
       " '第一',\n",
       " '男子',\n",
       " '網壇',\n",
       " '紀錄',\n",
       " '，',\n",
       " '為',\n",
       " '網球史上',\n",
       " '最佳',\n",
       " '男子',\n",
       " '選手',\n",
       " '之一',\n",
       " '。',\n",
       " '費',\n",
       " '德勒',\n",
       " '生涯',\n",
       " '贏得',\n",
       " '103',\n",
       " '個',\n",
       " 'ATP',\n",
       " '單打冠軍',\n",
       " '，',\n",
       " '含',\n",
       " '20',\n",
       " '座',\n",
       " '大滿貫',\n",
       " '冠軍',\n",
       " '6',\n",
       " '座',\n",
       " 'ATP',\n",
       " '年終',\n",
       " '總決賽',\n",
       " '冠軍',\n",
       " '，',\n",
       " '以及',\n",
       " '28',\n",
       " '座',\n",
       " '大師賽',\n",
       " '冠軍',\n",
       " '。']"
      ]
     },
     "execution_count": 3,
     "metadata": {},
     "output_type": "execute_result"
    }
   ],
   "source": [
    "# 讀取自定義的字典\n",
    "# jieba.load_userdict('./dict.txt')\n",
    "\n",
    "# 自定義字詞\n",
    "jieba.add_word('網球史上')\n",
    "jieba.add_word('網球運動員')\n",
    "jieba.add_word('單打冠軍')\n",
    "jieba.add_word('冠軍')\n",
    "jieba.add_word('大滿貫')\n",
    "jieba.add_word('總決賽')\n",
    "jieba.add_word('大師賽')\n",
    "\n",
    "# 輸入文本\n",
    "text = '''羅傑費德勒，已退役的瑞士男子職業網球運動員，費德勒總共贏得20座大滿貫冠軍，單打世界排名第一累計310周，其中包括連續237周世界排名第一的男子網壇紀錄，為網球史上最佳的男子選手之一。費德勒生涯贏得103個ATP單打冠軍，含20座大滿貫冠軍和6座ATP年終總決賽冠軍，以及28座大師賽冠軍。'''\n",
    "\n",
    "# 分詞 (cut 是用於回傳 generator 的斷詞函式，lcut 是將斷詞以 list 格式回傳)\n",
    "tokens = jieba.lcut(text)\n",
    "\n",
    "# 去除停用詞，這邊為了簡化，我們預先定義一個停用詞列表\n",
    "stop_words = ['和', '的', '是', '這']\n",
    "tokens = [word for word in tokens if word not in stop_words]; tokens"
   ]
  },
  {
   "attachments": {},
   "cell_type": "markdown",
   "id": "7e382c7a",
   "metadata": {},
   "source": [
    "# 補充: 中文的 Part-of-Speech tagging"
   ]
  },
  {
   "cell_type": "code",
   "execution_count": 13,
   "id": "85e8443e",
   "metadata": {},
   "outputs": [
    {
     "name": "stdout",
     "output_type": "stream",
     "text": [
      "我 r\n",
      "喜歡 v\n",
      "看 v\n",
      "電影 n\n"
     ]
    }
   ],
   "source": [
    "# POS tagging\n",
    "import jieba.posseg as pseg\n",
    "\n",
    "# 假設我們有以下句子\n",
    "sentence = \"我喜歡看電影\"\n",
    "\n",
    "# 使用jieba進行詞性標注\n",
    "words = pseg.cut(sentence)\n",
    "\n",
    "# 列印每個詞及其詞性\n",
    "for word, flag in words:\n",
    "    print(f'{word} {flag}')"
   ]
  },
  {
   "cell_type": "code",
   "execution_count": 1,
   "id": "0f3c5b58",
   "metadata": {},
   "outputs": [
    {
     "name": "stderr",
     "output_type": "stream",
     "text": [
      "Building prefix dict from the default dictionary ...\n",
      "Loading model from cache C:\\Users\\xdxd2\\AppData\\Local\\Temp\\jieba.cache\n",
      "Loading model cost 2.257 seconds.\n",
      "Prefix dict has been built successfully.\n"
     ]
    },
    {
     "name": "stdout",
     "output_type": "stream",
     "text": [
      "我 r\n",
      "喜歡 v\n",
      "喝 vg\n",
      "珍奶 n\n"
     ]
    }
   ],
   "source": [
    "import jieba.posseg as pseg\n",
    "\n",
    "sentence = \"我喜歡喝珍奶\"\n",
    "\n",
    "words = pseg.cut(sentence)\n",
    "\n",
    "for word, flag in words: \n",
    "    print(word, flag)\n",
    "\n"
   ]
  }
 ],
 "metadata": {
  "kernelspec": {
   "display_name": "Python 3",
   "language": "python",
   "name": "python3"
  },
  "language_info": {
   "codemirror_mode": {
    "name": "ipython",
    "version": 3
   },
   "file_extension": ".py",
   "mimetype": "text/x-python",
   "name": "python",
   "nbconvert_exporter": "python",
   "pygments_lexer": "ipython3",
   "version": "3.10.7"
  }
 },
 "nbformat": 4,
 "nbformat_minor": 5
}
