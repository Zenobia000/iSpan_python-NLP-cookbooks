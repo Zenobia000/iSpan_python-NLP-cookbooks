{
 "cells": [
  {
   "attachments": {},
   "cell_type": "markdown",
   "id": "c4c1da3f",
   "metadata": {},
   "source": [
    "# OpenCC\n",
    "- [https://github.com/BYVoid/OpenCC](https://github.com/BYVoid/OpenCC)"
   ]
  },
  {
   "cell_type": "code",
   "execution_count": 1,
   "id": "f879cc2c",
   "metadata": {},
   "outputs": [
    {
     "name": "stdout",
     "output_type": "stream",
     "text": [
      "Defaulting to user installation because normal site-packages is not writeable\n",
      "Collecting opencc-python-reimplemented\n",
      "  Downloading opencc_python_reimplemented-0.1.7-py2.py3-none-any.whl (481 kB)\n",
      "     -------------------------------------- 481.8/481.8 kB 1.6 MB/s eta 0:00:00\n",
      "Installing collected packages: opencc-python-reimplemented\n",
      "Successfully installed opencc-python-reimplemented-0.1.7\n"
     ]
    }
   ],
   "source": [
    "!pip install opencc-python-reimplemented"
   ]
  },
  {
   "attachments": {},
   "cell_type": "markdown",
   "id": "305fa732",
   "metadata": {},
   "source": [
    "## 轉換配置\n",
    "- **s2t.json** Simplified Chinese to Traditional Chinese 簡體到繁體\n",
    "- **t2s.json** Traditional Chinese to Simplified Chinese 繁體到簡體\n",
    "- **s2tw.json** Simplified Chinese to Traditional Chinese (Taiwan Standard) 簡體到臺灣正體\n",
    "- **tw2s.json** Traditional Chinese (Taiwan Standard) to Simplified Chinese 臺灣正體到簡體\n",
    "- **s2hk.json** Simplified Chinese to Traditional Chinese (Hong Kong variant) 簡體到香港繁體\n",
    "- **hk2s.json** Traditional Chinese (Hong Kong variant) to Simplified Chinese 香港繁體到簡體\n",
    "- **s2twp.json** Simplified Chinese to Traditional Chinese (Taiwan Standard) with Taiwanese idiom 簡體到繁體（臺灣正體標準）並轉換爲臺灣常用詞彙\n",
    "- **tw2sp.json** Traditional Chinese (Taiwan Standard) to Simplified Chinese with Mainland Chinese idiom 繁體（臺灣正體標準）到簡體並轉換爲中國大陸常用詞彙\n",
    "- **t2tw.json** Traditional Chinese (OpenCC Standard) to Taiwan Standard 繁體（OpenCC 標準）到臺灣正體\n",
    "- **hk2t.json** Traditional Chinese (Hong Kong variant) to Traditional Chinese 香港繁體到繁體（OpenCC 標準）\n",
    "- **t2hk.json** Traditional Chinese (OpenCC Standard) to Hong Kong variant 繁體（OpenCC 標準）到香港繁體\n",
    "- **t2jp.json** Traditional Chinese Characters (Kyūjitai) to New Japanese Kanji (Shinjitai) 繁體（OpenCC 標準，舊字體）到日文新字體\n",
    "- **jp2t.json** New Japanese Kanji (Shinjitai) to Traditional Chinese Characters (Kyūjitai) 日文新字體到繁體（OpenCC 標準，舊字體）\n",
    "- **tw2t.json** Traditional Chinese (Taiwan standard) to Traditional Chinese 臺灣正體到繁體（OpenCC 標準）"
   ]
  },
  {
   "cell_type": "code",
   "execution_count": 2,
   "id": "273aa670",
   "metadata": {},
   "outputs": [
    {
     "name": "stdout",
     "output_type": "stream",
     "text": [
      "簡體中文\n"
     ]
    }
   ],
   "source": [
    "from opencc import OpenCC\n",
    "\n",
    "# 初始化 OpenCC，設定轉換的模式，這裡設定為's2tw'（簡體到臺灣使用的繁體）\n",
    "cc = OpenCC('s2tw')\n",
    "\n",
    "# 進行轉換\n",
    "to_convert = '简体中文'\n",
    "converted = cc.convert(to_convert)\n",
    "\n",
    "print(converted)  # 輸出轉換後的結果，應該會看到'简体中文'被轉換為'簡體中文'"
   ]
  }
 ],
 "metadata": {
  "kernelspec": {
   "display_name": "Python 3",
   "language": "python",
   "name": "python3"
  },
  "language_info": {
   "codemirror_mode": {
    "name": "ipython",
    "version": 3
   },
   "file_extension": ".py",
   "mimetype": "text/x-python",
   "name": "python",
   "nbconvert_exporter": "python",
   "pygments_lexer": "ipython3",
   "version": "3.10.7"
  }
 },
 "nbformat": 4,
 "nbformat_minor": 5
}
