{
 "cells": [
  {
   "cell_type": "code",
   "execution_count": 2,
   "id": "0820d8a3",
   "metadata": {},
   "outputs": [],
   "source": [
    "# 匯入套件\n",
    "import nltk\n",
    "from nltk.corpus import stopwords\n",
    "from nltk.stem import PorterStemmer, WordNetLemmatizer\n",
    "from nltk.tokenize import word_tokenize, sent_tokenize\n",
    "from sklearn.feature_extraction.text import CountVectorizer\n",
    "\n"
   ]
  },
  {
   "cell_type": "code",
   "execution_count": 3,
   "id": "1090c9e7",
   "metadata": {},
   "outputs": [
    {
     "name": "stderr",
     "output_type": "stream",
     "text": [
      "[nltk_data] Downloading package punkt to\n",
      "[nltk_data]     C:\\Users\\xdxd2\\AppData\\Roaming\\nltk_data...\n",
      "[nltk_data]   Package punkt is already up-to-date!\n",
      "[nltk_data] Downloading package stopwords to\n",
      "[nltk_data]     C:\\Users\\xdxd2\\AppData\\Roaming\\nltk_data...\n",
      "[nltk_data]   Package stopwords is already up-to-date!\n",
      "[nltk_data] Downloading package wordnet to\n",
      "[nltk_data]     C:\\Users\\xdxd2\\AppData\\Roaming\\nltk_data...\n",
      "[nltk_data]   Package wordnet is already up-to-date!\n"
     ]
    },
    {
     "data": {
      "text/plain": [
       "True"
      ]
     },
     "execution_count": 3,
     "metadata": {},
     "output_type": "execute_result"
    }
   ],
   "source": [
    "# 下載分詞器\n",
    "nltk.download('punkt')\n",
    "\n",
    "# 下載停用詞\n",
    "nltk.download('stopwords')\n",
    "\n",
    "# 下載已經定義字詞-語義關係來尋找上下位關係的英文詞典，也包含了同義詞、時態、名詞單複數等資訊\n",
    "nltk.download('wordnet')"
   ]
  },
  {
   "cell_type": "code",
   "execution_count": 4,
   "id": "a719f3bb",
   "metadata": {},
   "outputs": [],
   "source": [
    "# 輸入文本\n",
    "text = '''Hey Jude, don't make it bad. Take a sad song and make it better. Remember to let her into your heart. Then you can start to make it better. Hey Jude, don't be afraid. You were made to go out and get her. The minute you let her under your skin. Then you begin to make it better.'''"
   ]
  },
  {
   "cell_type": "code",
   "execution_count": 6,
   "id": "98a274f3",
   "metadata": {},
   "outputs": [
    {
     "data": {
      "text/plain": [
       "'Hey Jude dont make it bad Take a sad song and make it better Remember to let her into your heart Then you can start to make it better Hey Jude dont be afraid You were made to go out and get her The minute you let her under your skin Then you begin to make it better'"
      ]
     },
     "execution_count": 6,
     "metadata": {},
     "output_type": "execute_result"
    }
   ],
   "source": [
    "# 文本清洗，去除標點符號與數字等非字母的字符\n",
    "text = ''.join(c for c in text if c.isalpha() or c.isspace()); text"
   ]
  },
  {
   "cell_type": "code",
   "execution_count": 10,
   "id": "7158d974",
   "metadata": {},
   "outputs": [
    {
     "data": {
      "text/plain": [
       "['Hey',\n",
       " 'Jude',\n",
       " 'dont',\n",
       " 'make',\n",
       " 'it',\n",
       " 'bad',\n",
       " 'Take',\n",
       " 'a',\n",
       " 'sad',\n",
       " 'song',\n",
       " 'and',\n",
       " 'make',\n",
       " 'it',\n",
       " 'better',\n",
       " 'Remember',\n",
       " 'to',\n",
       " 'let',\n",
       " 'her',\n",
       " 'into',\n",
       " 'your',\n",
       " 'heart',\n",
       " 'Then',\n",
       " 'you',\n",
       " 'can',\n",
       " 'start',\n",
       " 'to',\n",
       " 'make',\n",
       " 'it',\n",
       " 'better',\n",
       " 'Hey',\n",
       " 'Jude',\n",
       " 'dont',\n",
       " 'be',\n",
       " 'afraid',\n",
       " 'You',\n",
       " 'were',\n",
       " 'made',\n",
       " 'to',\n",
       " 'go',\n",
       " 'out',\n",
       " 'and',\n",
       " 'get',\n",
       " 'her',\n",
       " 'The',\n",
       " 'minute',\n",
       " 'you',\n",
       " 'let',\n",
       " 'her',\n",
       " 'under',\n",
       " 'your',\n",
       " 'skin',\n",
       " 'Then',\n",
       " 'you',\n",
       " 'begin',\n",
       " 'to',\n",
       " 'make',\n",
       " 'it',\n",
       " 'better']"
      ]
     },
     "execution_count": 10,
     "metadata": {},
     "output_type": "execute_result"
    }
   ],
   "source": [
    "# 分詞\n",
    "tokens = word_tokenize(text); tokens\n"
   ]
  },
  {
   "cell_type": "code",
   "execution_count": 9,
   "id": "b269d85b",
   "metadata": {},
   "outputs": [
    {
     "data": {
      "text/plain": [
       "['hey',\n",
       " 'jude',\n",
       " 'dont',\n",
       " 'make',\n",
       " 'it',\n",
       " 'bad',\n",
       " 'take',\n",
       " 'a',\n",
       " 'sad',\n",
       " 'song',\n",
       " 'and',\n",
       " 'make',\n",
       " 'it',\n",
       " 'better',\n",
       " 'remember',\n",
       " 'to',\n",
       " 'let',\n",
       " 'her',\n",
       " 'into',\n",
       " 'your',\n",
       " 'heart',\n",
       " 'then',\n",
       " 'you',\n",
       " 'can',\n",
       " 'start',\n",
       " 'to',\n",
       " 'make',\n",
       " 'it',\n",
       " 'better',\n",
       " 'hey',\n",
       " 'jude',\n",
       " 'dont',\n",
       " 'be',\n",
       " 'afraid',\n",
       " 'you',\n",
       " 'were',\n",
       " 'made',\n",
       " 'to',\n",
       " 'go',\n",
       " 'out',\n",
       " 'and',\n",
       " 'get',\n",
       " 'her',\n",
       " 'the',\n",
       " 'minute',\n",
       " 'you',\n",
       " 'let',\n",
       " 'her',\n",
       " 'under',\n",
       " 'your',\n",
       " 'skin',\n",
       " 'then',\n",
       " 'you',\n",
       " 'begin',\n",
       " 'to',\n",
       " 'make',\n",
       " 'it',\n",
       " 'better']"
      ]
     },
     "execution_count": 9,
     "metadata": {},
     "output_type": "execute_result"
    }
   ],
   "source": [
    "# 轉換為小寫\n",
    "tokens = [word.lower() for word in tokens]; tokens"
   ]
  },
  {
   "attachments": {},
   "cell_type": "markdown",
   "id": "6203df1e",
   "metadata": {},
   "source": [
    "---"
   ]
  },
  {
   "cell_type": "code",
   "execution_count": 15,
   "id": "8f13f848",
   "metadata": {},
   "outputs": [
    {
     "data": {
      "text/plain": [
       "['Hey',\n",
       " 'Jude',\n",
       " 'dont',\n",
       " 'make',\n",
       " 'bad',\n",
       " 'Take',\n",
       " 'sad',\n",
       " 'song',\n",
       " 'make',\n",
       " 'better',\n",
       " 'Remember',\n",
       " 'let',\n",
       " 'heart',\n",
       " 'Then',\n",
       " 'start',\n",
       " 'make',\n",
       " 'better',\n",
       " 'Hey',\n",
       " 'Jude',\n",
       " 'dont',\n",
       " 'afraid',\n",
       " 'You',\n",
       " 'made',\n",
       " 'go',\n",
       " 'get',\n",
       " 'The',\n",
       " 'minute',\n",
       " 'let',\n",
       " 'skin',\n",
       " 'Then',\n",
       " 'begin',\n",
       " 'make',\n",
       " 'better']"
      ]
     },
     "execution_count": 15,
     "metadata": {},
     "output_type": "execute_result"
    }
   ],
   "source": [
    "# 去除停用詞\n",
    "stop_words = set(stopwords.words('english'))\n",
    "tokens = [word for word in tokens if word not in stop_words]; tokens"
   ]
  },
  {
   "cell_type": "code",
   "execution_count": 16,
   "id": "fcbcade0",
   "metadata": {},
   "outputs": [
    {
     "data": {
      "text/plain": [
       "['Hey',\n",
       " 'Jude',\n",
       " 'dont',\n",
       " 'make',\n",
       " 'bad',\n",
       " 'Take',\n",
       " 'sad',\n",
       " 'song',\n",
       " 'make',\n",
       " 'better',\n",
       " 'Remember',\n",
       " 'let',\n",
       " 'heart',\n",
       " 'Then',\n",
       " 'start',\n",
       " 'make',\n",
       " 'better',\n",
       " 'Hey',\n",
       " 'Jude',\n",
       " 'dont',\n",
       " 'afraid',\n",
       " 'You',\n",
       " 'made',\n",
       " 'go',\n",
       " 'get',\n",
       " 'The',\n",
       " 'minute',\n",
       " 'let',\n",
       " 'skin',\n",
       " 'Then',\n",
       " 'begin',\n",
       " 'make',\n",
       " 'better']"
      ]
     },
     "execution_count": 16,
     "metadata": {},
     "output_type": "execute_result"
    }
   ],
   "source": [
    "tokens = [ word for word in tokens if word not in stop_words]; tokens\n"
   ]
  },
  {
   "attachments": {},
   "cell_type": "markdown",
   "id": "9a407a5d",
   "metadata": {},
   "source": [
    "---"
   ]
  },
  {
   "cell_type": "code",
   "execution_count": 19,
   "id": "8a3ce390",
   "metadata": {},
   "outputs": [
    {
     "data": {
      "text/plain": [
       "['hey',\n",
       " 'jude',\n",
       " 'dont',\n",
       " 'make',\n",
       " 'bad',\n",
       " 'take',\n",
       " 'sad',\n",
       " 'song',\n",
       " 'make',\n",
       " 'better',\n",
       " 'rememb',\n",
       " 'let',\n",
       " 'heart',\n",
       " 'then',\n",
       " 'start',\n",
       " 'make',\n",
       " 'better',\n",
       " 'hey',\n",
       " 'jude',\n",
       " 'dont',\n",
       " 'afraid',\n",
       " 'you',\n",
       " 'made',\n",
       " 'go',\n",
       " 'get',\n",
       " 'the',\n",
       " 'minut',\n",
       " 'let',\n",
       " 'skin',\n",
       " 'then',\n",
       " 'begin',\n",
       " 'make',\n",
       " 'better']"
      ]
     },
     "execution_count": 19,
     "metadata": {},
     "output_type": "execute_result"
    }
   ],
   "source": [
    "# 詞幹提取\n",
    "ps = PorterStemmer()\n",
    "tokens_stem = [ps.stem(word) for word in tokens]; tokens_stem\n",
    "\n"
   ]
  },
  {
   "cell_type": "code",
   "execution_count": 20,
   "id": "e944b2c3",
   "metadata": {},
   "outputs": [
    {
     "data": {
      "text/plain": [
       "['Hey',\n",
       " 'Jude',\n",
       " 'dont',\n",
       " 'make',\n",
       " 'bad',\n",
       " 'Take',\n",
       " 'sad',\n",
       " 'song',\n",
       " 'make',\n",
       " 'better',\n",
       " 'Remember',\n",
       " 'let',\n",
       " 'heart',\n",
       " 'Then',\n",
       " 'start',\n",
       " 'make',\n",
       " 'better',\n",
       " 'Hey',\n",
       " 'Jude',\n",
       " 'dont',\n",
       " 'afraid',\n",
       " 'You',\n",
       " 'made',\n",
       " 'go',\n",
       " 'get',\n",
       " 'The',\n",
       " 'minute',\n",
       " 'let',\n",
       " 'skin',\n",
       " 'Then',\n",
       " 'begin',\n",
       " 'make',\n",
       " 'better']"
      ]
     },
     "execution_count": 20,
     "metadata": {},
     "output_type": "execute_result"
    }
   ],
   "source": [
    "# 詞形還原\n",
    "lemmatizer = WordNetLemmatizer()\n",
    "tokens_lemm = [lemmatizer.lemmatize(word) for word in tokens]; tokens_lemm"
   ]
  }
 ],
 "metadata": {
  "kernelspec": {
   "display_name": "Python 3",
   "language": "python",
   "name": "python3"
  },
  "language_info": {
   "codemirror_mode": {
    "name": "ipython",
    "version": 3
   },
   "file_extension": ".py",
   "mimetype": "text/x-python",
   "name": "python",
   "nbconvert_exporter": "python",
   "pygments_lexer": "ipython3",
   "version": "3.10.7"
  }
 },
 "nbformat": 4,
 "nbformat_minor": 5
}
