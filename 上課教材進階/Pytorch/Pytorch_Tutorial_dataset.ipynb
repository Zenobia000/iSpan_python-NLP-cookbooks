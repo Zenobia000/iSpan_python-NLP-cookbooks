{
  "cells": [
    {
      "cell_type": "markdown",
      "metadata": {
        "colab_type": "text",
        "id": "view-in-github"
      },
      "source": [
        "<a href=\"https://colab.research.google.com/github/ga642381/ML2021-Spring/blob/main/Pytorch/Pytorch_Tutorial.ipynb\" target=\"_parent\"><img src=\"https://colab.research.google.com/assets/colab-badge.svg\" alt=\"Open In Colab\"/></a>"
      ]
    },
    {
      "cell_type": "code",
      "execution_count": 2,
      "metadata": {},
      "outputs": [],
      "source": [
        "# pytorch Tutorial"
      ]
    },
    {
      "cell_type": "code",
      "execution_count": 3,
      "metadata": {},
      "outputs": [],
      "source": [
        "import torch\n",
        "import numpy as np"
      ]
    },
    {
      "cell_type": "code",
      "execution_count": 4,
      "metadata": {},
      "outputs": [
        {
          "data": {
            "text/plain": [
              "'1.13.1+cpu'"
            ]
          },
          "execution_count": 4,
          "metadata": {},
          "output_type": "execute_result"
        }
      ],
      "source": [
        "torch.__version__"
      ]
    },
    {
      "cell_type": "code",
      "execution_count": 5,
      "metadata": {},
      "outputs": [
        {
          "data": {
            "text/plain": [
              "tensor([[1, 2],\n",
              "        [3, 4],\n",
              "        [5, 6]])"
            ]
          },
          "execution_count": 5,
          "metadata": {},
          "output_type": "execute_result"
        }
      ],
      "source": [
        "tsr = torch.tensor([[1,2],[3,4],[5,6]]); tsr"
      ]
    },
    {
      "cell_type": "code",
      "execution_count": 6,
      "metadata": {},
      "outputs": [
        {
          "data": {
            "text/plain": [
              "tensor([[1., 2.],\n",
              "        [3., 4.],\n",
              "        [5., 6.]], dtype=torch.float64)"
            ]
          },
          "execution_count": 6,
          "metadata": {},
          "output_type": "execute_result"
        }
      ],
      "source": [
        "tsr = torch.tensor([[1,2],[3,4],[5,6]], dtype=torch.float64); tsr"
      ]
    },
    {
      "cell_type": "code",
      "execution_count": 7,
      "metadata": {},
      "outputs": [
        {
          "data": {
            "text/plain": [
              "tensor([[0., 0., 0.],\n",
              "        [0., 0., 0.]])"
            ]
          },
          "execution_count": 7,
          "metadata": {},
          "output_type": "execute_result"
        }
      ],
      "source": [
        "tsr = torch.zeros([2,3]); tsr"
      ]
    },
    {
      "cell_type": "code",
      "execution_count": 8,
      "metadata": {},
      "outputs": [
        {
          "data": {
            "text/plain": [
              "tensor([[1., 1., 1.],\n",
              "        [1., 1., 1.]])"
            ]
          },
          "execution_count": 8,
          "metadata": {},
          "output_type": "execute_result"
        }
      ],
      "source": [
        "tsr = torch.ones([2,3]); tsr"
      ]
    },
    {
      "cell_type": "code",
      "execution_count": 9,
      "metadata": {},
      "outputs": [
        {
          "name": "stdout",
          "output_type": "stream",
          "text": [
            "No GPU available. Using CPU.\n"
          ]
        }
      ],
      "source": [
        "if torch.cuda.is_available():\n",
        "    # Get the number of available GPUs\n",
        "    num_gpus = torch.cuda.device_count()\n",
        "    \n",
        "    # Get the name of the current GPU\n",
        "    current_gpu_name = torch.cuda.get_device_name(0)  # Assuming you have at least one GPU\n",
        "    \n",
        "    print(f\"Number of available GPUs: {num_gpus}\")\n",
        "    print(f\"Current GPU name: {current_gpu_name}\")\n",
        "       \n",
        "    # Now, operations will be performed on the GPU by default if available\n",
        "    cuda0 = torch.device('cuda:0')\n",
        "    tsr = torch.tensor([[1,2],[3,4],[5,6]], dtype=torch.float64, device=cuda0)\n",
        "else:\n",
        "    print(\"No GPU available. Using CPU.\")\n",
        "\n",
        "cuda0 = torch.device('cuda', 0)\n",
        "cuda1 = torch.device('cuda', 1)\n",
        "cpu = torch.device('cpu')\n",
        "\n"
      ]
    },
    {
      "cell_type": "markdown",
      "metadata": {},
      "source": [
        "### **tensor data type**\n",
        "![**tensor data type**](https://miro.medium.com/v2/resize:fit:1100/format:webp/1*CHitOyDsG5fXhR80cAT3Ag.png)"
      ]
    },
    {
      "cell_type": "code",
      "execution_count": 10,
      "metadata": {},
      "outputs": [
        {
          "name": "stdout",
          "output_type": "stream",
          "text": [
            "numpy [[1. 1. 1.]\n",
            " [1. 1. 1.]]\n",
            "type: <class 'numpy.ndarray'>\n"
          ]
        }
      ],
      "source": [
        "# tensor transfer to numpy\n",
        "tsr2numpy = tsr.numpy()\n",
        "print('numpy', tsr2numpy)\n",
        "print('type:', type(tsr2numpy))\n"
      ]
    },
    {
      "cell_type": "code",
      "execution_count": 11,
      "metadata": {},
      "outputs": [
        {
          "name": "stdout",
          "output_type": "stream",
          "text": [
            "tensor: tensor([[1, 2, 3],\n",
            "        [4, 5, 6]], dtype=torch.int32)\n",
            "dtype: torch.int32\n",
            "tensor: tensor([[1., 2., 3.],\n",
            "        [4., 5., 6.]])\n",
            "dtype: torch.float32\n",
            "tensor: tensor([[1, 2, 3],\n",
            "        [4, 5, 6]], dtype=torch.int32)\n",
            "dtype: torch.int32\n",
            "tensor: tensor([[1, 2, 3],\n",
            "        [4, 5, 6]], dtype=torch.int32)\n",
            "dtype: torch.int32\n"
          ]
        }
      ],
      "source": [
        "# numpy transfer to tensor\n",
        "\n",
        "'''\n",
        "torch.Tensor\n",
        "torch.tensor\n",
        "torch.as_tensor\n",
        "torch.from_numpy\n",
        "\n",
        "'''\n",
        "arr = np.array([[1,2,3],[4,5,6]])\n",
        "\n",
        "#1 sol\n",
        "arr2tsr_1 = torch.tensor(arr)\n",
        "print(\"tensor:\", arr2tsr_1)\n",
        "print(\"dtype:\", arr2tsr_1.dtype)\n",
        "\n",
        "#2 sol\n",
        "arr2tsr_2 = torch.Tensor(arr)\n",
        "print(\"tensor:\", arr2tsr_2)\n",
        "print(\"dtype:\", arr2tsr_2.dtype)\n",
        "\n",
        "#3 sol\n",
        "arr2tsr_3 = torch.as_tensor(arr)\n",
        "print(\"tensor:\", arr2tsr_3)\n",
        "print(\"dtype:\", arr2tsr_3.dtype)\n",
        "\n",
        "#4 sol\n",
        "arr2tsr_4 = torch.from_numpy(arr)\n",
        "print(\"tensor:\", arr2tsr_4)\n",
        "print(\"dtype:\", arr2tsr_4.dtype)\n",
        "\n",
        "\n"
      ]
    },
    {
      "cell_type": "code",
      "execution_count": 12,
      "metadata": {},
      "outputs": [
        {
          "name": "stdout",
          "output_type": "stream",
          "text": [
            "tensor([[1., 2.],\n",
            "        [3., 4.],\n",
            "        [5., 6.]], dtype=torch.float64, requires_grad=True)\n",
            "tensor([[ 1.0382, -1.6673, -1.3184],\n",
            "        [ 1.1860,  0.7999, -0.2902]], requires_grad=True)\n"
          ]
        }
      ],
      "source": [
        "# auto_grad\n",
        "# 設定 requires_grad 指定參數是否追蹤\n",
        "\n",
        "# 指定tensor\n",
        "tsr = torch.tensor([[1,2],[3,4],[5,6]], dtype=torch.float64, requires_grad=True)\n",
        "\n",
        "# 隨機tensor\n",
        "tsr_randn = torch.randn(2, 3, requires_grad=True)\n",
        "\n",
        "print(tsr)\n",
        "print(tsr_randn)\n"
      ]
    },
    {
      "cell_type": "code",
      "execution_count": 13,
      "metadata": {},
      "outputs": [
        {
          "name": "stdout",
          "output_type": "stream",
          "text": [
            "a tensor([[ 0.0621,  1.6762,  2.9234],\n",
            "        [-2.9613, -0.0165,  0.2321]], grad_fn=<MulBackward0>)\n",
            "b tensor([[ 0.4735,  1.8257,  2.7539],\n",
            "        [-3.7614,  1.6107,  0.8826]], grad_fn=<AddBackward0>)\n",
            "c tensor(3.7850, grad_fn=<SumBackward0>)\n",
            "tensor([[-0.8030, -1.6796,  1.6454],\n",
            "        [ 1.6146,  0.0370,  0.1649]])\n"
          ]
        }
      ],
      "source": [
        "# 梯度計算\n",
        "# 建立隨機數值的 Tensor 並設定 requires_grad=True\n",
        "x = torch.randn(2, 3, requires_grad=True)\n",
        "y = torch.randn(2, 3, requires_grad=True)\n",
        "z = torch.randn(2, 3, requires_grad=True)\n",
        "\n",
        "# 計算式子\n",
        "# b = x*y + z\n",
        "a = x * y\n",
        "print('a', a)\n",
        "b = a + z\n",
        "print('b', b)\n",
        "c = torch.sum(b)\n",
        "print('c', c)\n",
        "\n",
        "# 計算梯度\n",
        "c.backward()\n",
        "# 查看 x 的梯度值\n",
        "print(x.grad)\n",
        "\n"
      ]
    },
    {
      "cell_type": "code",
      "execution_count": 14,
      "metadata": {},
      "outputs": [],
      "source": [
        "# 停止梯度計算\n",
        "\n",
        "'''\n",
        "detach()\n",
        "with wotch.no_grad()\n",
        "@torch.no_grad()\n",
        "with torch.inference_mode()\n",
        "@torch.inference_mode()\n",
        "\n",
        "'''\n",
        "\n",
        "# 建立隨機數值的 Tensor 並設定 requires_grad=True\n",
        "x = torch.randn(2, 3, requires_grad=True)\n",
        "y = torch.randn(2, 3, requires_grad=True)\n",
        "z = torch.randn(2, 3, requires_grad=True)\n",
        "\n"
      ]
    },
    {
      "cell_type": "code",
      "execution_count": 15,
      "metadata": {},
      "outputs": [
        {
          "name": "stdout",
          "output_type": "stream",
          "text": [
            "d requires grad: False\n",
            "d grad: tensor([[-1.7193, -1.0222, -0.1774],\n",
            "        [-0.8746, -0.5173,  0.0445]])\n",
            "d grad: None\n"
          ]
        }
      ],
      "source": [
        "# 計算式子\n",
        "a = x * y\n",
        "b = a + z\n",
        "c = torch.sum(b)\n",
        "\n",
        "# 設定 detach()\n",
        "d = x.detach()\n",
        "\n",
        "# 查看是否追蹤 d 的梯度計算及數值\n",
        "print(\"d requires grad:\", d.requires_grad)\n",
        "print(\"d grad:\", d)\n",
        "print(\"d grad:\", d.grad)\n"
      ]
    },
    {
      "cell_type": "code",
      "execution_count": 16,
      "metadata": {},
      "outputs": [
        {
          "name": "stdout",
          "output_type": "stream",
          "text": [
            "set x requires_grad: True\n",
            "org c requires_grad: True\n"
          ]
        }
      ],
      "source": [
        "# 建立隨機數值的 Tensor 並設定 requires_grad=True\n",
        "x = torch.randn(2, 3, requires_grad=True)\n",
        "print('set x requires_grad:', x.requires_grad)\n",
        "y = torch.randn(2, 3, requires_grad=True)\n",
        "z = torch.randn(2, 3, requires_grad=True)\n",
        "# 計算式子\n",
        "a = x * y\n",
        "b = a + z\n",
        "\n",
        "# 輸出\n",
        "c = torch.sum(b) \n",
        "print('org c requires_grad:', c.requires_grad)\n",
        "\n"
      ]
    },
    {
      "cell_type": "code",
      "execution_count": 17,
      "metadata": {},
      "outputs": [
        {
          "name": "stdout",
          "output_type": "stream",
          "text": [
            "set x requires_grad: True\n",
            "no_grad org c requires_grad: False\n"
          ]
        }
      ],
      "source": [
        "# 建立隨機數值的 Tensor 並設定 requires_grad=True\n",
        "x = torch.randn(2, 3, requires_grad=True)\n",
        "print('set x requires_grad:', x.requires_grad)\n",
        "y = torch.randn(2, 3, requires_grad=True)\n",
        "z = torch.randn(2, 3, requires_grad=True)\n",
        "\n",
        "# 並設定 requires_grad=False\n",
        "with torch.no_grad():\n",
        "   a = x * y\n",
        "   b = a + z\n",
        "   c = torch.sum(b)\n",
        "   print(\"no_grad org c requires_grad:\", c.requires_grad)"
      ]
    },
    {
      "cell_type": "markdown",
      "metadata": {},
      "source": [
        "## 資料讀取\n",
        "### torch.utils.data.\n"
      ]
    },
    {
      "cell_type": "code",
      "execution_count": 18,
      "metadata": {},
      "outputs": [
        {
          "ename": "IndentationError",
          "evalue": "expected an indented block after function definition on line 9 (1651368747.py, line 13)",
          "output_type": "error",
          "traceback": [
            "\u001b[1;36m  Cell \u001b[1;32mIn [18], line 13\u001b[1;36m\u001b[0m\n\u001b[1;33m    def __getitem__(self, index):\u001b[0m\n\u001b[1;37m    ^\u001b[0m\n\u001b[1;31mIndentationError\u001b[0m\u001b[1;31m:\u001b[0m expected an indented block after function definition on line 9\n"
          ]
        }
      ],
      "source": [
        "# torch.utils.data.DataChunk\n",
        "# 若要定義自己的數據集，需要繼承 Datasets 抽象類別，以及重新 override __init__()、__getitem__()、__len__()。\n",
        "\n",
        "import torch\n",
        "import torchvision\n",
        "from torch.utils.data import Dataset\n",
        "\n",
        "'''\n",
        "\n",
        "## template\n",
        "\n",
        "class myDataset(Dataset):\n",
        "    def __init__(self):\n",
        "      # 定義初始化參數\n",
        "      # 讀取資料集路徑\n",
        "\n",
        "    def __getitem__(self, index):\n",
        "      # 讀取每次迭代的資料集中第 idx  資料\n",
        "      # 進行前處理 (torchvision.Transform 等)\n",
        "        return 資料和 label\n",
        "\n",
        "    def __len__(self):\n",
        "      # 計算資料集總共數量\n",
        "        return 資料集總數\n",
        "\n",
        "'''\n"
      ]
    },
    {
      "cell_type": "code",
      "execution_count": 19,
      "metadata": {},
      "outputs": [
        {
          "name": "stdout",
          "output_type": "stream",
          "text": [
            "{'cats': 0, 'dogs': 1}\n"
          ]
        }
      ],
      "source": [
        "from torchvision.datasets import ImageFolder\n",
        "image_folder = ImageFolder('./dog_cat_data/dataset/training_set', transform=None, target_transform=None)\n",
        "print(image_folder.class_to_idx)"
      ]
    },
    {
      "cell_type": "code",
      "execution_count": 20,
      "metadata": {},
      "outputs": [
        {
          "name": "stdout",
          "output_type": "stream",
          "text": [
            "data: tensor([[[[ 0.1597, -0.0116,  0.0912,  ...,  0.5707,  0.3994,  0.2624],\n",
            "          [ 0.2111, -0.0972,  0.2282,  ...,  0.5022,  0.4679,  0.4508],\n",
            "          [ 0.2111,  0.2282,  0.2967,  ...,  0.3481,  0.4337,  0.5022],\n",
            "          ...,\n",
            "          [ 0.9817,  0.9988,  1.0159,  ...,  0.9474,  0.9646,  0.9817],\n",
            "          [ 0.9303,  0.9474,  0.9817,  ...,  0.9988,  1.0159,  1.0159],\n",
            "          [ 0.8789,  0.9132,  0.9474,  ...,  0.9988,  1.0159,  1.0159]],\n",
            "\n",
            "         [[ 0.0301, -0.1275,  0.0126,  ...,  0.8704,  0.6779,  0.5203],\n",
            "          [ 0.1001, -0.1975,  0.1702,  ...,  0.7829,  0.7304,  0.6954],\n",
            "          [ 0.1176,  0.1702,  0.2402,  ...,  0.6078,  0.6779,  0.7479],\n",
            "          ...,\n",
            "          [ 0.9405,  0.9405,  0.9755,  ...,  0.8179,  0.8529,  0.8704],\n",
            "          [ 0.9055,  0.9055,  0.9405,  ...,  0.8354,  0.8529,  0.8529],\n",
            "          [ 0.8529,  0.8704,  0.8880,  ...,  0.8354,  0.8529,  0.8529]],\n",
            "\n",
            "         [[ 0.3393,  0.1999,  0.3742,  ...,  1.3851,  1.2108,  1.0539],\n",
            "          [ 0.4091,  0.1476,  0.5311,  ...,  1.3154,  1.2631,  1.2282],\n",
            "          [ 0.4614,  0.5136,  0.6182,  ...,  1.1062,  1.1934,  1.2805],\n",
            "          ...,\n",
            "          [ 1.1411,  1.1585,  1.1759,  ...,  0.9494,  0.9842,  1.0017],\n",
            "          [ 1.1062,  1.1062,  1.1411,  ...,  0.9842,  1.0017,  1.0017],\n",
            "          [ 1.0539,  1.0714,  1.1062,  ...,  0.9842,  1.0017,  1.0017]]]])\n",
            "label: tensor([1])\n"
          ]
        }
      ],
      "source": [
        "from torchvision.datasets import ImageFolder\n",
        "from torch.utils.data import Dataset\n",
        "from torch.utils.data import DataLoader\n",
        "from torchvision import transforms\n",
        "\n",
        "train_transform = transforms.Compose([\n",
        "                  transforms.Resize((256, 256)),\n",
        "                  transforms.ToTensor(),\n",
        "                  transforms.Normalize([0.485, 0.456, 0.406], [0.229, 0.224, 0.225])\n",
        "])\n",
        "# 使用 torchvision.datasets.ImageFolder 讀取貓狗資料\n",
        "image_folder = ImageFolder('./dog_cat_data/dataset/training_set', transform=train_transform, target_transform=None)\n",
        "# 建立 DataLoader，shuffle 為 True 表示會將資料進行打亂\n",
        "data_loader = DataLoader(dataset = image_folder, batch_size= 1, shuffle= True, num_workers= 4)\n",
        "# 列印數據\n",
        "for batch_idx, (data, target) in enumerate(data_loader):\n",
        "     print(\"data:\", data)\n",
        "     print(\"label:\", target)\n",
        "\n",
        "     if batch_idx == 0:\n",
        "          break\n",
        "\n"
      ]
    },
    {
      "cell_type": "code",
      "execution_count": null,
      "metadata": {},
      "outputs": [
        {
          "name": "stdout",
          "output_type": "stream",
          "text": [
            "Downloading https://www.cs.toronto.edu/~kriz/cifar-10-python.tar.gz to C:\\Users\\xdxd2\\Sunny_VS_worksapce\\Sunny_python\\lee hung yi\\ML2021-Spring\\Pytorch\\cifar-10-python.tar.gz\n"
          ]
        },
        {
          "data": {
            "application/vnd.jupyter.widget-view+json": {
              "model_id": "fda25812707b4682b4991c4e90d49299",
              "version_major": 2,
              "version_minor": 0
            },
            "text/plain": [
              "  0%|          | 0/170498071 [00:00<?, ?it/s]"
            ]
          },
          "metadata": {},
          "output_type": "display_data"
        },
        {
          "name": "stdout",
          "output_type": "stream",
          "text": [
            "Extracting C:\\Users\\xdxd2\\Sunny_VS_worksapce\\Sunny_python\\lee hung yi\\ML2021-Spring\\Pytorch\\cifar-10-python.tar.gz to C:\\Users\\xdxd2\\Sunny_VS_worksapce\\Sunny_python\\lee hung yi\\ML2021-Spring\\Pytorch\n"
          ]
        }
      ],
      "source": [
        "# 內建資料集下載 CIFAR10\n",
        "import torchvision\n",
        "cifar_data = torchvision.datasets.CIFAR10(root=r\"C:\\Users\\xdxd2\\Sunny_VS_worksapce\\Sunny_python\\lee hung yi\\ML2021-Spring\\Pytorch\", train=True, download=True)"
      ]
    },
    {
      "cell_type": "code",
      "execution_count": 49,
      "metadata": {},
      "outputs": [],
      "source": [
        "from torch.utils.data import Dataset\n",
        "import os\n",
        "import cv2\n",
        "\n",
        "class my_cat_data(Dataset):\n",
        "    def __init__(self, root_dir, label_dir):\n",
        "        self.root_dir = root_dir\n",
        "        self.label_dir = label_dir\n",
        "        self.path = os.path.join(self.root_dir, self.label_dir)\n",
        "        self.img_path = os.listdir(self.path)\n",
        "\n",
        "    def __getitem__(self, index):\n",
        "        img_name = self.img_path[index]\n",
        "        img_item_path = os.path.join(self.root_dir, self.label_dir, img_name)\n",
        "        \n",
        "        img = cv2.imread(img_item_path)\n",
        "        # cv2.imshow('Image', img)\n",
        "        # cv2.waitKey(0)  # 等待用户按下任意键\n",
        "        # cv2.destroyAllWindows()  # 关闭图像窗口\n",
        "\n",
        "        label = self.label_dir\n",
        "        label_ = -1\n",
        "        if label == \"cats\":\n",
        "            label_ = 1\n",
        "        elif label == \"dogs\":\n",
        "            label_ = 0\n",
        "        else:\n",
        "            lable_ = 2\n",
        "\n",
        "        return img, label_\n",
        "\n",
        "    def __len__(self):\n",
        "\n",
        "        return len(self.img_path)\n",
        "\n"
      ]
    },
    {
      "cell_type": "code",
      "execution_count": 77,
      "metadata": {},
      "outputs": [],
      "source": [
        "# 嘗試讀取圖片\n",
        "root_dir = r\"./dog_cat_data/dataset/training_set/\"\n",
        "label_dir = \"cats\"\n",
        "\n",
        "animal_dataset = my_cat_data(root_dir, label_dir)\n",
        "\n",
        "# # 读取图像文件\n",
        "image = animal_dataset[0][0]\n",
        "\n",
        "# 检查图像是否成功加载\n",
        "if image is not None:\n",
        "    # 图像加载成功，可以在这里进行处理\n",
        "    # 例如，显示图像\n",
        "    cv2.imshow('Image', image)\n",
        "    cv2.waitKey(0)  # 等待用户按下任意键\n",
        "    cv2.destroyAllWindows()  # 关闭图像窗口\n",
        "else:\n",
        "    # 图像加载失败\n",
        "    print('无法加载图像')"
      ]
    },
    {
      "cell_type": "code",
      "execution_count": 78,
      "metadata": {},
      "outputs": [],
      "source": [
        "# 整合數據集\n",
        "\n",
        "root_dir = r\"./dog_cat_data/dataset/training_set/\"\n",
        "cats_label_dir = \"cats\"\n",
        "dogs_label_dir = \"dogs\"\n",
        "\n",
        "cats_dataset = my_cat_data(root_dir, cats_label_dir)\n",
        "dogs_dataset = my_cat_data(root_dir, dogs_label_dir)\n",
        "\n",
        "animals_dataset = cats_dataset + dogs_dataset\n",
        "\n"
      ]
    },
    {
      "cell_type": "code",
      "execution_count": 39,
      "metadata": {},
      "outputs": [],
      "source": []
    }
  ],
  "metadata": {
    "accelerator": "GPU",
    "colab": {
      "collapsed_sections": [],
      "include_colab_link": true,
      "name": "Pytorch Tutorial",
      "provenance": []
    },
    "kernelspec": {
      "display_name": "Python 3",
      "name": "python3"
    },
    "language_info": {
      "codemirror_mode": {
        "name": "ipython",
        "version": 3
      },
      "file_extension": ".py",
      "mimetype": "text/x-python",
      "name": "python",
      "nbconvert_exporter": "python",
      "pygments_lexer": "ipython3",
      "version": "3.10.7"
    }
  },
  "nbformat": 4,
  "nbformat_minor": 0
}
